{
  "nbformat": 4,
  "nbformat_minor": 0,
  "metadata": {
    "colab": {
      "provenance": [],
      "collapsed_sections": [
        "CMubrSBv9s2F",
        "dXcQeBmdCZru",
        "CO6q0Kf8bI-v",
        "udEocDmYbAO3",
        "CVwRjMEAPe0k",
        "eRA394SAdizr",
        "p_YC9P-K1erm",
        "GowQDzooXMj4",
        "mUaWDxXP8fYO",
        "0PJVud9lTd9f",
        "phHimIkaThOG",
        "k-do7NGSbQY3",
        "LjIpoLJR8sDF",
        "cGKImwcqVFFw",
        "gavjRLSaVRI-",
        "cVLvz1pVbwWy",
        "rE2ue2Ud8sSF",
        "yJmHCtGuV2Og",
        "5HwGjxdpzKAC",
        "ESEFukEiV2Og",
        "B08Qrli8cHni",
        "1YVOKzsI8seP",
        "Pj83wWPoM4he",
        "9JD2KbOzVwWq",
        "Cu_kh0L3qa5I",
        "y_3EGObJSjxv",
        "OPRde-A2XoBs",
        "VXW1AWOld6wj",
        "5OqRtmoGa5Ah"
      ],
      "include_colab_link": true
    },
    "kernelspec": {
      "name": "python3",
      "display_name": "Python 3"
    },
    "language_info": {
      "name": "python"
    }
  },
  "cells": [
    {
      "cell_type": "markdown",
      "metadata": {
        "id": "view-in-github",
        "colab_type": "text"
      },
      "source": [
        "<a href=\"https://colab.research.google.com/github/HarrisKucukalic/CSS2_Group_3/blob/main/Isaac.ipynb\" target=\"_parent\"><img src=\"https://colab.research.google.com/assets/colab-badge.svg\" alt=\"Open In Colab\"/></a>"
      ]
    },
    {
      "cell_type": "markdown",
      "source": [
        "# Connect to Google Drive, Import Libraries and Datasets"
      ],
      "metadata": {
        "id": "CMubrSBv9s2F"
      }
    },
    {
      "cell_type": "markdown",
      "source": [
        "## Connect to drive and check Directory"
      ],
      "metadata": {
        "id": "gfOPGzz9-m-i"
      }
    },
    {
      "cell_type": "code",
      "execution_count": 1,
      "metadata": {
        "colab": {
          "base_uri": "https://localhost:8080/"
        },
        "id": "AZU1FVmrrPfs",
        "outputId": "5325c662-eedf-472a-baea-6b228e54a817"
      },
      "outputs": [
        {
          "output_type": "stream",
          "name": "stdout",
          "text": [
            "Mounted at /content/gdrive\n"
          ]
        }
      ],
      "source": [
        "from google.colab import drive\n",
        "drive.mount('/content/gdrive')"
      ]
    },
    {
      "cell_type": "code",
      "source": [
        "%cd /content/gdrive/Shareddrives/CSS2 - Research /Research Code"
      ],
      "metadata": {
        "colab": {
          "base_uri": "https://localhost:8080/"
        },
        "id": "9Oc1oA9-9z68",
        "outputId": "99b87f09-f58d-462d-cb75-902d85aaae10"
      },
      "execution_count": 2,
      "outputs": [
        {
          "output_type": "stream",
          "name": "stdout",
          "text": [
            "/content/gdrive/Shareddrives/CSS2 - Research /Research Code\n"
          ]
        }
      ]
    },
    {
      "cell_type": "code",
      "source": [
        "!ls"
      ],
      "metadata": {
        "colab": {
          "base_uri": "https://localhost:8080/"
        },
        "id": "AvpiiTZn-kgx",
        "outputId": "a864110e-0ab7-485d-b444-84d8e2d06c2f"
      },
      "execution_count": 3,
      "outputs": [
        {
          "output_type": "stream",
          "name": "stdout",
          "text": [
            "Angie.ipynb  Harris.ipynb  Samuel.ipynb   Timothy.ipynb\n",
            "desktop.ini  Isaac.ipynb   Test_data.csv  Train_data.csv\n"
          ]
        }
      ]
    },
    {
      "cell_type": "markdown",
      "source": [
        "## Import necessary libraries"
      ],
      "metadata": {
        "id": "iXEbwd5L-qzQ"
      }
    },
    {
      "cell_type": "code",
      "source": [
        "import pandas as pd\n",
        "import matplotlib.pyplot as plt\n",
        "import numpy as np\n",
        "import seaborn as sns\n",
        "sns.set_theme(rc={\"figure.dpi\":120, 'savefig.dpi':120})\n",
        "\n",
        "# Smote\n",
        "from imblearn.pipeline import make_pipeline\n",
        "from imblearn.base import BaseSampler\n",
        "from imblearn.under_sampling import RandomUnderSampler\n",
        "from imblearn.over_sampling import (SMOTE, RandomOverSampler)\n",
        "from imblearn.combine import SMOTEENN, SMOTETomek\n",
        "\n",
        "# sklearn\n",
        "import sklearn as sk\n",
        "from sklearn import *\n",
        "from sklearn.model_selection import cross_val_score\n",
        "from sklearn.model_selection import KFold\n",
        "from sklearn.preprocessing import LabelEncoder\n",
        "from sklearn.preprocessing import OneHotEncoder\n",
        "from sklearn.model_selection import train_test_split\n",
        "from sklearn.metrics import *\n",
        "# DT\n",
        "from sklearn.tree import DecisionTreeClassifier\n",
        "# kNN\n",
        "from sklearn.neighbors import KNeighborsClassifier\n",
        "# RF\n",
        "from sklearn.ensemble import RandomForestClassifier\n",
        "# SVM\n",
        "from sklearn.svm import SVC\n",
        "# NN (FNN - Binary classification)\n",
        "import tensorflow as tf\n",
        "from keras.layers import Dense, Dropout"
      ],
      "metadata": {
        "id": "_kAxVvUE-6IW"
      },
      "execution_count": 4,
      "outputs": []
    },
    {
      "cell_type": "markdown",
      "source": [
        "# Intrusion Dataset"
      ],
      "metadata": {
        "id": "vVoqz0q2XL1C"
      }
    },
    {
      "cell_type": "code",
      "source": [
        "intrusion_data =pd.read_csv('Train_data.csv')\n",
        "intrusion_data"
      ],
      "metadata": {
        "colab": {
          "base_uri": "https://localhost:8080/",
          "height": 443
        },
        "id": "kvxwi3mHW0aW",
        "outputId": "17fcedfe-4521-41ba-99cf-1c9a07cc56e2"
      },
      "execution_count": 5,
      "outputs": [
        {
          "output_type": "execute_result",
          "data": {
            "text/plain": [
              "       duration protocol_type   service  flag  src_bytes  dst_bytes  land  \\\n",
              "0             0           tcp  ftp_data    SF        491          0     0   \n",
              "1             0           udp     other    SF        146          0     0   \n",
              "2             0           tcp   private    S0          0          0     0   \n",
              "3             0           tcp      http    SF        232       8153     0   \n",
              "4             0           tcp      http    SF        199        420     0   \n",
              "...         ...           ...       ...   ...        ...        ...   ...   \n",
              "25187         0           tcp      exec  RSTO          0          0     0   \n",
              "25188         0           tcp  ftp_data    SF        334          0     0   \n",
              "25189         0           tcp   private   REJ          0          0     0   \n",
              "25190         0           tcp      nnsp    S0          0          0     0   \n",
              "25191         0           tcp    finger    S0          0          0     0   \n",
              "\n",
              "       wrong_fragment  urgent  hot  ...  dst_host_srv_count  \\\n",
              "0                   0       0    0  ...                  25   \n",
              "1                   0       0    0  ...                   1   \n",
              "2                   0       0    0  ...                  26   \n",
              "3                   0       0    0  ...                 255   \n",
              "4                   0       0    0  ...                 255   \n",
              "...               ...     ...  ...  ...                 ...   \n",
              "25187               0       0    0  ...                   7   \n",
              "25188               0       0    0  ...                  39   \n",
              "25189               0       0    0  ...                  13   \n",
              "25190               0       0    0  ...                  20   \n",
              "25191               0       0    0  ...                  49   \n",
              "\n",
              "       dst_host_same_srv_rate  dst_host_diff_srv_rate  \\\n",
              "0                        0.17                    0.03   \n",
              "1                        0.00                    0.60   \n",
              "2                        0.10                    0.05   \n",
              "3                        1.00                    0.00   \n",
              "4                        1.00                    0.00   \n",
              "...                       ...                     ...   \n",
              "25187                    0.03                    0.06   \n",
              "25188                    1.00                    0.00   \n",
              "25189                    0.05                    0.07   \n",
              "25190                    0.08                    0.06   \n",
              "25191                    0.19                    0.03   \n",
              "\n",
              "       dst_host_same_src_port_rate  dst_host_srv_diff_host_rate  \\\n",
              "0                             0.17                         0.00   \n",
              "1                             0.88                         0.00   \n",
              "2                             0.00                         0.00   \n",
              "3                             0.03                         0.04   \n",
              "4                             0.00                         0.00   \n",
              "...                            ...                          ...   \n",
              "25187                         0.00                         0.00   \n",
              "25188                         1.00                         0.18   \n",
              "25189                         0.00                         0.00   \n",
              "25190                         0.00                         0.00   \n",
              "25191                         0.01                         0.00   \n",
              "\n",
              "       dst_host_serror_rate  dst_host_srv_serror_rate  dst_host_rerror_rate  \\\n",
              "0                      0.00                      0.00                  0.05   \n",
              "1                      0.00                      0.00                  0.00   \n",
              "2                      1.00                      1.00                  0.00   \n",
              "3                      0.03                      0.01                  0.00   \n",
              "4                      0.00                      0.00                  0.00   \n",
              "...                     ...                       ...                   ...   \n",
              "25187                  0.00                      0.00                  1.00   \n",
              "25188                  0.00                      0.00                  0.00   \n",
              "25189                  0.00                      0.00                  1.00   \n",
              "25190                  1.00                      1.00                  0.00   \n",
              "25191                  1.00                      1.00                  0.00   \n",
              "\n",
              "       dst_host_srv_rerror_rate    class  \n",
              "0                          0.00   normal  \n",
              "1                          0.00   normal  \n",
              "2                          0.00  anomaly  \n",
              "3                          0.01   normal  \n",
              "4                          0.00   normal  \n",
              "...                         ...      ...  \n",
              "25187                      1.00  anomaly  \n",
              "25188                      0.00  anomaly  \n",
              "25189                      1.00  anomaly  \n",
              "25190                      0.00  anomaly  \n",
              "25191                      0.00  anomaly  \n",
              "\n",
              "[25192 rows x 42 columns]"
            ],
            "text/html": [
              "\n",
              "  <div id=\"df-a79c9721-0b39-4eed-92b7-c79a3e135e08\" class=\"colab-df-container\">\n",
              "    <div>\n",
              "<style scoped>\n",
              "    .dataframe tbody tr th:only-of-type {\n",
              "        vertical-align: middle;\n",
              "    }\n",
              "\n",
              "    .dataframe tbody tr th {\n",
              "        vertical-align: top;\n",
              "    }\n",
              "\n",
              "    .dataframe thead th {\n",
              "        text-align: right;\n",
              "    }\n",
              "</style>\n",
              "<table border=\"1\" class=\"dataframe\">\n",
              "  <thead>\n",
              "    <tr style=\"text-align: right;\">\n",
              "      <th></th>\n",
              "      <th>duration</th>\n",
              "      <th>protocol_type</th>\n",
              "      <th>service</th>\n",
              "      <th>flag</th>\n",
              "      <th>src_bytes</th>\n",
              "      <th>dst_bytes</th>\n",
              "      <th>land</th>\n",
              "      <th>wrong_fragment</th>\n",
              "      <th>urgent</th>\n",
              "      <th>hot</th>\n",
              "      <th>...</th>\n",
              "      <th>dst_host_srv_count</th>\n",
              "      <th>dst_host_same_srv_rate</th>\n",
              "      <th>dst_host_diff_srv_rate</th>\n",
              "      <th>dst_host_same_src_port_rate</th>\n",
              "      <th>dst_host_srv_diff_host_rate</th>\n",
              "      <th>dst_host_serror_rate</th>\n",
              "      <th>dst_host_srv_serror_rate</th>\n",
              "      <th>dst_host_rerror_rate</th>\n",
              "      <th>dst_host_srv_rerror_rate</th>\n",
              "      <th>class</th>\n",
              "    </tr>\n",
              "  </thead>\n",
              "  <tbody>\n",
              "    <tr>\n",
              "      <th>0</th>\n",
              "      <td>0</td>\n",
              "      <td>tcp</td>\n",
              "      <td>ftp_data</td>\n",
              "      <td>SF</td>\n",
              "      <td>491</td>\n",
              "      <td>0</td>\n",
              "      <td>0</td>\n",
              "      <td>0</td>\n",
              "      <td>0</td>\n",
              "      <td>0</td>\n",
              "      <td>...</td>\n",
              "      <td>25</td>\n",
              "      <td>0.17</td>\n",
              "      <td>0.03</td>\n",
              "      <td>0.17</td>\n",
              "      <td>0.00</td>\n",
              "      <td>0.00</td>\n",
              "      <td>0.00</td>\n",
              "      <td>0.05</td>\n",
              "      <td>0.00</td>\n",
              "      <td>normal</td>\n",
              "    </tr>\n",
              "    <tr>\n",
              "      <th>1</th>\n",
              "      <td>0</td>\n",
              "      <td>udp</td>\n",
              "      <td>other</td>\n",
              "      <td>SF</td>\n",
              "      <td>146</td>\n",
              "      <td>0</td>\n",
              "      <td>0</td>\n",
              "      <td>0</td>\n",
              "      <td>0</td>\n",
              "      <td>0</td>\n",
              "      <td>...</td>\n",
              "      <td>1</td>\n",
              "      <td>0.00</td>\n",
              "      <td>0.60</td>\n",
              "      <td>0.88</td>\n",
              "      <td>0.00</td>\n",
              "      <td>0.00</td>\n",
              "      <td>0.00</td>\n",
              "      <td>0.00</td>\n",
              "      <td>0.00</td>\n",
              "      <td>normal</td>\n",
              "    </tr>\n",
              "    <tr>\n",
              "      <th>2</th>\n",
              "      <td>0</td>\n",
              "      <td>tcp</td>\n",
              "      <td>private</td>\n",
              "      <td>S0</td>\n",
              "      <td>0</td>\n",
              "      <td>0</td>\n",
              "      <td>0</td>\n",
              "      <td>0</td>\n",
              "      <td>0</td>\n",
              "      <td>0</td>\n",
              "      <td>...</td>\n",
              "      <td>26</td>\n",
              "      <td>0.10</td>\n",
              "      <td>0.05</td>\n",
              "      <td>0.00</td>\n",
              "      <td>0.00</td>\n",
              "      <td>1.00</td>\n",
              "      <td>1.00</td>\n",
              "      <td>0.00</td>\n",
              "      <td>0.00</td>\n",
              "      <td>anomaly</td>\n",
              "    </tr>\n",
              "    <tr>\n",
              "      <th>3</th>\n",
              "      <td>0</td>\n",
              "      <td>tcp</td>\n",
              "      <td>http</td>\n",
              "      <td>SF</td>\n",
              "      <td>232</td>\n",
              "      <td>8153</td>\n",
              "      <td>0</td>\n",
              "      <td>0</td>\n",
              "      <td>0</td>\n",
              "      <td>0</td>\n",
              "      <td>...</td>\n",
              "      <td>255</td>\n",
              "      <td>1.00</td>\n",
              "      <td>0.00</td>\n",
              "      <td>0.03</td>\n",
              "      <td>0.04</td>\n",
              "      <td>0.03</td>\n",
              "      <td>0.01</td>\n",
              "      <td>0.00</td>\n",
              "      <td>0.01</td>\n",
              "      <td>normal</td>\n",
              "    </tr>\n",
              "    <tr>\n",
              "      <th>4</th>\n",
              "      <td>0</td>\n",
              "      <td>tcp</td>\n",
              "      <td>http</td>\n",
              "      <td>SF</td>\n",
              "      <td>199</td>\n",
              "      <td>420</td>\n",
              "      <td>0</td>\n",
              "      <td>0</td>\n",
              "      <td>0</td>\n",
              "      <td>0</td>\n",
              "      <td>...</td>\n",
              "      <td>255</td>\n",
              "      <td>1.00</td>\n",
              "      <td>0.00</td>\n",
              "      <td>0.00</td>\n",
              "      <td>0.00</td>\n",
              "      <td>0.00</td>\n",
              "      <td>0.00</td>\n",
              "      <td>0.00</td>\n",
              "      <td>0.00</td>\n",
              "      <td>normal</td>\n",
              "    </tr>\n",
              "    <tr>\n",
              "      <th>...</th>\n",
              "      <td>...</td>\n",
              "      <td>...</td>\n",
              "      <td>...</td>\n",
              "      <td>...</td>\n",
              "      <td>...</td>\n",
              "      <td>...</td>\n",
              "      <td>...</td>\n",
              "      <td>...</td>\n",
              "      <td>...</td>\n",
              "      <td>...</td>\n",
              "      <td>...</td>\n",
              "      <td>...</td>\n",
              "      <td>...</td>\n",
              "      <td>...</td>\n",
              "      <td>...</td>\n",
              "      <td>...</td>\n",
              "      <td>...</td>\n",
              "      <td>...</td>\n",
              "      <td>...</td>\n",
              "      <td>...</td>\n",
              "      <td>...</td>\n",
              "    </tr>\n",
              "    <tr>\n",
              "      <th>25187</th>\n",
              "      <td>0</td>\n",
              "      <td>tcp</td>\n",
              "      <td>exec</td>\n",
              "      <td>RSTO</td>\n",
              "      <td>0</td>\n",
              "      <td>0</td>\n",
              "      <td>0</td>\n",
              "      <td>0</td>\n",
              "      <td>0</td>\n",
              "      <td>0</td>\n",
              "      <td>...</td>\n",
              "      <td>7</td>\n",
              "      <td>0.03</td>\n",
              "      <td>0.06</td>\n",
              "      <td>0.00</td>\n",
              "      <td>0.00</td>\n",
              "      <td>0.00</td>\n",
              "      <td>0.00</td>\n",
              "      <td>1.00</td>\n",
              "      <td>1.00</td>\n",
              "      <td>anomaly</td>\n",
              "    </tr>\n",
              "    <tr>\n",
              "      <th>25188</th>\n",
              "      <td>0</td>\n",
              "      <td>tcp</td>\n",
              "      <td>ftp_data</td>\n",
              "      <td>SF</td>\n",
              "      <td>334</td>\n",
              "      <td>0</td>\n",
              "      <td>0</td>\n",
              "      <td>0</td>\n",
              "      <td>0</td>\n",
              "      <td>0</td>\n",
              "      <td>...</td>\n",
              "      <td>39</td>\n",
              "      <td>1.00</td>\n",
              "      <td>0.00</td>\n",
              "      <td>1.00</td>\n",
              "      <td>0.18</td>\n",
              "      <td>0.00</td>\n",
              "      <td>0.00</td>\n",
              "      <td>0.00</td>\n",
              "      <td>0.00</td>\n",
              "      <td>anomaly</td>\n",
              "    </tr>\n",
              "    <tr>\n",
              "      <th>25189</th>\n",
              "      <td>0</td>\n",
              "      <td>tcp</td>\n",
              "      <td>private</td>\n",
              "      <td>REJ</td>\n",
              "      <td>0</td>\n",
              "      <td>0</td>\n",
              "      <td>0</td>\n",
              "      <td>0</td>\n",
              "      <td>0</td>\n",
              "      <td>0</td>\n",
              "      <td>...</td>\n",
              "      <td>13</td>\n",
              "      <td>0.05</td>\n",
              "      <td>0.07</td>\n",
              "      <td>0.00</td>\n",
              "      <td>0.00</td>\n",
              "      <td>0.00</td>\n",
              "      <td>0.00</td>\n",
              "      <td>1.00</td>\n",
              "      <td>1.00</td>\n",
              "      <td>anomaly</td>\n",
              "    </tr>\n",
              "    <tr>\n",
              "      <th>25190</th>\n",
              "      <td>0</td>\n",
              "      <td>tcp</td>\n",
              "      <td>nnsp</td>\n",
              "      <td>S0</td>\n",
              "      <td>0</td>\n",
              "      <td>0</td>\n",
              "      <td>0</td>\n",
              "      <td>0</td>\n",
              "      <td>0</td>\n",
              "      <td>0</td>\n",
              "      <td>...</td>\n",
              "      <td>20</td>\n",
              "      <td>0.08</td>\n",
              "      <td>0.06</td>\n",
              "      <td>0.00</td>\n",
              "      <td>0.00</td>\n",
              "      <td>1.00</td>\n",
              "      <td>1.00</td>\n",
              "      <td>0.00</td>\n",
              "      <td>0.00</td>\n",
              "      <td>anomaly</td>\n",
              "    </tr>\n",
              "    <tr>\n",
              "      <th>25191</th>\n",
              "      <td>0</td>\n",
              "      <td>tcp</td>\n",
              "      <td>finger</td>\n",
              "      <td>S0</td>\n",
              "      <td>0</td>\n",
              "      <td>0</td>\n",
              "      <td>0</td>\n",
              "      <td>0</td>\n",
              "      <td>0</td>\n",
              "      <td>0</td>\n",
              "      <td>...</td>\n",
              "      <td>49</td>\n",
              "      <td>0.19</td>\n",
              "      <td>0.03</td>\n",
              "      <td>0.01</td>\n",
              "      <td>0.00</td>\n",
              "      <td>1.00</td>\n",
              "      <td>1.00</td>\n",
              "      <td>0.00</td>\n",
              "      <td>0.00</td>\n",
              "      <td>anomaly</td>\n",
              "    </tr>\n",
              "  </tbody>\n",
              "</table>\n",
              "<p>25192 rows × 42 columns</p>\n",
              "</div>\n",
              "    <div class=\"colab-df-buttons\">\n",
              "\n",
              "  <div class=\"colab-df-container\">\n",
              "    <button class=\"colab-df-convert\" onclick=\"convertToInteractive('df-a79c9721-0b39-4eed-92b7-c79a3e135e08')\"\n",
              "            title=\"Convert this dataframe to an interactive table.\"\n",
              "            style=\"display:none;\">\n",
              "\n",
              "  <svg xmlns=\"http://www.w3.org/2000/svg\" height=\"24px\" viewBox=\"0 -960 960 960\">\n",
              "    <path d=\"M120-120v-720h720v720H120Zm60-500h600v-160H180v160Zm220 220h160v-160H400v160Zm0 220h160v-160H400v160ZM180-400h160v-160H180v160Zm440 0h160v-160H620v160ZM180-180h160v-160H180v160Zm440 0h160v-160H620v160Z\"/>\n",
              "  </svg>\n",
              "    </button>\n",
              "\n",
              "  <style>\n",
              "    .colab-df-container {\n",
              "      display:flex;\n",
              "      gap: 12px;\n",
              "    }\n",
              "\n",
              "    .colab-df-convert {\n",
              "      background-color: #E8F0FE;\n",
              "      border: none;\n",
              "      border-radius: 50%;\n",
              "      cursor: pointer;\n",
              "      display: none;\n",
              "      fill: #1967D2;\n",
              "      height: 32px;\n",
              "      padding: 0 0 0 0;\n",
              "      width: 32px;\n",
              "    }\n",
              "\n",
              "    .colab-df-convert:hover {\n",
              "      background-color: #E2EBFA;\n",
              "      box-shadow: 0px 1px 2px rgba(60, 64, 67, 0.3), 0px 1px 3px 1px rgba(60, 64, 67, 0.15);\n",
              "      fill: #174EA6;\n",
              "    }\n",
              "\n",
              "    .colab-df-buttons div {\n",
              "      margin-bottom: 4px;\n",
              "    }\n",
              "\n",
              "    [theme=dark] .colab-df-convert {\n",
              "      background-color: #3B4455;\n",
              "      fill: #D2E3FC;\n",
              "    }\n",
              "\n",
              "    [theme=dark] .colab-df-convert:hover {\n",
              "      background-color: #434B5C;\n",
              "      box-shadow: 0px 1px 3px 1px rgba(0, 0, 0, 0.15);\n",
              "      filter: drop-shadow(0px 1px 2px rgba(0, 0, 0, 0.3));\n",
              "      fill: #FFFFFF;\n",
              "    }\n",
              "  </style>\n",
              "\n",
              "    <script>\n",
              "      const buttonEl =\n",
              "        document.querySelector('#df-a79c9721-0b39-4eed-92b7-c79a3e135e08 button.colab-df-convert');\n",
              "      buttonEl.style.display =\n",
              "        google.colab.kernel.accessAllowed ? 'block' : 'none';\n",
              "\n",
              "      async function convertToInteractive(key) {\n",
              "        const element = document.querySelector('#df-a79c9721-0b39-4eed-92b7-c79a3e135e08');\n",
              "        const dataTable =\n",
              "          await google.colab.kernel.invokeFunction('convertToInteractive',\n",
              "                                                    [key], {});\n",
              "        if (!dataTable) return;\n",
              "\n",
              "        const docLinkHtml = 'Like what you see? Visit the ' +\n",
              "          '<a target=\"_blank\" href=https://colab.research.google.com/notebooks/data_table.ipynb>data table notebook</a>'\n",
              "          + ' to learn more about interactive tables.';\n",
              "        element.innerHTML = '';\n",
              "        dataTable['output_type'] = 'display_data';\n",
              "        await google.colab.output.renderOutput(dataTable, element);\n",
              "        const docLink = document.createElement('div');\n",
              "        docLink.innerHTML = docLinkHtml;\n",
              "        element.appendChild(docLink);\n",
              "      }\n",
              "    </script>\n",
              "  </div>\n",
              "\n",
              "\n",
              "<div id=\"df-3550748f-683b-4e3c-9c5e-d373199c9add\">\n",
              "  <button class=\"colab-df-quickchart\" onclick=\"quickchart('df-3550748f-683b-4e3c-9c5e-d373199c9add')\"\n",
              "            title=\"Suggest charts\"\n",
              "            style=\"display:none;\">\n",
              "\n",
              "<svg xmlns=\"http://www.w3.org/2000/svg\" height=\"24px\"viewBox=\"0 0 24 24\"\n",
              "     width=\"24px\">\n",
              "    <g>\n",
              "        <path d=\"M19 3H5c-1.1 0-2 .9-2 2v14c0 1.1.9 2 2 2h14c1.1 0 2-.9 2-2V5c0-1.1-.9-2-2-2zM9 17H7v-7h2v7zm4 0h-2V7h2v10zm4 0h-2v-4h2v4z\"/>\n",
              "    </g>\n",
              "</svg>\n",
              "  </button>\n",
              "\n",
              "<style>\n",
              "  .colab-df-quickchart {\n",
              "      --bg-color: #E8F0FE;\n",
              "      --fill-color: #1967D2;\n",
              "      --hover-bg-color: #E2EBFA;\n",
              "      --hover-fill-color: #174EA6;\n",
              "      --disabled-fill-color: #AAA;\n",
              "      --disabled-bg-color: #DDD;\n",
              "  }\n",
              "\n",
              "  [theme=dark] .colab-df-quickchart {\n",
              "      --bg-color: #3B4455;\n",
              "      --fill-color: #D2E3FC;\n",
              "      --hover-bg-color: #434B5C;\n",
              "      --hover-fill-color: #FFFFFF;\n",
              "      --disabled-bg-color: #3B4455;\n",
              "      --disabled-fill-color: #666;\n",
              "  }\n",
              "\n",
              "  .colab-df-quickchart {\n",
              "    background-color: var(--bg-color);\n",
              "    border: none;\n",
              "    border-radius: 50%;\n",
              "    cursor: pointer;\n",
              "    display: none;\n",
              "    fill: var(--fill-color);\n",
              "    height: 32px;\n",
              "    padding: 0;\n",
              "    width: 32px;\n",
              "  }\n",
              "\n",
              "  .colab-df-quickchart:hover {\n",
              "    background-color: var(--hover-bg-color);\n",
              "    box-shadow: 0 1px 2px rgba(60, 64, 67, 0.3), 0 1px 3px 1px rgba(60, 64, 67, 0.15);\n",
              "    fill: var(--button-hover-fill-color);\n",
              "  }\n",
              "\n",
              "  .colab-df-quickchart-complete:disabled,\n",
              "  .colab-df-quickchart-complete:disabled:hover {\n",
              "    background-color: var(--disabled-bg-color);\n",
              "    fill: var(--disabled-fill-color);\n",
              "    box-shadow: none;\n",
              "  }\n",
              "\n",
              "  .colab-df-spinner {\n",
              "    border: 2px solid var(--fill-color);\n",
              "    border-color: transparent;\n",
              "    border-bottom-color: var(--fill-color);\n",
              "    animation:\n",
              "      spin 1s steps(1) infinite;\n",
              "  }\n",
              "\n",
              "  @keyframes spin {\n",
              "    0% {\n",
              "      border-color: transparent;\n",
              "      border-bottom-color: var(--fill-color);\n",
              "      border-left-color: var(--fill-color);\n",
              "    }\n",
              "    20% {\n",
              "      border-color: transparent;\n",
              "      border-left-color: var(--fill-color);\n",
              "      border-top-color: var(--fill-color);\n",
              "    }\n",
              "    30% {\n",
              "      border-color: transparent;\n",
              "      border-left-color: var(--fill-color);\n",
              "      border-top-color: var(--fill-color);\n",
              "      border-right-color: var(--fill-color);\n",
              "    }\n",
              "    40% {\n",
              "      border-color: transparent;\n",
              "      border-right-color: var(--fill-color);\n",
              "      border-top-color: var(--fill-color);\n",
              "    }\n",
              "    60% {\n",
              "      border-color: transparent;\n",
              "      border-right-color: var(--fill-color);\n",
              "    }\n",
              "    80% {\n",
              "      border-color: transparent;\n",
              "      border-right-color: var(--fill-color);\n",
              "      border-bottom-color: var(--fill-color);\n",
              "    }\n",
              "    90% {\n",
              "      border-color: transparent;\n",
              "      border-bottom-color: var(--fill-color);\n",
              "    }\n",
              "  }\n",
              "</style>\n",
              "\n",
              "  <script>\n",
              "    async function quickchart(key) {\n",
              "      const quickchartButtonEl =\n",
              "        document.querySelector('#' + key + ' button');\n",
              "      quickchartButtonEl.disabled = true;  // To prevent multiple clicks.\n",
              "      quickchartButtonEl.classList.add('colab-df-spinner');\n",
              "      try {\n",
              "        const charts = await google.colab.kernel.invokeFunction(\n",
              "            'suggestCharts', [key], {});\n",
              "      } catch (error) {\n",
              "        console.error('Error during call to suggestCharts:', error);\n",
              "      }\n",
              "      quickchartButtonEl.classList.remove('colab-df-spinner');\n",
              "      quickchartButtonEl.classList.add('colab-df-quickchart-complete');\n",
              "    }\n",
              "    (() => {\n",
              "      let quickchartButtonEl =\n",
              "        document.querySelector('#df-3550748f-683b-4e3c-9c5e-d373199c9add button');\n",
              "      quickchartButtonEl.style.display =\n",
              "        google.colab.kernel.accessAllowed ? 'block' : 'none';\n",
              "    })();\n",
              "  </script>\n",
              "</div>\n",
              "    </div>\n",
              "  </div>\n"
            ],
            "application/vnd.google.colaboratory.intrinsic+json": {
              "type": "dataframe",
              "variable_name": "intrusion_data"
            }
          },
          "metadata": {},
          "execution_count": 5
        }
      ]
    },
    {
      "cell_type": "markdown",
      "source": [
        "# Preprocessing"
      ],
      "metadata": {
        "id": "CO6q0Kf8bI-v"
      }
    },
    {
      "cell_type": "code",
      "source": [
        "total_rows = len(intrusion_data)\n",
        "\n",
        "missing_values = intrusion_data.isna().sum()\n",
        "\n",
        "percentage_missing = (missing_values / total_rows) * 100\n",
        "percentage_missing = percentage_missing.round(2)\n",
        "print(percentage_missing)"
      ],
      "metadata": {
        "colab": {
          "base_uri": "https://localhost:8080/"
        },
        "id": "53hmLOXW2deJ",
        "outputId": "f3915c91-8d76-47e3-aa57-ad82ba0161f9"
      },
      "execution_count": 6,
      "outputs": [
        {
          "output_type": "stream",
          "name": "stdout",
          "text": [
            "duration                       0.0\n",
            "protocol_type                  0.0\n",
            "service                        0.0\n",
            "flag                           0.0\n",
            "src_bytes                      0.0\n",
            "dst_bytes                      0.0\n",
            "land                           0.0\n",
            "wrong_fragment                 0.0\n",
            "urgent                         0.0\n",
            "hot                            0.0\n",
            "num_failed_logins              0.0\n",
            "logged_in                      0.0\n",
            "num_compromised                0.0\n",
            "root_shell                     0.0\n",
            "su_attempted                   0.0\n",
            "num_root                       0.0\n",
            "num_file_creations             0.0\n",
            "num_shells                     0.0\n",
            "num_access_files               0.0\n",
            "num_outbound_cmds              0.0\n",
            "is_host_login                  0.0\n",
            "is_guest_login                 0.0\n",
            "count                          0.0\n",
            "srv_count                      0.0\n",
            "serror_rate                    0.0\n",
            "srv_serror_rate                0.0\n",
            "rerror_rate                    0.0\n",
            "srv_rerror_rate                0.0\n",
            "same_srv_rate                  0.0\n",
            "diff_srv_rate                  0.0\n",
            "srv_diff_host_rate             0.0\n",
            "dst_host_count                 0.0\n",
            "dst_host_srv_count             0.0\n",
            "dst_host_same_srv_rate         0.0\n",
            "dst_host_diff_srv_rate         0.0\n",
            "dst_host_same_src_port_rate    0.0\n",
            "dst_host_srv_diff_host_rate    0.0\n",
            "dst_host_serror_rate           0.0\n",
            "dst_host_srv_serror_rate       0.0\n",
            "dst_host_rerror_rate           0.0\n",
            "dst_host_srv_rerror_rate       0.0\n",
            "class                          0.0\n",
            "dtype: float64\n"
          ]
        }
      ]
    },
    {
      "cell_type": "markdown",
      "source": [
        "#Attribute Analyses and Input selection"
      ],
      "metadata": {
        "id": "TJFQVOA_RbTL"
      }
    },
    {
      "cell_type": "code",
      "source": [
        "intrusion_data.describe()"
      ],
      "metadata": {
        "colab": {
          "base_uri": "https://localhost:8080/",
          "height": 349
        },
        "outputId": "8a1f2cd3-a2f2-4566-c6c3-4a08edf7f0d4",
        "id": "_Fv4rZThRbTM"
      },
      "execution_count": 10,
      "outputs": [
        {
          "output_type": "execute_result",
          "data": {
            "text/plain": [
              "           duration     src_bytes     dst_bytes          land  wrong_fragment  \\\n",
              "count  25192.000000  2.519200e+04  2.519200e+04  25192.000000    25192.000000   \n",
              "mean     305.054104  2.433063e+04  3.491847e+03      0.000079        0.023738   \n",
              "std     2686.555640  2.410805e+06  8.883072e+04      0.008910        0.260221   \n",
              "min        0.000000  0.000000e+00  0.000000e+00      0.000000        0.000000   \n",
              "25%        0.000000  0.000000e+00  0.000000e+00      0.000000        0.000000   \n",
              "50%        0.000000  4.400000e+01  0.000000e+00      0.000000        0.000000   \n",
              "75%        0.000000  2.790000e+02  5.302500e+02      0.000000        0.000000   \n",
              "max    42862.000000  3.817091e+08  5.151385e+06      1.000000        3.000000   \n",
              "\n",
              "            urgent           hot  num_failed_logins     logged_in  \\\n",
              "count  25192.00000  25192.000000       25192.000000  25192.000000   \n",
              "mean       0.00004      0.198039           0.001191      0.394768   \n",
              "std        0.00630      2.154202           0.045418      0.488811   \n",
              "min        0.00000      0.000000           0.000000      0.000000   \n",
              "25%        0.00000      0.000000           0.000000      0.000000   \n",
              "50%        0.00000      0.000000           0.000000      0.000000   \n",
              "75%        0.00000      0.000000           0.000000      1.000000   \n",
              "max        1.00000     77.000000           4.000000      1.000000   \n",
              "\n",
              "       num_compromised  ...  dst_host_count  dst_host_srv_count  \\\n",
              "count     25192.000000  ...    25192.000000        25192.000000   \n",
              "mean          0.227850  ...      182.532074          115.063036   \n",
              "std          10.417352  ...       98.993895          110.646850   \n",
              "min           0.000000  ...        0.000000            0.000000   \n",
              "25%           0.000000  ...       84.000000           10.000000   \n",
              "50%           0.000000  ...      255.000000           61.000000   \n",
              "75%           0.000000  ...      255.000000          255.000000   \n",
              "max         884.000000  ...      255.000000          255.000000   \n",
              "\n",
              "       dst_host_same_srv_rate  dst_host_diff_srv_rate  \\\n",
              "count            25192.000000            25192.000000   \n",
              "mean                 0.519791                0.082539   \n",
              "std                  0.448944                0.187191   \n",
              "min                  0.000000                0.000000   \n",
              "25%                  0.050000                0.000000   \n",
              "50%                  0.510000                0.030000   \n",
              "75%                  1.000000                0.070000   \n",
              "max                  1.000000                1.000000   \n",
              "\n",
              "       dst_host_same_src_port_rate  dst_host_srv_diff_host_rate  \\\n",
              "count                 25192.000000                 25192.000000   \n",
              "mean                      0.147453                     0.031844   \n",
              "std                       0.308367                     0.110575   \n",
              "min                       0.000000                     0.000000   \n",
              "25%                       0.000000                     0.000000   \n",
              "50%                       0.000000                     0.000000   \n",
              "75%                       0.060000                     0.020000   \n",
              "max                       1.000000                     1.000000   \n",
              "\n",
              "       dst_host_serror_rate  dst_host_srv_serror_rate  dst_host_rerror_rate  \\\n",
              "count          25192.000000              25192.000000          25192.000000   \n",
              "mean               0.285800                  0.279846              0.117800   \n",
              "std                0.445316                  0.446075              0.305869   \n",
              "min                0.000000                  0.000000              0.000000   \n",
              "25%                0.000000                  0.000000              0.000000   \n",
              "50%                0.000000                  0.000000              0.000000   \n",
              "75%                1.000000                  1.000000              0.000000   \n",
              "max                1.000000                  1.000000              1.000000   \n",
              "\n",
              "       dst_host_srv_rerror_rate  \n",
              "count              25192.000000  \n",
              "mean                   0.118769  \n",
              "std                    0.317333  \n",
              "min                    0.000000  \n",
              "25%                    0.000000  \n",
              "50%                    0.000000  \n",
              "75%                    0.000000  \n",
              "max                    1.000000  \n",
              "\n",
              "[8 rows x 38 columns]"
            ],
            "text/html": [
              "\n",
              "  <div id=\"df-5b449d74-5bbb-4d43-a1ae-c6f1ff130ca1\" class=\"colab-df-container\">\n",
              "    <div>\n",
              "<style scoped>\n",
              "    .dataframe tbody tr th:only-of-type {\n",
              "        vertical-align: middle;\n",
              "    }\n",
              "\n",
              "    .dataframe tbody tr th {\n",
              "        vertical-align: top;\n",
              "    }\n",
              "\n",
              "    .dataframe thead th {\n",
              "        text-align: right;\n",
              "    }\n",
              "</style>\n",
              "<table border=\"1\" class=\"dataframe\">\n",
              "  <thead>\n",
              "    <tr style=\"text-align: right;\">\n",
              "      <th></th>\n",
              "      <th>duration</th>\n",
              "      <th>src_bytes</th>\n",
              "      <th>dst_bytes</th>\n",
              "      <th>land</th>\n",
              "      <th>wrong_fragment</th>\n",
              "      <th>urgent</th>\n",
              "      <th>hot</th>\n",
              "      <th>num_failed_logins</th>\n",
              "      <th>logged_in</th>\n",
              "      <th>num_compromised</th>\n",
              "      <th>...</th>\n",
              "      <th>dst_host_count</th>\n",
              "      <th>dst_host_srv_count</th>\n",
              "      <th>dst_host_same_srv_rate</th>\n",
              "      <th>dst_host_diff_srv_rate</th>\n",
              "      <th>dst_host_same_src_port_rate</th>\n",
              "      <th>dst_host_srv_diff_host_rate</th>\n",
              "      <th>dst_host_serror_rate</th>\n",
              "      <th>dst_host_srv_serror_rate</th>\n",
              "      <th>dst_host_rerror_rate</th>\n",
              "      <th>dst_host_srv_rerror_rate</th>\n",
              "    </tr>\n",
              "  </thead>\n",
              "  <tbody>\n",
              "    <tr>\n",
              "      <th>count</th>\n",
              "      <td>25192.000000</td>\n",
              "      <td>2.519200e+04</td>\n",
              "      <td>2.519200e+04</td>\n",
              "      <td>25192.000000</td>\n",
              "      <td>25192.000000</td>\n",
              "      <td>25192.00000</td>\n",
              "      <td>25192.000000</td>\n",
              "      <td>25192.000000</td>\n",
              "      <td>25192.000000</td>\n",
              "      <td>25192.000000</td>\n",
              "      <td>...</td>\n",
              "      <td>25192.000000</td>\n",
              "      <td>25192.000000</td>\n",
              "      <td>25192.000000</td>\n",
              "      <td>25192.000000</td>\n",
              "      <td>25192.000000</td>\n",
              "      <td>25192.000000</td>\n",
              "      <td>25192.000000</td>\n",
              "      <td>25192.000000</td>\n",
              "      <td>25192.000000</td>\n",
              "      <td>25192.000000</td>\n",
              "    </tr>\n",
              "    <tr>\n",
              "      <th>mean</th>\n",
              "      <td>305.054104</td>\n",
              "      <td>2.433063e+04</td>\n",
              "      <td>3.491847e+03</td>\n",
              "      <td>0.000079</td>\n",
              "      <td>0.023738</td>\n",
              "      <td>0.00004</td>\n",
              "      <td>0.198039</td>\n",
              "      <td>0.001191</td>\n",
              "      <td>0.394768</td>\n",
              "      <td>0.227850</td>\n",
              "      <td>...</td>\n",
              "      <td>182.532074</td>\n",
              "      <td>115.063036</td>\n",
              "      <td>0.519791</td>\n",
              "      <td>0.082539</td>\n",
              "      <td>0.147453</td>\n",
              "      <td>0.031844</td>\n",
              "      <td>0.285800</td>\n",
              "      <td>0.279846</td>\n",
              "      <td>0.117800</td>\n",
              "      <td>0.118769</td>\n",
              "    </tr>\n",
              "    <tr>\n",
              "      <th>std</th>\n",
              "      <td>2686.555640</td>\n",
              "      <td>2.410805e+06</td>\n",
              "      <td>8.883072e+04</td>\n",
              "      <td>0.008910</td>\n",
              "      <td>0.260221</td>\n",
              "      <td>0.00630</td>\n",
              "      <td>2.154202</td>\n",
              "      <td>0.045418</td>\n",
              "      <td>0.488811</td>\n",
              "      <td>10.417352</td>\n",
              "      <td>...</td>\n",
              "      <td>98.993895</td>\n",
              "      <td>110.646850</td>\n",
              "      <td>0.448944</td>\n",
              "      <td>0.187191</td>\n",
              "      <td>0.308367</td>\n",
              "      <td>0.110575</td>\n",
              "      <td>0.445316</td>\n",
              "      <td>0.446075</td>\n",
              "      <td>0.305869</td>\n",
              "      <td>0.317333</td>\n",
              "    </tr>\n",
              "    <tr>\n",
              "      <th>min</th>\n",
              "      <td>0.000000</td>\n",
              "      <td>0.000000e+00</td>\n",
              "      <td>0.000000e+00</td>\n",
              "      <td>0.000000</td>\n",
              "      <td>0.000000</td>\n",
              "      <td>0.00000</td>\n",
              "      <td>0.000000</td>\n",
              "      <td>0.000000</td>\n",
              "      <td>0.000000</td>\n",
              "      <td>0.000000</td>\n",
              "      <td>...</td>\n",
              "      <td>0.000000</td>\n",
              "      <td>0.000000</td>\n",
              "      <td>0.000000</td>\n",
              "      <td>0.000000</td>\n",
              "      <td>0.000000</td>\n",
              "      <td>0.000000</td>\n",
              "      <td>0.000000</td>\n",
              "      <td>0.000000</td>\n",
              "      <td>0.000000</td>\n",
              "      <td>0.000000</td>\n",
              "    </tr>\n",
              "    <tr>\n",
              "      <th>25%</th>\n",
              "      <td>0.000000</td>\n",
              "      <td>0.000000e+00</td>\n",
              "      <td>0.000000e+00</td>\n",
              "      <td>0.000000</td>\n",
              "      <td>0.000000</td>\n",
              "      <td>0.00000</td>\n",
              "      <td>0.000000</td>\n",
              "      <td>0.000000</td>\n",
              "      <td>0.000000</td>\n",
              "      <td>0.000000</td>\n",
              "      <td>...</td>\n",
              "      <td>84.000000</td>\n",
              "      <td>10.000000</td>\n",
              "      <td>0.050000</td>\n",
              "      <td>0.000000</td>\n",
              "      <td>0.000000</td>\n",
              "      <td>0.000000</td>\n",
              "      <td>0.000000</td>\n",
              "      <td>0.000000</td>\n",
              "      <td>0.000000</td>\n",
              "      <td>0.000000</td>\n",
              "    </tr>\n",
              "    <tr>\n",
              "      <th>50%</th>\n",
              "      <td>0.000000</td>\n",
              "      <td>4.400000e+01</td>\n",
              "      <td>0.000000e+00</td>\n",
              "      <td>0.000000</td>\n",
              "      <td>0.000000</td>\n",
              "      <td>0.00000</td>\n",
              "      <td>0.000000</td>\n",
              "      <td>0.000000</td>\n",
              "      <td>0.000000</td>\n",
              "      <td>0.000000</td>\n",
              "      <td>...</td>\n",
              "      <td>255.000000</td>\n",
              "      <td>61.000000</td>\n",
              "      <td>0.510000</td>\n",
              "      <td>0.030000</td>\n",
              "      <td>0.000000</td>\n",
              "      <td>0.000000</td>\n",
              "      <td>0.000000</td>\n",
              "      <td>0.000000</td>\n",
              "      <td>0.000000</td>\n",
              "      <td>0.000000</td>\n",
              "    </tr>\n",
              "    <tr>\n",
              "      <th>75%</th>\n",
              "      <td>0.000000</td>\n",
              "      <td>2.790000e+02</td>\n",
              "      <td>5.302500e+02</td>\n",
              "      <td>0.000000</td>\n",
              "      <td>0.000000</td>\n",
              "      <td>0.00000</td>\n",
              "      <td>0.000000</td>\n",
              "      <td>0.000000</td>\n",
              "      <td>1.000000</td>\n",
              "      <td>0.000000</td>\n",
              "      <td>...</td>\n",
              "      <td>255.000000</td>\n",
              "      <td>255.000000</td>\n",
              "      <td>1.000000</td>\n",
              "      <td>0.070000</td>\n",
              "      <td>0.060000</td>\n",
              "      <td>0.020000</td>\n",
              "      <td>1.000000</td>\n",
              "      <td>1.000000</td>\n",
              "      <td>0.000000</td>\n",
              "      <td>0.000000</td>\n",
              "    </tr>\n",
              "    <tr>\n",
              "      <th>max</th>\n",
              "      <td>42862.000000</td>\n",
              "      <td>3.817091e+08</td>\n",
              "      <td>5.151385e+06</td>\n",
              "      <td>1.000000</td>\n",
              "      <td>3.000000</td>\n",
              "      <td>1.00000</td>\n",
              "      <td>77.000000</td>\n",
              "      <td>4.000000</td>\n",
              "      <td>1.000000</td>\n",
              "      <td>884.000000</td>\n",
              "      <td>...</td>\n",
              "      <td>255.000000</td>\n",
              "      <td>255.000000</td>\n",
              "      <td>1.000000</td>\n",
              "      <td>1.000000</td>\n",
              "      <td>1.000000</td>\n",
              "      <td>1.000000</td>\n",
              "      <td>1.000000</td>\n",
              "      <td>1.000000</td>\n",
              "      <td>1.000000</td>\n",
              "      <td>1.000000</td>\n",
              "    </tr>\n",
              "  </tbody>\n",
              "</table>\n",
              "<p>8 rows × 38 columns</p>\n",
              "</div>\n",
              "    <div class=\"colab-df-buttons\">\n",
              "\n",
              "  <div class=\"colab-df-container\">\n",
              "    <button class=\"colab-df-convert\" onclick=\"convertToInteractive('df-5b449d74-5bbb-4d43-a1ae-c6f1ff130ca1')\"\n",
              "            title=\"Convert this dataframe to an interactive table.\"\n",
              "            style=\"display:none;\">\n",
              "\n",
              "  <svg xmlns=\"http://www.w3.org/2000/svg\" height=\"24px\" viewBox=\"0 -960 960 960\">\n",
              "    <path d=\"M120-120v-720h720v720H120Zm60-500h600v-160H180v160Zm220 220h160v-160H400v160Zm0 220h160v-160H400v160ZM180-400h160v-160H180v160Zm440 0h160v-160H620v160ZM180-180h160v-160H180v160Zm440 0h160v-160H620v160Z\"/>\n",
              "  </svg>\n",
              "    </button>\n",
              "\n",
              "  <style>\n",
              "    .colab-df-container {\n",
              "      display:flex;\n",
              "      gap: 12px;\n",
              "    }\n",
              "\n",
              "    .colab-df-convert {\n",
              "      background-color: #E8F0FE;\n",
              "      border: none;\n",
              "      border-radius: 50%;\n",
              "      cursor: pointer;\n",
              "      display: none;\n",
              "      fill: #1967D2;\n",
              "      height: 32px;\n",
              "      padding: 0 0 0 0;\n",
              "      width: 32px;\n",
              "    }\n",
              "\n",
              "    .colab-df-convert:hover {\n",
              "      background-color: #E2EBFA;\n",
              "      box-shadow: 0px 1px 2px rgba(60, 64, 67, 0.3), 0px 1px 3px 1px rgba(60, 64, 67, 0.15);\n",
              "      fill: #174EA6;\n",
              "    }\n",
              "\n",
              "    .colab-df-buttons div {\n",
              "      margin-bottom: 4px;\n",
              "    }\n",
              "\n",
              "    [theme=dark] .colab-df-convert {\n",
              "      background-color: #3B4455;\n",
              "      fill: #D2E3FC;\n",
              "    }\n",
              "\n",
              "    [theme=dark] .colab-df-convert:hover {\n",
              "      background-color: #434B5C;\n",
              "      box-shadow: 0px 1px 3px 1px rgba(0, 0, 0, 0.15);\n",
              "      filter: drop-shadow(0px 1px 2px rgba(0, 0, 0, 0.3));\n",
              "      fill: #FFFFFF;\n",
              "    }\n",
              "  </style>\n",
              "\n",
              "    <script>\n",
              "      const buttonEl =\n",
              "        document.querySelector('#df-5b449d74-5bbb-4d43-a1ae-c6f1ff130ca1 button.colab-df-convert');\n",
              "      buttonEl.style.display =\n",
              "        google.colab.kernel.accessAllowed ? 'block' : 'none';\n",
              "\n",
              "      async function convertToInteractive(key) {\n",
              "        const element = document.querySelector('#df-5b449d74-5bbb-4d43-a1ae-c6f1ff130ca1');\n",
              "        const dataTable =\n",
              "          await google.colab.kernel.invokeFunction('convertToInteractive',\n",
              "                                                    [key], {});\n",
              "        if (!dataTable) return;\n",
              "\n",
              "        const docLinkHtml = 'Like what you see? Visit the ' +\n",
              "          '<a target=\"_blank\" href=https://colab.research.google.com/notebooks/data_table.ipynb>data table notebook</a>'\n",
              "          + ' to learn more about interactive tables.';\n",
              "        element.innerHTML = '';\n",
              "        dataTable['output_type'] = 'display_data';\n",
              "        await google.colab.output.renderOutput(dataTable, element);\n",
              "        const docLink = document.createElement('div');\n",
              "        docLink.innerHTML = docLinkHtml;\n",
              "        element.appendChild(docLink);\n",
              "      }\n",
              "    </script>\n",
              "  </div>\n",
              "\n",
              "\n",
              "<div id=\"df-c7b3d945-bf51-4077-a784-41ab297c0d24\">\n",
              "  <button class=\"colab-df-quickchart\" onclick=\"quickchart('df-c7b3d945-bf51-4077-a784-41ab297c0d24')\"\n",
              "            title=\"Suggest charts\"\n",
              "            style=\"display:none;\">\n",
              "\n",
              "<svg xmlns=\"http://www.w3.org/2000/svg\" height=\"24px\"viewBox=\"0 0 24 24\"\n",
              "     width=\"24px\">\n",
              "    <g>\n",
              "        <path d=\"M19 3H5c-1.1 0-2 .9-2 2v14c0 1.1.9 2 2 2h14c1.1 0 2-.9 2-2V5c0-1.1-.9-2-2-2zM9 17H7v-7h2v7zm4 0h-2V7h2v10zm4 0h-2v-4h2v4z\"/>\n",
              "    </g>\n",
              "</svg>\n",
              "  </button>\n",
              "\n",
              "<style>\n",
              "  .colab-df-quickchart {\n",
              "      --bg-color: #E8F0FE;\n",
              "      --fill-color: #1967D2;\n",
              "      --hover-bg-color: #E2EBFA;\n",
              "      --hover-fill-color: #174EA6;\n",
              "      --disabled-fill-color: #AAA;\n",
              "      --disabled-bg-color: #DDD;\n",
              "  }\n",
              "\n",
              "  [theme=dark] .colab-df-quickchart {\n",
              "      --bg-color: #3B4455;\n",
              "      --fill-color: #D2E3FC;\n",
              "      --hover-bg-color: #434B5C;\n",
              "      --hover-fill-color: #FFFFFF;\n",
              "      --disabled-bg-color: #3B4455;\n",
              "      --disabled-fill-color: #666;\n",
              "  }\n",
              "\n",
              "  .colab-df-quickchart {\n",
              "    background-color: var(--bg-color);\n",
              "    border: none;\n",
              "    border-radius: 50%;\n",
              "    cursor: pointer;\n",
              "    display: none;\n",
              "    fill: var(--fill-color);\n",
              "    height: 32px;\n",
              "    padding: 0;\n",
              "    width: 32px;\n",
              "  }\n",
              "\n",
              "  .colab-df-quickchart:hover {\n",
              "    background-color: var(--hover-bg-color);\n",
              "    box-shadow: 0 1px 2px rgba(60, 64, 67, 0.3), 0 1px 3px 1px rgba(60, 64, 67, 0.15);\n",
              "    fill: var(--button-hover-fill-color);\n",
              "  }\n",
              "\n",
              "  .colab-df-quickchart-complete:disabled,\n",
              "  .colab-df-quickchart-complete:disabled:hover {\n",
              "    background-color: var(--disabled-bg-color);\n",
              "    fill: var(--disabled-fill-color);\n",
              "    box-shadow: none;\n",
              "  }\n",
              "\n",
              "  .colab-df-spinner {\n",
              "    border: 2px solid var(--fill-color);\n",
              "    border-color: transparent;\n",
              "    border-bottom-color: var(--fill-color);\n",
              "    animation:\n",
              "      spin 1s steps(1) infinite;\n",
              "  }\n",
              "\n",
              "  @keyframes spin {\n",
              "    0% {\n",
              "      border-color: transparent;\n",
              "      border-bottom-color: var(--fill-color);\n",
              "      border-left-color: var(--fill-color);\n",
              "    }\n",
              "    20% {\n",
              "      border-color: transparent;\n",
              "      border-left-color: var(--fill-color);\n",
              "      border-top-color: var(--fill-color);\n",
              "    }\n",
              "    30% {\n",
              "      border-color: transparent;\n",
              "      border-left-color: var(--fill-color);\n",
              "      border-top-color: var(--fill-color);\n",
              "      border-right-color: var(--fill-color);\n",
              "    }\n",
              "    40% {\n",
              "      border-color: transparent;\n",
              "      border-right-color: var(--fill-color);\n",
              "      border-top-color: var(--fill-color);\n",
              "    }\n",
              "    60% {\n",
              "      border-color: transparent;\n",
              "      border-right-color: var(--fill-color);\n",
              "    }\n",
              "    80% {\n",
              "      border-color: transparent;\n",
              "      border-right-color: var(--fill-color);\n",
              "      border-bottom-color: var(--fill-color);\n",
              "    }\n",
              "    90% {\n",
              "      border-color: transparent;\n",
              "      border-bottom-color: var(--fill-color);\n",
              "    }\n",
              "  }\n",
              "</style>\n",
              "\n",
              "  <script>\n",
              "    async function quickchart(key) {\n",
              "      const quickchartButtonEl =\n",
              "        document.querySelector('#' + key + ' button');\n",
              "      quickchartButtonEl.disabled = true;  // To prevent multiple clicks.\n",
              "      quickchartButtonEl.classList.add('colab-df-spinner');\n",
              "      try {\n",
              "        const charts = await google.colab.kernel.invokeFunction(\n",
              "            'suggestCharts', [key], {});\n",
              "      } catch (error) {\n",
              "        console.error('Error during call to suggestCharts:', error);\n",
              "      }\n",
              "      quickchartButtonEl.classList.remove('colab-df-spinner');\n",
              "      quickchartButtonEl.classList.add('colab-df-quickchart-complete');\n",
              "    }\n",
              "    (() => {\n",
              "      let quickchartButtonEl =\n",
              "        document.querySelector('#df-c7b3d945-bf51-4077-a784-41ab297c0d24 button');\n",
              "      quickchartButtonEl.style.display =\n",
              "        google.colab.kernel.accessAllowed ? 'block' : 'none';\n",
              "    })();\n",
              "  </script>\n",
              "</div>\n",
              "    </div>\n",
              "  </div>\n"
            ],
            "application/vnd.google.colaboratory.intrinsic+json": {
              "type": "dataframe"
            }
          },
          "metadata": {},
          "execution_count": 10
        }
      ]
    },
    {
      "cell_type": "code",
      "source": [
        "intrusion_data = pd.read_csv('Train_data.csv')"
      ],
      "metadata": {
        "id": "Unolf_tUp6ot"
      },
      "execution_count": 15,
      "outputs": []
    },
    {
      "cell_type": "code",
      "source": [
        "intrusion_data_right = intrusion_data\n",
        "intrusion_data_right['anomolous_behaviour'] = (intrusion_data_right['class'] == 'anomaly').astype(int)\n",
        "intrusion_data_right = intrusion_data_right.drop(['class'], axis=1)\n",
        "intrusion_data_right"
      ],
      "metadata": {
        "colab": {
          "base_uri": "https://localhost:8080/",
          "height": 443
        },
        "id": "8c8KJiGsqtE0",
        "outputId": "962b78d2-d677-402d-9b12-4cb81336c69e"
      },
      "execution_count": 24,
      "outputs": [
        {
          "output_type": "execute_result",
          "data": {
            "text/plain": [
              "       duration protocol_type   service  flag  src_bytes  dst_bytes  land  \\\n",
              "0             0           tcp  ftp_data    SF        491          0     0   \n",
              "1             0           udp     other    SF        146          0     0   \n",
              "2             0           tcp   private    S0          0          0     0   \n",
              "3             0           tcp      http    SF        232       8153     0   \n",
              "4             0           tcp      http    SF        199        420     0   \n",
              "...         ...           ...       ...   ...        ...        ...   ...   \n",
              "25187         0           tcp      exec  RSTO          0          0     0   \n",
              "25188         0           tcp  ftp_data    SF        334          0     0   \n",
              "25189         0           tcp   private   REJ          0          0     0   \n",
              "25190         0           tcp      nnsp    S0          0          0     0   \n",
              "25191         0           tcp    finger    S0          0          0     0   \n",
              "\n",
              "       wrong_fragment  urgent  hot  ...  dst_host_same_srv_rate  \\\n",
              "0                   0       0    0  ...                    0.17   \n",
              "1                   0       0    0  ...                    0.00   \n",
              "2                   0       0    0  ...                    0.10   \n",
              "3                   0       0    0  ...                    1.00   \n",
              "4                   0       0    0  ...                    1.00   \n",
              "...               ...     ...  ...  ...                     ...   \n",
              "25187               0       0    0  ...                    0.03   \n",
              "25188               0       0    0  ...                    1.00   \n",
              "25189               0       0    0  ...                    0.05   \n",
              "25190               0       0    0  ...                    0.08   \n",
              "25191               0       0    0  ...                    0.19   \n",
              "\n",
              "       dst_host_diff_srv_rate  dst_host_same_src_port_rate  \\\n",
              "0                        0.03                         0.17   \n",
              "1                        0.60                         0.88   \n",
              "2                        0.05                         0.00   \n",
              "3                        0.00                         0.03   \n",
              "4                        0.00                         0.00   \n",
              "...                       ...                          ...   \n",
              "25187                    0.06                         0.00   \n",
              "25188                    0.00                         1.00   \n",
              "25189                    0.07                         0.00   \n",
              "25190                    0.06                         0.00   \n",
              "25191                    0.03                         0.01   \n",
              "\n",
              "       dst_host_srv_diff_host_rate  dst_host_serror_rate  \\\n",
              "0                             0.00                  0.00   \n",
              "1                             0.00                  0.00   \n",
              "2                             0.00                  1.00   \n",
              "3                             0.04                  0.03   \n",
              "4                             0.00                  0.00   \n",
              "...                            ...                   ...   \n",
              "25187                         0.00                  0.00   \n",
              "25188                         0.18                  0.00   \n",
              "25189                         0.00                  0.00   \n",
              "25190                         0.00                  1.00   \n",
              "25191                         0.00                  1.00   \n",
              "\n",
              "       dst_host_srv_serror_rate  dst_host_rerror_rate  \\\n",
              "0                          0.00                  0.05   \n",
              "1                          0.00                  0.00   \n",
              "2                          1.00                  0.00   \n",
              "3                          0.01                  0.00   \n",
              "4                          0.00                  0.00   \n",
              "...                         ...                   ...   \n",
              "25187                      0.00                  1.00   \n",
              "25188                      0.00                  0.00   \n",
              "25189                      0.00                  1.00   \n",
              "25190                      1.00                  0.00   \n",
              "25191                      1.00                  0.00   \n",
              "\n",
              "       dst_host_srv_rerror_rate  class_label  anomolous_behaviour  \n",
              "0                          0.00            0                    0  \n",
              "1                          0.00            0                    0  \n",
              "2                          0.00            1                    1  \n",
              "3                          0.01            0                    0  \n",
              "4                          0.00            0                    0  \n",
              "...                         ...          ...                  ...  \n",
              "25187                      1.00            1                    1  \n",
              "25188                      0.00            1                    1  \n",
              "25189                      1.00            1                    1  \n",
              "25190                      0.00            1                    1  \n",
              "25191                      0.00            1                    1  \n",
              "\n",
              "[25192 rows x 43 columns]"
            ],
            "text/html": [
              "\n",
              "  <div id=\"df-aa2d2797-028e-4c71-a6ee-275a166552cb\" class=\"colab-df-container\">\n",
              "    <div>\n",
              "<style scoped>\n",
              "    .dataframe tbody tr th:only-of-type {\n",
              "        vertical-align: middle;\n",
              "    }\n",
              "\n",
              "    .dataframe tbody tr th {\n",
              "        vertical-align: top;\n",
              "    }\n",
              "\n",
              "    .dataframe thead th {\n",
              "        text-align: right;\n",
              "    }\n",
              "</style>\n",
              "<table border=\"1\" class=\"dataframe\">\n",
              "  <thead>\n",
              "    <tr style=\"text-align: right;\">\n",
              "      <th></th>\n",
              "      <th>duration</th>\n",
              "      <th>protocol_type</th>\n",
              "      <th>service</th>\n",
              "      <th>flag</th>\n",
              "      <th>src_bytes</th>\n",
              "      <th>dst_bytes</th>\n",
              "      <th>land</th>\n",
              "      <th>wrong_fragment</th>\n",
              "      <th>urgent</th>\n",
              "      <th>hot</th>\n",
              "      <th>...</th>\n",
              "      <th>dst_host_same_srv_rate</th>\n",
              "      <th>dst_host_diff_srv_rate</th>\n",
              "      <th>dst_host_same_src_port_rate</th>\n",
              "      <th>dst_host_srv_diff_host_rate</th>\n",
              "      <th>dst_host_serror_rate</th>\n",
              "      <th>dst_host_srv_serror_rate</th>\n",
              "      <th>dst_host_rerror_rate</th>\n",
              "      <th>dst_host_srv_rerror_rate</th>\n",
              "      <th>class_label</th>\n",
              "      <th>anomolous_behaviour</th>\n",
              "    </tr>\n",
              "  </thead>\n",
              "  <tbody>\n",
              "    <tr>\n",
              "      <th>0</th>\n",
              "      <td>0</td>\n",
              "      <td>tcp</td>\n",
              "      <td>ftp_data</td>\n",
              "      <td>SF</td>\n",
              "      <td>491</td>\n",
              "      <td>0</td>\n",
              "      <td>0</td>\n",
              "      <td>0</td>\n",
              "      <td>0</td>\n",
              "      <td>0</td>\n",
              "      <td>...</td>\n",
              "      <td>0.17</td>\n",
              "      <td>0.03</td>\n",
              "      <td>0.17</td>\n",
              "      <td>0.00</td>\n",
              "      <td>0.00</td>\n",
              "      <td>0.00</td>\n",
              "      <td>0.05</td>\n",
              "      <td>0.00</td>\n",
              "      <td>0</td>\n",
              "      <td>0</td>\n",
              "    </tr>\n",
              "    <tr>\n",
              "      <th>1</th>\n",
              "      <td>0</td>\n",
              "      <td>udp</td>\n",
              "      <td>other</td>\n",
              "      <td>SF</td>\n",
              "      <td>146</td>\n",
              "      <td>0</td>\n",
              "      <td>0</td>\n",
              "      <td>0</td>\n",
              "      <td>0</td>\n",
              "      <td>0</td>\n",
              "      <td>...</td>\n",
              "      <td>0.00</td>\n",
              "      <td>0.60</td>\n",
              "      <td>0.88</td>\n",
              "      <td>0.00</td>\n",
              "      <td>0.00</td>\n",
              "      <td>0.00</td>\n",
              "      <td>0.00</td>\n",
              "      <td>0.00</td>\n",
              "      <td>0</td>\n",
              "      <td>0</td>\n",
              "    </tr>\n",
              "    <tr>\n",
              "      <th>2</th>\n",
              "      <td>0</td>\n",
              "      <td>tcp</td>\n",
              "      <td>private</td>\n",
              "      <td>S0</td>\n",
              "      <td>0</td>\n",
              "      <td>0</td>\n",
              "      <td>0</td>\n",
              "      <td>0</td>\n",
              "      <td>0</td>\n",
              "      <td>0</td>\n",
              "      <td>...</td>\n",
              "      <td>0.10</td>\n",
              "      <td>0.05</td>\n",
              "      <td>0.00</td>\n",
              "      <td>0.00</td>\n",
              "      <td>1.00</td>\n",
              "      <td>1.00</td>\n",
              "      <td>0.00</td>\n",
              "      <td>0.00</td>\n",
              "      <td>1</td>\n",
              "      <td>1</td>\n",
              "    </tr>\n",
              "    <tr>\n",
              "      <th>3</th>\n",
              "      <td>0</td>\n",
              "      <td>tcp</td>\n",
              "      <td>http</td>\n",
              "      <td>SF</td>\n",
              "      <td>232</td>\n",
              "      <td>8153</td>\n",
              "      <td>0</td>\n",
              "      <td>0</td>\n",
              "      <td>0</td>\n",
              "      <td>0</td>\n",
              "      <td>...</td>\n",
              "      <td>1.00</td>\n",
              "      <td>0.00</td>\n",
              "      <td>0.03</td>\n",
              "      <td>0.04</td>\n",
              "      <td>0.03</td>\n",
              "      <td>0.01</td>\n",
              "      <td>0.00</td>\n",
              "      <td>0.01</td>\n",
              "      <td>0</td>\n",
              "      <td>0</td>\n",
              "    </tr>\n",
              "    <tr>\n",
              "      <th>4</th>\n",
              "      <td>0</td>\n",
              "      <td>tcp</td>\n",
              "      <td>http</td>\n",
              "      <td>SF</td>\n",
              "      <td>199</td>\n",
              "      <td>420</td>\n",
              "      <td>0</td>\n",
              "      <td>0</td>\n",
              "      <td>0</td>\n",
              "      <td>0</td>\n",
              "      <td>...</td>\n",
              "      <td>1.00</td>\n",
              "      <td>0.00</td>\n",
              "      <td>0.00</td>\n",
              "      <td>0.00</td>\n",
              "      <td>0.00</td>\n",
              "      <td>0.00</td>\n",
              "      <td>0.00</td>\n",
              "      <td>0.00</td>\n",
              "      <td>0</td>\n",
              "      <td>0</td>\n",
              "    </tr>\n",
              "    <tr>\n",
              "      <th>...</th>\n",
              "      <td>...</td>\n",
              "      <td>...</td>\n",
              "      <td>...</td>\n",
              "      <td>...</td>\n",
              "      <td>...</td>\n",
              "      <td>...</td>\n",
              "      <td>...</td>\n",
              "      <td>...</td>\n",
              "      <td>...</td>\n",
              "      <td>...</td>\n",
              "      <td>...</td>\n",
              "      <td>...</td>\n",
              "      <td>...</td>\n",
              "      <td>...</td>\n",
              "      <td>...</td>\n",
              "      <td>...</td>\n",
              "      <td>...</td>\n",
              "      <td>...</td>\n",
              "      <td>...</td>\n",
              "      <td>...</td>\n",
              "      <td>...</td>\n",
              "    </tr>\n",
              "    <tr>\n",
              "      <th>25187</th>\n",
              "      <td>0</td>\n",
              "      <td>tcp</td>\n",
              "      <td>exec</td>\n",
              "      <td>RSTO</td>\n",
              "      <td>0</td>\n",
              "      <td>0</td>\n",
              "      <td>0</td>\n",
              "      <td>0</td>\n",
              "      <td>0</td>\n",
              "      <td>0</td>\n",
              "      <td>...</td>\n",
              "      <td>0.03</td>\n",
              "      <td>0.06</td>\n",
              "      <td>0.00</td>\n",
              "      <td>0.00</td>\n",
              "      <td>0.00</td>\n",
              "      <td>0.00</td>\n",
              "      <td>1.00</td>\n",
              "      <td>1.00</td>\n",
              "      <td>1</td>\n",
              "      <td>1</td>\n",
              "    </tr>\n",
              "    <tr>\n",
              "      <th>25188</th>\n",
              "      <td>0</td>\n",
              "      <td>tcp</td>\n",
              "      <td>ftp_data</td>\n",
              "      <td>SF</td>\n",
              "      <td>334</td>\n",
              "      <td>0</td>\n",
              "      <td>0</td>\n",
              "      <td>0</td>\n",
              "      <td>0</td>\n",
              "      <td>0</td>\n",
              "      <td>...</td>\n",
              "      <td>1.00</td>\n",
              "      <td>0.00</td>\n",
              "      <td>1.00</td>\n",
              "      <td>0.18</td>\n",
              "      <td>0.00</td>\n",
              "      <td>0.00</td>\n",
              "      <td>0.00</td>\n",
              "      <td>0.00</td>\n",
              "      <td>1</td>\n",
              "      <td>1</td>\n",
              "    </tr>\n",
              "    <tr>\n",
              "      <th>25189</th>\n",
              "      <td>0</td>\n",
              "      <td>tcp</td>\n",
              "      <td>private</td>\n",
              "      <td>REJ</td>\n",
              "      <td>0</td>\n",
              "      <td>0</td>\n",
              "      <td>0</td>\n",
              "      <td>0</td>\n",
              "      <td>0</td>\n",
              "      <td>0</td>\n",
              "      <td>...</td>\n",
              "      <td>0.05</td>\n",
              "      <td>0.07</td>\n",
              "      <td>0.00</td>\n",
              "      <td>0.00</td>\n",
              "      <td>0.00</td>\n",
              "      <td>0.00</td>\n",
              "      <td>1.00</td>\n",
              "      <td>1.00</td>\n",
              "      <td>1</td>\n",
              "      <td>1</td>\n",
              "    </tr>\n",
              "    <tr>\n",
              "      <th>25190</th>\n",
              "      <td>0</td>\n",
              "      <td>tcp</td>\n",
              "      <td>nnsp</td>\n",
              "      <td>S0</td>\n",
              "      <td>0</td>\n",
              "      <td>0</td>\n",
              "      <td>0</td>\n",
              "      <td>0</td>\n",
              "      <td>0</td>\n",
              "      <td>0</td>\n",
              "      <td>...</td>\n",
              "      <td>0.08</td>\n",
              "      <td>0.06</td>\n",
              "      <td>0.00</td>\n",
              "      <td>0.00</td>\n",
              "      <td>1.00</td>\n",
              "      <td>1.00</td>\n",
              "      <td>0.00</td>\n",
              "      <td>0.00</td>\n",
              "      <td>1</td>\n",
              "      <td>1</td>\n",
              "    </tr>\n",
              "    <tr>\n",
              "      <th>25191</th>\n",
              "      <td>0</td>\n",
              "      <td>tcp</td>\n",
              "      <td>finger</td>\n",
              "      <td>S0</td>\n",
              "      <td>0</td>\n",
              "      <td>0</td>\n",
              "      <td>0</td>\n",
              "      <td>0</td>\n",
              "      <td>0</td>\n",
              "      <td>0</td>\n",
              "      <td>...</td>\n",
              "      <td>0.19</td>\n",
              "      <td>0.03</td>\n",
              "      <td>0.01</td>\n",
              "      <td>0.00</td>\n",
              "      <td>1.00</td>\n",
              "      <td>1.00</td>\n",
              "      <td>0.00</td>\n",
              "      <td>0.00</td>\n",
              "      <td>1</td>\n",
              "      <td>1</td>\n",
              "    </tr>\n",
              "  </tbody>\n",
              "</table>\n",
              "<p>25192 rows × 43 columns</p>\n",
              "</div>\n",
              "    <div class=\"colab-df-buttons\">\n",
              "\n",
              "  <div class=\"colab-df-container\">\n",
              "    <button class=\"colab-df-convert\" onclick=\"convertToInteractive('df-aa2d2797-028e-4c71-a6ee-275a166552cb')\"\n",
              "            title=\"Convert this dataframe to an interactive table.\"\n",
              "            style=\"display:none;\">\n",
              "\n",
              "  <svg xmlns=\"http://www.w3.org/2000/svg\" height=\"24px\" viewBox=\"0 -960 960 960\">\n",
              "    <path d=\"M120-120v-720h720v720H120Zm60-500h600v-160H180v160Zm220 220h160v-160H400v160Zm0 220h160v-160H400v160ZM180-400h160v-160H180v160Zm440 0h160v-160H620v160ZM180-180h160v-160H180v160Zm440 0h160v-160H620v160Z\"/>\n",
              "  </svg>\n",
              "    </button>\n",
              "\n",
              "  <style>\n",
              "    .colab-df-container {\n",
              "      display:flex;\n",
              "      gap: 12px;\n",
              "    }\n",
              "\n",
              "    .colab-df-convert {\n",
              "      background-color: #E8F0FE;\n",
              "      border: none;\n",
              "      border-radius: 50%;\n",
              "      cursor: pointer;\n",
              "      display: none;\n",
              "      fill: #1967D2;\n",
              "      height: 32px;\n",
              "      padding: 0 0 0 0;\n",
              "      width: 32px;\n",
              "    }\n",
              "\n",
              "    .colab-df-convert:hover {\n",
              "      background-color: #E2EBFA;\n",
              "      box-shadow: 0px 1px 2px rgba(60, 64, 67, 0.3), 0px 1px 3px 1px rgba(60, 64, 67, 0.15);\n",
              "      fill: #174EA6;\n",
              "    }\n",
              "\n",
              "    .colab-df-buttons div {\n",
              "      margin-bottom: 4px;\n",
              "    }\n",
              "\n",
              "    [theme=dark] .colab-df-convert {\n",
              "      background-color: #3B4455;\n",
              "      fill: #D2E3FC;\n",
              "    }\n",
              "\n",
              "    [theme=dark] .colab-df-convert:hover {\n",
              "      background-color: #434B5C;\n",
              "      box-shadow: 0px 1px 3px 1px rgba(0, 0, 0, 0.15);\n",
              "      filter: drop-shadow(0px 1px 2px rgba(0, 0, 0, 0.3));\n",
              "      fill: #FFFFFF;\n",
              "    }\n",
              "  </style>\n",
              "\n",
              "    <script>\n",
              "      const buttonEl =\n",
              "        document.querySelector('#df-aa2d2797-028e-4c71-a6ee-275a166552cb button.colab-df-convert');\n",
              "      buttonEl.style.display =\n",
              "        google.colab.kernel.accessAllowed ? 'block' : 'none';\n",
              "\n",
              "      async function convertToInteractive(key) {\n",
              "        const element = document.querySelector('#df-aa2d2797-028e-4c71-a6ee-275a166552cb');\n",
              "        const dataTable =\n",
              "          await google.colab.kernel.invokeFunction('convertToInteractive',\n",
              "                                                    [key], {});\n",
              "        if (!dataTable) return;\n",
              "\n",
              "        const docLinkHtml = 'Like what you see? Visit the ' +\n",
              "          '<a target=\"_blank\" href=https://colab.research.google.com/notebooks/data_table.ipynb>data table notebook</a>'\n",
              "          + ' to learn more about interactive tables.';\n",
              "        element.innerHTML = '';\n",
              "        dataTable['output_type'] = 'display_data';\n",
              "        await google.colab.output.renderOutput(dataTable, element);\n",
              "        const docLink = document.createElement('div');\n",
              "        docLink.innerHTML = docLinkHtml;\n",
              "        element.appendChild(docLink);\n",
              "      }\n",
              "    </script>\n",
              "  </div>\n",
              "\n",
              "\n",
              "<div id=\"df-4be86a85-6e80-42cc-b494-30d783ad3121\">\n",
              "  <button class=\"colab-df-quickchart\" onclick=\"quickchart('df-4be86a85-6e80-42cc-b494-30d783ad3121')\"\n",
              "            title=\"Suggest charts\"\n",
              "            style=\"display:none;\">\n",
              "\n",
              "<svg xmlns=\"http://www.w3.org/2000/svg\" height=\"24px\"viewBox=\"0 0 24 24\"\n",
              "     width=\"24px\">\n",
              "    <g>\n",
              "        <path d=\"M19 3H5c-1.1 0-2 .9-2 2v14c0 1.1.9 2 2 2h14c1.1 0 2-.9 2-2V5c0-1.1-.9-2-2-2zM9 17H7v-7h2v7zm4 0h-2V7h2v10zm4 0h-2v-4h2v4z\"/>\n",
              "    </g>\n",
              "</svg>\n",
              "  </button>\n",
              "\n",
              "<style>\n",
              "  .colab-df-quickchart {\n",
              "      --bg-color: #E8F0FE;\n",
              "      --fill-color: #1967D2;\n",
              "      --hover-bg-color: #E2EBFA;\n",
              "      --hover-fill-color: #174EA6;\n",
              "      --disabled-fill-color: #AAA;\n",
              "      --disabled-bg-color: #DDD;\n",
              "  }\n",
              "\n",
              "  [theme=dark] .colab-df-quickchart {\n",
              "      --bg-color: #3B4455;\n",
              "      --fill-color: #D2E3FC;\n",
              "      --hover-bg-color: #434B5C;\n",
              "      --hover-fill-color: #FFFFFF;\n",
              "      --disabled-bg-color: #3B4455;\n",
              "      --disabled-fill-color: #666;\n",
              "  }\n",
              "\n",
              "  .colab-df-quickchart {\n",
              "    background-color: var(--bg-color);\n",
              "    border: none;\n",
              "    border-radius: 50%;\n",
              "    cursor: pointer;\n",
              "    display: none;\n",
              "    fill: var(--fill-color);\n",
              "    height: 32px;\n",
              "    padding: 0;\n",
              "    width: 32px;\n",
              "  }\n",
              "\n",
              "  .colab-df-quickchart:hover {\n",
              "    background-color: var(--hover-bg-color);\n",
              "    box-shadow: 0 1px 2px rgba(60, 64, 67, 0.3), 0 1px 3px 1px rgba(60, 64, 67, 0.15);\n",
              "    fill: var(--button-hover-fill-color);\n",
              "  }\n",
              "\n",
              "  .colab-df-quickchart-complete:disabled,\n",
              "  .colab-df-quickchart-complete:disabled:hover {\n",
              "    background-color: var(--disabled-bg-color);\n",
              "    fill: var(--disabled-fill-color);\n",
              "    box-shadow: none;\n",
              "  }\n",
              "\n",
              "  .colab-df-spinner {\n",
              "    border: 2px solid var(--fill-color);\n",
              "    border-color: transparent;\n",
              "    border-bottom-color: var(--fill-color);\n",
              "    animation:\n",
              "      spin 1s steps(1) infinite;\n",
              "  }\n",
              "\n",
              "  @keyframes spin {\n",
              "    0% {\n",
              "      border-color: transparent;\n",
              "      border-bottom-color: var(--fill-color);\n",
              "      border-left-color: var(--fill-color);\n",
              "    }\n",
              "    20% {\n",
              "      border-color: transparent;\n",
              "      border-left-color: var(--fill-color);\n",
              "      border-top-color: var(--fill-color);\n",
              "    }\n",
              "    30% {\n",
              "      border-color: transparent;\n",
              "      border-left-color: var(--fill-color);\n",
              "      border-top-color: var(--fill-color);\n",
              "      border-right-color: var(--fill-color);\n",
              "    }\n",
              "    40% {\n",
              "      border-color: transparent;\n",
              "      border-right-color: var(--fill-color);\n",
              "      border-top-color: var(--fill-color);\n",
              "    }\n",
              "    60% {\n",
              "      border-color: transparent;\n",
              "      border-right-color: var(--fill-color);\n",
              "    }\n",
              "    80% {\n",
              "      border-color: transparent;\n",
              "      border-right-color: var(--fill-color);\n",
              "      border-bottom-color: var(--fill-color);\n",
              "    }\n",
              "    90% {\n",
              "      border-color: transparent;\n",
              "      border-bottom-color: var(--fill-color);\n",
              "    }\n",
              "  }\n",
              "</style>\n",
              "\n",
              "  <script>\n",
              "    async function quickchart(key) {\n",
              "      const quickchartButtonEl =\n",
              "        document.querySelector('#' + key + ' button');\n",
              "      quickchartButtonEl.disabled = true;  // To prevent multiple clicks.\n",
              "      quickchartButtonEl.classList.add('colab-df-spinner');\n",
              "      try {\n",
              "        const charts = await google.colab.kernel.invokeFunction(\n",
              "            'suggestCharts', [key], {});\n",
              "      } catch (error) {\n",
              "        console.error('Error during call to suggestCharts:', error);\n",
              "      }\n",
              "      quickchartButtonEl.classList.remove('colab-df-spinner');\n",
              "      quickchartButtonEl.classList.add('colab-df-quickchart-complete');\n",
              "    }\n",
              "    (() => {\n",
              "      let quickchartButtonEl =\n",
              "        document.querySelector('#df-4be86a85-6e80-42cc-b494-30d783ad3121 button');\n",
              "      quickchartButtonEl.style.display =\n",
              "        google.colab.kernel.accessAllowed ? 'block' : 'none';\n",
              "    })();\n",
              "  </script>\n",
              "</div>\n",
              "    </div>\n",
              "  </div>\n"
            ],
            "application/vnd.google.colaboratory.intrinsic+json": {
              "type": "dataframe",
              "variable_name": "intrusion_data_right"
            }
          },
          "metadata": {},
          "execution_count": 24
        }
      ]
    },
    {
      "cell_type": "code",
      "source": [
        "int_data_no_strings = intrusion_data_right.select_dtypes(exclude=['object'])\n",
        "int_data_no_strings"
      ],
      "metadata": {
        "colab": {
          "base_uri": "https://localhost:8080/",
          "height": 443
        },
        "id": "nK8koi06lQdH",
        "outputId": "fe227e87-e7b8-4b90-9bd1-1d687e5e1bfa"
      },
      "execution_count": 25,
      "outputs": [
        {
          "output_type": "execute_result",
          "data": {
            "text/plain": [
              "       duration  src_bytes  dst_bytes  land  wrong_fragment  urgent  hot  \\\n",
              "0             0        491          0     0               0       0    0   \n",
              "1             0        146          0     0               0       0    0   \n",
              "2             0          0          0     0               0       0    0   \n",
              "3             0        232       8153     0               0       0    0   \n",
              "4             0        199        420     0               0       0    0   \n",
              "...         ...        ...        ...   ...             ...     ...  ...   \n",
              "25187         0          0          0     0               0       0    0   \n",
              "25188         0        334          0     0               0       0    0   \n",
              "25189         0          0          0     0               0       0    0   \n",
              "25190         0          0          0     0               0       0    0   \n",
              "25191         0          0          0     0               0       0    0   \n",
              "\n",
              "       num_failed_logins  logged_in  num_compromised  ...  \\\n",
              "0                      0          0                0  ...   \n",
              "1                      0          0                0  ...   \n",
              "2                      0          0                0  ...   \n",
              "3                      0          1                0  ...   \n",
              "4                      0          1                0  ...   \n",
              "...                  ...        ...              ...  ...   \n",
              "25187                  0          0                0  ...   \n",
              "25188                  0          1                0  ...   \n",
              "25189                  0          0                0  ...   \n",
              "25190                  0          0                0  ...   \n",
              "25191                  0          0                0  ...   \n",
              "\n",
              "       dst_host_same_srv_rate  dst_host_diff_srv_rate  \\\n",
              "0                        0.17                    0.03   \n",
              "1                        0.00                    0.60   \n",
              "2                        0.10                    0.05   \n",
              "3                        1.00                    0.00   \n",
              "4                        1.00                    0.00   \n",
              "...                       ...                     ...   \n",
              "25187                    0.03                    0.06   \n",
              "25188                    1.00                    0.00   \n",
              "25189                    0.05                    0.07   \n",
              "25190                    0.08                    0.06   \n",
              "25191                    0.19                    0.03   \n",
              "\n",
              "       dst_host_same_src_port_rate  dst_host_srv_diff_host_rate  \\\n",
              "0                             0.17                         0.00   \n",
              "1                             0.88                         0.00   \n",
              "2                             0.00                         0.00   \n",
              "3                             0.03                         0.04   \n",
              "4                             0.00                         0.00   \n",
              "...                            ...                          ...   \n",
              "25187                         0.00                         0.00   \n",
              "25188                         1.00                         0.18   \n",
              "25189                         0.00                         0.00   \n",
              "25190                         0.00                         0.00   \n",
              "25191                         0.01                         0.00   \n",
              "\n",
              "       dst_host_serror_rate  dst_host_srv_serror_rate  dst_host_rerror_rate  \\\n",
              "0                      0.00                      0.00                  0.05   \n",
              "1                      0.00                      0.00                  0.00   \n",
              "2                      1.00                      1.00                  0.00   \n",
              "3                      0.03                      0.01                  0.00   \n",
              "4                      0.00                      0.00                  0.00   \n",
              "...                     ...                       ...                   ...   \n",
              "25187                  0.00                      0.00                  1.00   \n",
              "25188                  0.00                      0.00                  0.00   \n",
              "25189                  0.00                      0.00                  1.00   \n",
              "25190                  1.00                      1.00                  0.00   \n",
              "25191                  1.00                      1.00                  0.00   \n",
              "\n",
              "       dst_host_srv_rerror_rate  class_label  anomolous_behaviour  \n",
              "0                          0.00            0                    0  \n",
              "1                          0.00            0                    0  \n",
              "2                          0.00            1                    1  \n",
              "3                          0.01            0                    0  \n",
              "4                          0.00            0                    0  \n",
              "...                         ...          ...                  ...  \n",
              "25187                      1.00            1                    1  \n",
              "25188                      0.00            1                    1  \n",
              "25189                      1.00            1                    1  \n",
              "25190                      0.00            1                    1  \n",
              "25191                      0.00            1                    1  \n",
              "\n",
              "[25192 rows x 40 columns]"
            ],
            "text/html": [
              "\n",
              "  <div id=\"df-d8143639-4cfc-4efe-a859-b53fda0cdb87\" class=\"colab-df-container\">\n",
              "    <div>\n",
              "<style scoped>\n",
              "    .dataframe tbody tr th:only-of-type {\n",
              "        vertical-align: middle;\n",
              "    }\n",
              "\n",
              "    .dataframe tbody tr th {\n",
              "        vertical-align: top;\n",
              "    }\n",
              "\n",
              "    .dataframe thead th {\n",
              "        text-align: right;\n",
              "    }\n",
              "</style>\n",
              "<table border=\"1\" class=\"dataframe\">\n",
              "  <thead>\n",
              "    <tr style=\"text-align: right;\">\n",
              "      <th></th>\n",
              "      <th>duration</th>\n",
              "      <th>src_bytes</th>\n",
              "      <th>dst_bytes</th>\n",
              "      <th>land</th>\n",
              "      <th>wrong_fragment</th>\n",
              "      <th>urgent</th>\n",
              "      <th>hot</th>\n",
              "      <th>num_failed_logins</th>\n",
              "      <th>logged_in</th>\n",
              "      <th>num_compromised</th>\n",
              "      <th>...</th>\n",
              "      <th>dst_host_same_srv_rate</th>\n",
              "      <th>dst_host_diff_srv_rate</th>\n",
              "      <th>dst_host_same_src_port_rate</th>\n",
              "      <th>dst_host_srv_diff_host_rate</th>\n",
              "      <th>dst_host_serror_rate</th>\n",
              "      <th>dst_host_srv_serror_rate</th>\n",
              "      <th>dst_host_rerror_rate</th>\n",
              "      <th>dst_host_srv_rerror_rate</th>\n",
              "      <th>class_label</th>\n",
              "      <th>anomolous_behaviour</th>\n",
              "    </tr>\n",
              "  </thead>\n",
              "  <tbody>\n",
              "    <tr>\n",
              "      <th>0</th>\n",
              "      <td>0</td>\n",
              "      <td>491</td>\n",
              "      <td>0</td>\n",
              "      <td>0</td>\n",
              "      <td>0</td>\n",
              "      <td>0</td>\n",
              "      <td>0</td>\n",
              "      <td>0</td>\n",
              "      <td>0</td>\n",
              "      <td>0</td>\n",
              "      <td>...</td>\n",
              "      <td>0.17</td>\n",
              "      <td>0.03</td>\n",
              "      <td>0.17</td>\n",
              "      <td>0.00</td>\n",
              "      <td>0.00</td>\n",
              "      <td>0.00</td>\n",
              "      <td>0.05</td>\n",
              "      <td>0.00</td>\n",
              "      <td>0</td>\n",
              "      <td>0</td>\n",
              "    </tr>\n",
              "    <tr>\n",
              "      <th>1</th>\n",
              "      <td>0</td>\n",
              "      <td>146</td>\n",
              "      <td>0</td>\n",
              "      <td>0</td>\n",
              "      <td>0</td>\n",
              "      <td>0</td>\n",
              "      <td>0</td>\n",
              "      <td>0</td>\n",
              "      <td>0</td>\n",
              "      <td>0</td>\n",
              "      <td>...</td>\n",
              "      <td>0.00</td>\n",
              "      <td>0.60</td>\n",
              "      <td>0.88</td>\n",
              "      <td>0.00</td>\n",
              "      <td>0.00</td>\n",
              "      <td>0.00</td>\n",
              "      <td>0.00</td>\n",
              "      <td>0.00</td>\n",
              "      <td>0</td>\n",
              "      <td>0</td>\n",
              "    </tr>\n",
              "    <tr>\n",
              "      <th>2</th>\n",
              "      <td>0</td>\n",
              "      <td>0</td>\n",
              "      <td>0</td>\n",
              "      <td>0</td>\n",
              "      <td>0</td>\n",
              "      <td>0</td>\n",
              "      <td>0</td>\n",
              "      <td>0</td>\n",
              "      <td>0</td>\n",
              "      <td>0</td>\n",
              "      <td>...</td>\n",
              "      <td>0.10</td>\n",
              "      <td>0.05</td>\n",
              "      <td>0.00</td>\n",
              "      <td>0.00</td>\n",
              "      <td>1.00</td>\n",
              "      <td>1.00</td>\n",
              "      <td>0.00</td>\n",
              "      <td>0.00</td>\n",
              "      <td>1</td>\n",
              "      <td>1</td>\n",
              "    </tr>\n",
              "    <tr>\n",
              "      <th>3</th>\n",
              "      <td>0</td>\n",
              "      <td>232</td>\n",
              "      <td>8153</td>\n",
              "      <td>0</td>\n",
              "      <td>0</td>\n",
              "      <td>0</td>\n",
              "      <td>0</td>\n",
              "      <td>0</td>\n",
              "      <td>1</td>\n",
              "      <td>0</td>\n",
              "      <td>...</td>\n",
              "      <td>1.00</td>\n",
              "      <td>0.00</td>\n",
              "      <td>0.03</td>\n",
              "      <td>0.04</td>\n",
              "      <td>0.03</td>\n",
              "      <td>0.01</td>\n",
              "      <td>0.00</td>\n",
              "      <td>0.01</td>\n",
              "      <td>0</td>\n",
              "      <td>0</td>\n",
              "    </tr>\n",
              "    <tr>\n",
              "      <th>4</th>\n",
              "      <td>0</td>\n",
              "      <td>199</td>\n",
              "      <td>420</td>\n",
              "      <td>0</td>\n",
              "      <td>0</td>\n",
              "      <td>0</td>\n",
              "      <td>0</td>\n",
              "      <td>0</td>\n",
              "      <td>1</td>\n",
              "      <td>0</td>\n",
              "      <td>...</td>\n",
              "      <td>1.00</td>\n",
              "      <td>0.00</td>\n",
              "      <td>0.00</td>\n",
              "      <td>0.00</td>\n",
              "      <td>0.00</td>\n",
              "      <td>0.00</td>\n",
              "      <td>0.00</td>\n",
              "      <td>0.00</td>\n",
              "      <td>0</td>\n",
              "      <td>0</td>\n",
              "    </tr>\n",
              "    <tr>\n",
              "      <th>...</th>\n",
              "      <td>...</td>\n",
              "      <td>...</td>\n",
              "      <td>...</td>\n",
              "      <td>...</td>\n",
              "      <td>...</td>\n",
              "      <td>...</td>\n",
              "      <td>...</td>\n",
              "      <td>...</td>\n",
              "      <td>...</td>\n",
              "      <td>...</td>\n",
              "      <td>...</td>\n",
              "      <td>...</td>\n",
              "      <td>...</td>\n",
              "      <td>...</td>\n",
              "      <td>...</td>\n",
              "      <td>...</td>\n",
              "      <td>...</td>\n",
              "      <td>...</td>\n",
              "      <td>...</td>\n",
              "      <td>...</td>\n",
              "      <td>...</td>\n",
              "    </tr>\n",
              "    <tr>\n",
              "      <th>25187</th>\n",
              "      <td>0</td>\n",
              "      <td>0</td>\n",
              "      <td>0</td>\n",
              "      <td>0</td>\n",
              "      <td>0</td>\n",
              "      <td>0</td>\n",
              "      <td>0</td>\n",
              "      <td>0</td>\n",
              "      <td>0</td>\n",
              "      <td>0</td>\n",
              "      <td>...</td>\n",
              "      <td>0.03</td>\n",
              "      <td>0.06</td>\n",
              "      <td>0.00</td>\n",
              "      <td>0.00</td>\n",
              "      <td>0.00</td>\n",
              "      <td>0.00</td>\n",
              "      <td>1.00</td>\n",
              "      <td>1.00</td>\n",
              "      <td>1</td>\n",
              "      <td>1</td>\n",
              "    </tr>\n",
              "    <tr>\n",
              "      <th>25188</th>\n",
              "      <td>0</td>\n",
              "      <td>334</td>\n",
              "      <td>0</td>\n",
              "      <td>0</td>\n",
              "      <td>0</td>\n",
              "      <td>0</td>\n",
              "      <td>0</td>\n",
              "      <td>0</td>\n",
              "      <td>1</td>\n",
              "      <td>0</td>\n",
              "      <td>...</td>\n",
              "      <td>1.00</td>\n",
              "      <td>0.00</td>\n",
              "      <td>1.00</td>\n",
              "      <td>0.18</td>\n",
              "      <td>0.00</td>\n",
              "      <td>0.00</td>\n",
              "      <td>0.00</td>\n",
              "      <td>0.00</td>\n",
              "      <td>1</td>\n",
              "      <td>1</td>\n",
              "    </tr>\n",
              "    <tr>\n",
              "      <th>25189</th>\n",
              "      <td>0</td>\n",
              "      <td>0</td>\n",
              "      <td>0</td>\n",
              "      <td>0</td>\n",
              "      <td>0</td>\n",
              "      <td>0</td>\n",
              "      <td>0</td>\n",
              "      <td>0</td>\n",
              "      <td>0</td>\n",
              "      <td>0</td>\n",
              "      <td>...</td>\n",
              "      <td>0.05</td>\n",
              "      <td>0.07</td>\n",
              "      <td>0.00</td>\n",
              "      <td>0.00</td>\n",
              "      <td>0.00</td>\n",
              "      <td>0.00</td>\n",
              "      <td>1.00</td>\n",
              "      <td>1.00</td>\n",
              "      <td>1</td>\n",
              "      <td>1</td>\n",
              "    </tr>\n",
              "    <tr>\n",
              "      <th>25190</th>\n",
              "      <td>0</td>\n",
              "      <td>0</td>\n",
              "      <td>0</td>\n",
              "      <td>0</td>\n",
              "      <td>0</td>\n",
              "      <td>0</td>\n",
              "      <td>0</td>\n",
              "      <td>0</td>\n",
              "      <td>0</td>\n",
              "      <td>0</td>\n",
              "      <td>...</td>\n",
              "      <td>0.08</td>\n",
              "      <td>0.06</td>\n",
              "      <td>0.00</td>\n",
              "      <td>0.00</td>\n",
              "      <td>1.00</td>\n",
              "      <td>1.00</td>\n",
              "      <td>0.00</td>\n",
              "      <td>0.00</td>\n",
              "      <td>1</td>\n",
              "      <td>1</td>\n",
              "    </tr>\n",
              "    <tr>\n",
              "      <th>25191</th>\n",
              "      <td>0</td>\n",
              "      <td>0</td>\n",
              "      <td>0</td>\n",
              "      <td>0</td>\n",
              "      <td>0</td>\n",
              "      <td>0</td>\n",
              "      <td>0</td>\n",
              "      <td>0</td>\n",
              "      <td>0</td>\n",
              "      <td>0</td>\n",
              "      <td>...</td>\n",
              "      <td>0.19</td>\n",
              "      <td>0.03</td>\n",
              "      <td>0.01</td>\n",
              "      <td>0.00</td>\n",
              "      <td>1.00</td>\n",
              "      <td>1.00</td>\n",
              "      <td>0.00</td>\n",
              "      <td>0.00</td>\n",
              "      <td>1</td>\n",
              "      <td>1</td>\n",
              "    </tr>\n",
              "  </tbody>\n",
              "</table>\n",
              "<p>25192 rows × 40 columns</p>\n",
              "</div>\n",
              "    <div class=\"colab-df-buttons\">\n",
              "\n",
              "  <div class=\"colab-df-container\">\n",
              "    <button class=\"colab-df-convert\" onclick=\"convertToInteractive('df-d8143639-4cfc-4efe-a859-b53fda0cdb87')\"\n",
              "            title=\"Convert this dataframe to an interactive table.\"\n",
              "            style=\"display:none;\">\n",
              "\n",
              "  <svg xmlns=\"http://www.w3.org/2000/svg\" height=\"24px\" viewBox=\"0 -960 960 960\">\n",
              "    <path d=\"M120-120v-720h720v720H120Zm60-500h600v-160H180v160Zm220 220h160v-160H400v160Zm0 220h160v-160H400v160ZM180-400h160v-160H180v160Zm440 0h160v-160H620v160ZM180-180h160v-160H180v160Zm440 0h160v-160H620v160Z\"/>\n",
              "  </svg>\n",
              "    </button>\n",
              "\n",
              "  <style>\n",
              "    .colab-df-container {\n",
              "      display:flex;\n",
              "      gap: 12px;\n",
              "    }\n",
              "\n",
              "    .colab-df-convert {\n",
              "      background-color: #E8F0FE;\n",
              "      border: none;\n",
              "      border-radius: 50%;\n",
              "      cursor: pointer;\n",
              "      display: none;\n",
              "      fill: #1967D2;\n",
              "      height: 32px;\n",
              "      padding: 0 0 0 0;\n",
              "      width: 32px;\n",
              "    }\n",
              "\n",
              "    .colab-df-convert:hover {\n",
              "      background-color: #E2EBFA;\n",
              "      box-shadow: 0px 1px 2px rgba(60, 64, 67, 0.3), 0px 1px 3px 1px rgba(60, 64, 67, 0.15);\n",
              "      fill: #174EA6;\n",
              "    }\n",
              "\n",
              "    .colab-df-buttons div {\n",
              "      margin-bottom: 4px;\n",
              "    }\n",
              "\n",
              "    [theme=dark] .colab-df-convert {\n",
              "      background-color: #3B4455;\n",
              "      fill: #D2E3FC;\n",
              "    }\n",
              "\n",
              "    [theme=dark] .colab-df-convert:hover {\n",
              "      background-color: #434B5C;\n",
              "      box-shadow: 0px 1px 3px 1px rgba(0, 0, 0, 0.15);\n",
              "      filter: drop-shadow(0px 1px 2px rgba(0, 0, 0, 0.3));\n",
              "      fill: #FFFFFF;\n",
              "    }\n",
              "  </style>\n",
              "\n",
              "    <script>\n",
              "      const buttonEl =\n",
              "        document.querySelector('#df-d8143639-4cfc-4efe-a859-b53fda0cdb87 button.colab-df-convert');\n",
              "      buttonEl.style.display =\n",
              "        google.colab.kernel.accessAllowed ? 'block' : 'none';\n",
              "\n",
              "      async function convertToInteractive(key) {\n",
              "        const element = document.querySelector('#df-d8143639-4cfc-4efe-a859-b53fda0cdb87');\n",
              "        const dataTable =\n",
              "          await google.colab.kernel.invokeFunction('convertToInteractive',\n",
              "                                                    [key], {});\n",
              "        if (!dataTable) return;\n",
              "\n",
              "        const docLinkHtml = 'Like what you see? Visit the ' +\n",
              "          '<a target=\"_blank\" href=https://colab.research.google.com/notebooks/data_table.ipynb>data table notebook</a>'\n",
              "          + ' to learn more about interactive tables.';\n",
              "        element.innerHTML = '';\n",
              "        dataTable['output_type'] = 'display_data';\n",
              "        await google.colab.output.renderOutput(dataTable, element);\n",
              "        const docLink = document.createElement('div');\n",
              "        docLink.innerHTML = docLinkHtml;\n",
              "        element.appendChild(docLink);\n",
              "      }\n",
              "    </script>\n",
              "  </div>\n",
              "\n",
              "\n",
              "<div id=\"df-4344df88-4e07-48be-89f6-6b83ca81cf3e\">\n",
              "  <button class=\"colab-df-quickchart\" onclick=\"quickchart('df-4344df88-4e07-48be-89f6-6b83ca81cf3e')\"\n",
              "            title=\"Suggest charts\"\n",
              "            style=\"display:none;\">\n",
              "\n",
              "<svg xmlns=\"http://www.w3.org/2000/svg\" height=\"24px\"viewBox=\"0 0 24 24\"\n",
              "     width=\"24px\">\n",
              "    <g>\n",
              "        <path d=\"M19 3H5c-1.1 0-2 .9-2 2v14c0 1.1.9 2 2 2h14c1.1 0 2-.9 2-2V5c0-1.1-.9-2-2-2zM9 17H7v-7h2v7zm4 0h-2V7h2v10zm4 0h-2v-4h2v4z\"/>\n",
              "    </g>\n",
              "</svg>\n",
              "  </button>\n",
              "\n",
              "<style>\n",
              "  .colab-df-quickchart {\n",
              "      --bg-color: #E8F0FE;\n",
              "      --fill-color: #1967D2;\n",
              "      --hover-bg-color: #E2EBFA;\n",
              "      --hover-fill-color: #174EA6;\n",
              "      --disabled-fill-color: #AAA;\n",
              "      --disabled-bg-color: #DDD;\n",
              "  }\n",
              "\n",
              "  [theme=dark] .colab-df-quickchart {\n",
              "      --bg-color: #3B4455;\n",
              "      --fill-color: #D2E3FC;\n",
              "      --hover-bg-color: #434B5C;\n",
              "      --hover-fill-color: #FFFFFF;\n",
              "      --disabled-bg-color: #3B4455;\n",
              "      --disabled-fill-color: #666;\n",
              "  }\n",
              "\n",
              "  .colab-df-quickchart {\n",
              "    background-color: var(--bg-color);\n",
              "    border: none;\n",
              "    border-radius: 50%;\n",
              "    cursor: pointer;\n",
              "    display: none;\n",
              "    fill: var(--fill-color);\n",
              "    height: 32px;\n",
              "    padding: 0;\n",
              "    width: 32px;\n",
              "  }\n",
              "\n",
              "  .colab-df-quickchart:hover {\n",
              "    background-color: var(--hover-bg-color);\n",
              "    box-shadow: 0 1px 2px rgba(60, 64, 67, 0.3), 0 1px 3px 1px rgba(60, 64, 67, 0.15);\n",
              "    fill: var(--button-hover-fill-color);\n",
              "  }\n",
              "\n",
              "  .colab-df-quickchart-complete:disabled,\n",
              "  .colab-df-quickchart-complete:disabled:hover {\n",
              "    background-color: var(--disabled-bg-color);\n",
              "    fill: var(--disabled-fill-color);\n",
              "    box-shadow: none;\n",
              "  }\n",
              "\n",
              "  .colab-df-spinner {\n",
              "    border: 2px solid var(--fill-color);\n",
              "    border-color: transparent;\n",
              "    border-bottom-color: var(--fill-color);\n",
              "    animation:\n",
              "      spin 1s steps(1) infinite;\n",
              "  }\n",
              "\n",
              "  @keyframes spin {\n",
              "    0% {\n",
              "      border-color: transparent;\n",
              "      border-bottom-color: var(--fill-color);\n",
              "      border-left-color: var(--fill-color);\n",
              "    }\n",
              "    20% {\n",
              "      border-color: transparent;\n",
              "      border-left-color: var(--fill-color);\n",
              "      border-top-color: var(--fill-color);\n",
              "    }\n",
              "    30% {\n",
              "      border-color: transparent;\n",
              "      border-left-color: var(--fill-color);\n",
              "      border-top-color: var(--fill-color);\n",
              "      border-right-color: var(--fill-color);\n",
              "    }\n",
              "    40% {\n",
              "      border-color: transparent;\n",
              "      border-right-color: var(--fill-color);\n",
              "      border-top-color: var(--fill-color);\n",
              "    }\n",
              "    60% {\n",
              "      border-color: transparent;\n",
              "      border-right-color: var(--fill-color);\n",
              "    }\n",
              "    80% {\n",
              "      border-color: transparent;\n",
              "      border-right-color: var(--fill-color);\n",
              "      border-bottom-color: var(--fill-color);\n",
              "    }\n",
              "    90% {\n",
              "      border-color: transparent;\n",
              "      border-bottom-color: var(--fill-color);\n",
              "    }\n",
              "  }\n",
              "</style>\n",
              "\n",
              "  <script>\n",
              "    async function quickchart(key) {\n",
              "      const quickchartButtonEl =\n",
              "        document.querySelector('#' + key + ' button');\n",
              "      quickchartButtonEl.disabled = true;  // To prevent multiple clicks.\n",
              "      quickchartButtonEl.classList.add('colab-df-spinner');\n",
              "      try {\n",
              "        const charts = await google.colab.kernel.invokeFunction(\n",
              "            'suggestCharts', [key], {});\n",
              "      } catch (error) {\n",
              "        console.error('Error during call to suggestCharts:', error);\n",
              "      }\n",
              "      quickchartButtonEl.classList.remove('colab-df-spinner');\n",
              "      quickchartButtonEl.classList.add('colab-df-quickchart-complete');\n",
              "    }\n",
              "    (() => {\n",
              "      let quickchartButtonEl =\n",
              "        document.querySelector('#df-4344df88-4e07-48be-89f6-6b83ca81cf3e button');\n",
              "      quickchartButtonEl.style.display =\n",
              "        google.colab.kernel.accessAllowed ? 'block' : 'none';\n",
              "    })();\n",
              "  </script>\n",
              "</div>\n",
              "    </div>\n",
              "  </div>\n"
            ],
            "application/vnd.google.colaboratory.intrinsic+json": {
              "type": "dataframe",
              "variable_name": "int_data_no_strings"
            }
          },
          "metadata": {},
          "execution_count": 25
        }
      ]
    },
    {
      "cell_type": "code",
      "source": [
        "from sklearn.feature_selection import mutual_info_classif\n",
        "\n",
        "X = int_data_no_strings.drop('class_label', axis=1)\n",
        "y = int_data_no_strings['class_label']\n",
        "\n",
        "mutual_info = mutual_info_classif(X, y)\n",
        "attribute_info_gain = pd.Series(mutual_info, index=X.columns)\n",
        "\n",
        "top_ten_attributes = attribute_info_gain.nlargest(10)\n",
        "\n",
        "print(top_ten_attributes)"
      ],
      "metadata": {
        "colab": {
          "base_uri": "https://localhost:8080/"
        },
        "id": "r3zBogKDmKuv",
        "outputId": "bc36360d-9777-4a73-a68b-b2f7210dc966"
      },
      "execution_count": 38,
      "outputs": [
        {
          "output_type": "stream",
          "name": "stdout",
          "text": [
            "anomolous_behaviour       0.694465\n",
            "src_bytes                 0.565363\n",
            "dst_bytes                 0.435019\n",
            "diff_srv_rate             0.359370\n",
            "same_srv_rate             0.359335\n",
            "dst_host_srv_count        0.329340\n",
            "dst_host_same_srv_rate    0.306277\n",
            "dst_host_diff_srv_rate    0.288037\n",
            "logged_in                 0.283484\n",
            "dst_host_serror_rate      0.280519\n",
            "dtype: float64\n"
          ]
        }
      ]
    },
    {
      "cell_type": "code",
      "source": [
        "int_corr = intrusion_data[['src_bytes','dst_bytes','diff_srv_rate','same_srv_rate','dst_host_srv_count','dst_host_same_srv_rate','dst_host_diff_srv_rate','logged_in','dst_host_serror_rate','dst_host_srv_serror_rate', 'class_label']]"
      ],
      "metadata": {
        "id": "oD-1urC1mvkn"
      },
      "execution_count": 39,
      "outputs": []
    },
    {
      "cell_type": "code",
      "source": [
        "intrusion_data_right['class_label'].value_counts()"
      ],
      "metadata": {
        "colab": {
          "base_uri": "https://localhost:8080/"
        },
        "id": "RTJHPXewsXES",
        "outputId": "40c3311b-fee2-44d1-bbb3-0356f140b938"
      },
      "execution_count": 40,
      "outputs": [
        {
          "output_type": "execute_result",
          "data": {
            "text/plain": [
              "0    13449\n",
              "1    11743\n",
              "Name: class_label, dtype: int64"
            ]
          },
          "metadata": {},
          "execution_count": 40
        }
      ]
    },
    {
      "cell_type": "code",
      "source": [
        "int_corr = int_corr.corr()\n",
        "plt.figure(figsize=(22, 20))\n",
        "sns.set_context('paper', font_scale=1.4)\n",
        "sns.heatmap(int_corr, annot=True, cmap='viridis', fmt='.2f')\n",
        "plt.show()"
      ],
      "metadata": {
        "colab": {
          "base_uri": "https://localhost:8080/",
          "height": 1000
        },
        "id": "1JyZmDuAlfBP",
        "outputId": "61334099-aba4-4466-83a9-e2653e740b52"
      },
      "execution_count": 41,
      "outputs": [
        {
          "output_type": "display_data",
          "data": {
            "text/plain": [
              "<Figure size 2640x2400 with 2 Axes>"
            ],
            "image/png": "[encoded data removed]"
          },
          "metadata": {}
        }
      ]
    },
    {
      "cell_type": "code",
      "source": [
        "int_data_no_strings"
      ],
      "metadata": {
        "colab": {
          "base_uri": "https://localhost:8080/",
          "height": 443
        },
        "id": "aWd3Qiv4dUwN",
        "outputId": "70702531-295a-478f-f5ef-415ea02c3bff"
      },
      "execution_count": 42,
      "outputs": [
        {
          "output_type": "execute_result",
          "data": {
            "text/plain": [
              "       duration  src_bytes  dst_bytes  land  wrong_fragment  urgent  hot  \\\n",
              "0             0        491          0     0               0       0    0   \n",
              "1             0        146          0     0               0       0    0   \n",
              "2             0          0          0     0               0       0    0   \n",
              "3             0        232       8153     0               0       0    0   \n",
              "4             0        199        420     0               0       0    0   \n",
              "...         ...        ...        ...   ...             ...     ...  ...   \n",
              "25187         0          0          0     0               0       0    0   \n",
              "25188         0        334          0     0               0       0    0   \n",
              "25189         0          0          0     0               0       0    0   \n",
              "25190         0          0          0     0               0       0    0   \n",
              "25191         0          0          0     0               0       0    0   \n",
              "\n",
              "       num_failed_logins  logged_in  num_compromised  ...  \\\n",
              "0                      0          0                0  ...   \n",
              "1                      0          0                0  ...   \n",
              "2                      0          0                0  ...   \n",
              "3                      0          1                0  ...   \n",
              "4                      0          1                0  ...   \n",
              "...                  ...        ...              ...  ...   \n",
              "25187                  0          0                0  ...   \n",
              "25188                  0          1                0  ...   \n",
              "25189                  0          0                0  ...   \n",
              "25190                  0          0                0  ...   \n",
              "25191                  0          0                0  ...   \n",
              "\n",
              "       dst_host_same_srv_rate  dst_host_diff_srv_rate  \\\n",
              "0                        0.17                    0.03   \n",
              "1                        0.00                    0.60   \n",
              "2                        0.10                    0.05   \n",
              "3                        1.00                    0.00   \n",
              "4                        1.00                    0.00   \n",
              "...                       ...                     ...   \n",
              "25187                    0.03                    0.06   \n",
              "25188                    1.00                    0.00   \n",
              "25189                    0.05                    0.07   \n",
              "25190                    0.08                    0.06   \n",
              "25191                    0.19                    0.03   \n",
              "\n",
              "       dst_host_same_src_port_rate  dst_host_srv_diff_host_rate  \\\n",
              "0                             0.17                         0.00   \n",
              "1                             0.88                         0.00   \n",
              "2                             0.00                         0.00   \n",
              "3                             0.03                         0.04   \n",
              "4                             0.00                         0.00   \n",
              "...                            ...                          ...   \n",
              "25187                         0.00                         0.00   \n",
              "25188                         1.00                         0.18   \n",
              "25189                         0.00                         0.00   \n",
              "25190                         0.00                         0.00   \n",
              "25191                         0.01                         0.00   \n",
              "\n",
              "       dst_host_serror_rate  dst_host_srv_serror_rate  dst_host_rerror_rate  \\\n",
              "0                      0.00                      0.00                  0.05   \n",
              "1                      0.00                      0.00                  0.00   \n",
              "2                      1.00                      1.00                  0.00   \n",
              "3                      0.03                      0.01                  0.00   \n",
              "4                      0.00                      0.00                  0.00   \n",
              "...                     ...                       ...                   ...   \n",
              "25187                  0.00                      0.00                  1.00   \n",
              "25188                  0.00                      0.00                  0.00   \n",
              "25189                  0.00                      0.00                  1.00   \n",
              "25190                  1.00                      1.00                  0.00   \n",
              "25191                  1.00                      1.00                  0.00   \n",
              "\n",
              "       dst_host_srv_rerror_rate  class_label  anomolous_behaviour  \n",
              "0                          0.00            0                    0  \n",
              "1                          0.00            0                    0  \n",
              "2                          0.00            1                    1  \n",
              "3                          0.01            0                    0  \n",
              "4                          0.00            0                    0  \n",
              "...                         ...          ...                  ...  \n",
              "25187                      1.00            1                    1  \n",
              "25188                      0.00            1                    1  \n",
              "25189                      1.00            1                    1  \n",
              "25190                      0.00            1                    1  \n",
              "25191                      0.00            1                    1  \n",
              "\n",
              "[25192 rows x 40 columns]"
            ],
            "text/html": [
              "\n",
              "  <div id=\"df-d9b15af7-3f70-436b-b97a-7f3734c9ef1f\" class=\"colab-df-container\">\n",
              "    <div>\n",
              "<style scoped>\n",
              "    .dataframe tbody tr th:only-of-type {\n",
              "        vertical-align: middle;\n",
              "    }\n",
              "\n",
              "    .dataframe tbody tr th {\n",
              "        vertical-align: top;\n",
              "    }\n",
              "\n",
              "    .dataframe thead th {\n",
              "        text-align: right;\n",
              "    }\n",
              "</style>\n",
              "<table border=\"1\" class=\"dataframe\">\n",
              "  <thead>\n",
              "    <tr style=\"text-align: right;\">\n",
              "      <th></th>\n",
              "      <th>duration</th>\n",
              "      <th>src_bytes</th>\n",
              "      <th>dst_bytes</th>\n",
              "      <th>land</th>\n",
              "      <th>wrong_fragment</th>\n",
              "      <th>urgent</th>\n",
              "      <th>hot</th>\n",
              "      <th>num_failed_logins</th>\n",
              "      <th>logged_in</th>\n",
              "      <th>num_compromised</th>\n",
              "      <th>...</th>\n",
              "      <th>dst_host_same_srv_rate</th>\n",
              "      <th>dst_host_diff_srv_rate</th>\n",
              "      <th>dst_host_same_src_port_rate</th>\n",
              "      <th>dst_host_srv_diff_host_rate</th>\n",
              "      <th>dst_host_serror_rate</th>\n",
              "      <th>dst_host_srv_serror_rate</th>\n",
              "      <th>dst_host_rerror_rate</th>\n",
              "      <th>dst_host_srv_rerror_rate</th>\n",
              "      <th>class_label</th>\n",
              "      <th>anomolous_behaviour</th>\n",
              "    </tr>\n",
              "  </thead>\n",
              "  <tbody>\n",
              "    <tr>\n",
              "      <th>0</th>\n",
              "      <td>0</td>\n",
              "      <td>491</td>\n",
              "      <td>0</td>\n",
              "      <td>0</td>\n",
              "      <td>0</td>\n",
              "      <td>0</td>\n",
              "      <td>0</td>\n",
              "      <td>0</td>\n",
              "      <td>0</td>\n",
              "      <td>0</td>\n",
              "      <td>...</td>\n",
              "      <td>0.17</td>\n",
              "      <td>0.03</td>\n",
              "      <td>0.17</td>\n",
              "      <td>0.00</td>\n",
              "      <td>0.00</td>\n",
              "      <td>0.00</td>\n",
              "      <td>0.05</td>\n",
              "      <td>0.00</td>\n",
              "      <td>0</td>\n",
              "      <td>0</td>\n",
              "    </tr>\n",
              "    <tr>\n",
              "      <th>1</th>\n",
              "      <td>0</td>\n",
              "      <td>146</td>\n",
              "      <td>0</td>\n",
              "      <td>0</td>\n",
              "      <td>0</td>\n",
              "      <td>0</td>\n",
              "      <td>0</td>\n",
              "      <td>0</td>\n",
              "      <td>0</td>\n",
              "      <td>0</td>\n",
              "      <td>...</td>\n",
              "      <td>0.00</td>\n",
              "      <td>0.60</td>\n",
              "      <td>0.88</td>\n",
              "      <td>0.00</td>\n",
              "      <td>0.00</td>\n",
              "      <td>0.00</td>\n",
              "      <td>0.00</td>\n",
              "      <td>0.00</td>\n",
              "      <td>0</td>\n",
              "      <td>0</td>\n",
              "    </tr>\n",
              "    <tr>\n",
              "      <th>2</th>\n",
              "      <td>0</td>\n",
              "      <td>0</td>\n",
              "      <td>0</td>\n",
              "      <td>0</td>\n",
              "      <td>0</td>\n",
              "      <td>0</td>\n",
              "      <td>0</td>\n",
              "      <td>0</td>\n",
              "      <td>0</td>\n",
              "      <td>0</td>\n",
              "      <td>...</td>\n",
              "      <td>0.10</td>\n",
              "      <td>0.05</td>\n",
              "      <td>0.00</td>\n",
              "      <td>0.00</td>\n",
              "      <td>1.00</td>\n",
              "      <td>1.00</td>\n",
              "      <td>0.00</td>\n",
              "      <td>0.00</td>\n",
              "      <td>1</td>\n",
              "      <td>1</td>\n",
              "    </tr>\n",
              "    <tr>\n",
              "      <th>3</th>\n",
              "      <td>0</td>\n",
              "      <td>232</td>\n",
              "      <td>8153</td>\n",
              "      <td>0</td>\n",
              "      <td>0</td>\n",
              "      <td>0</td>\n",
              "      <td>0</td>\n",
              "      <td>0</td>\n",
              "      <td>1</td>\n",
              "      <td>0</td>\n",
              "      <td>...</td>\n",
              "      <td>1.00</td>\n",
              "      <td>0.00</td>\n",
              "      <td>0.03</td>\n",
              "      <td>0.04</td>\n",
              "      <td>0.03</td>\n",
              "      <td>0.01</td>\n",
              "      <td>0.00</td>\n",
              "      <td>0.01</td>\n",
              "      <td>0</td>\n",
              "      <td>0</td>\n",
              "    </tr>\n",
              "    <tr>\n",
              "      <th>4</th>\n",
              "      <td>0</td>\n",
              "      <td>199</td>\n",
              "      <td>420</td>\n",
              "      <td>0</td>\n",
              "      <td>0</td>\n",
              "      <td>0</td>\n",
              "      <td>0</td>\n",
              "      <td>0</td>\n",
              "      <td>1</td>\n",
              "      <td>0</td>\n",
              "      <td>...</td>\n",
              "      <td>1.00</td>\n",
              "      <td>0.00</td>\n",
              "      <td>0.00</td>\n",
              "      <td>0.00</td>\n",
              "      <td>0.00</td>\n",
              "      <td>0.00</td>\n",
              "      <td>0.00</td>\n",
              "      <td>0.00</td>\n",
              "      <td>0</td>\n",
              "      <td>0</td>\n",
              "    </tr>\n",
              "    <tr>\n",
              "      <th>...</th>\n",
              "      <td>...</td>\n",
              "      <td>...</td>\n",
              "      <td>...</td>\n",
              "      <td>...</td>\n",
              "      <td>...</td>\n",
              "      <td>...</td>\n",
              "      <td>...</td>\n",
              "      <td>...</td>\n",
              "      <td>...</td>\n",
              "      <td>...</td>\n",
              "      <td>...</td>\n",
              "      <td>...</td>\n",
              "      <td>...</td>\n",
              "      <td>...</td>\n",
              "      <td>...</td>\n",
              "      <td>...</td>\n",
              "      <td>...</td>\n",
              "      <td>...</td>\n",
              "      <td>...</td>\n",
              "      <td>...</td>\n",
              "      <td>...</td>\n",
              "    </tr>\n",
              "    <tr>\n",
              "      <th>25187</th>\n",
              "      <td>0</td>\n",
              "      <td>0</td>\n",
              "      <td>0</td>\n",
              "      <td>0</td>\n",
              "      <td>0</td>\n",
              "      <td>0</td>\n",
              "      <td>0</td>\n",
              "      <td>0</td>\n",
              "      <td>0</td>\n",
              "      <td>0</td>\n",
              "      <td>...</td>\n",
              "      <td>0.03</td>\n",
              "      <td>0.06</td>\n",
              "      <td>0.00</td>\n",
              "      <td>0.00</td>\n",
              "      <td>0.00</td>\n",
              "      <td>0.00</td>\n",
              "      <td>1.00</td>\n",
              "      <td>1.00</td>\n",
              "      <td>1</td>\n",
              "      <td>1</td>\n",
              "    </tr>\n",
              "    <tr>\n",
              "      <th>25188</th>\n",
              "      <td>0</td>\n",
              "      <td>334</td>\n",
              "      <td>0</td>\n",
              "      <td>0</td>\n",
              "      <td>0</td>\n",
              "      <td>0</td>\n",
              "      <td>0</td>\n",
              "      <td>0</td>\n",
              "      <td>1</td>\n",
              "      <td>0</td>\n",
              "      <td>...</td>\n",
              "      <td>1.00</td>\n",
              "      <td>0.00</td>\n",
              "      <td>1.00</td>\n",
              "      <td>0.18</td>\n",
              "      <td>0.00</td>\n",
              "      <td>0.00</td>\n",
              "      <td>0.00</td>\n",
              "      <td>0.00</td>\n",
              "      <td>1</td>\n",
              "      <td>1</td>\n",
              "    </tr>\n",
              "    <tr>\n",
              "      <th>25189</th>\n",
              "      <td>0</td>\n",
              "      <td>0</td>\n",
              "      <td>0</td>\n",
              "      <td>0</td>\n",
              "      <td>0</td>\n",
              "      <td>0</td>\n",
              "      <td>0</td>\n",
              "      <td>0</td>\n",
              "      <td>0</td>\n",
              "      <td>0</td>\n",
              "      <td>...</td>\n",
              "      <td>0.05</td>\n",
              "      <td>0.07</td>\n",
              "      <td>0.00</td>\n",
              "      <td>0.00</td>\n",
              "      <td>0.00</td>\n",
              "      <td>0.00</td>\n",
              "      <td>1.00</td>\n",
              "      <td>1.00</td>\n",
              "      <td>1</td>\n",
              "      <td>1</td>\n",
              "    </tr>\n",
              "    <tr>\n",
              "      <th>25190</th>\n",
              "      <td>0</td>\n",
              "      <td>0</td>\n",
              "      <td>0</td>\n",
              "      <td>0</td>\n",
              "      <td>0</td>\n",
              "      <td>0</td>\n",
              "      <td>0</td>\n",
              "      <td>0</td>\n",
              "      <td>0</td>\n",
              "      <td>0</td>\n",
              "      <td>...</td>\n",
              "      <td>0.08</td>\n",
              "      <td>0.06</td>\n",
              "      <td>0.00</td>\n",
              "      <td>0.00</td>\n",
              "      <td>1.00</td>\n",
              "      <td>1.00</td>\n",
              "      <td>0.00</td>\n",
              "      <td>0.00</td>\n",
              "      <td>1</td>\n",
              "      <td>1</td>\n",
              "    </tr>\n",
              "    <tr>\n",
              "      <th>25191</th>\n",
              "      <td>0</td>\n",
              "      <td>0</td>\n",
              "      <td>0</td>\n",
              "      <td>0</td>\n",
              "      <td>0</td>\n",
              "      <td>0</td>\n",
              "      <td>0</td>\n",
              "      <td>0</td>\n",
              "      <td>0</td>\n",
              "      <td>0</td>\n",
              "      <td>...</td>\n",
              "      <td>0.19</td>\n",
              "      <td>0.03</td>\n",
              "      <td>0.01</td>\n",
              "      <td>0.00</td>\n",
              "      <td>1.00</td>\n",
              "      <td>1.00</td>\n",
              "      <td>0.00</td>\n",
              "      <td>0.00</td>\n",
              "      <td>1</td>\n",
              "      <td>1</td>\n",
              "    </tr>\n",
              "  </tbody>\n",
              "</table>\n",
              "<p>25192 rows × 40 columns</p>\n",
              "</div>\n",
              "    <div class=\"colab-df-buttons\">\n",
              "\n",
              "  <div class=\"colab-df-container\">\n",
              "    <button class=\"colab-df-convert\" onclick=\"convertToInteractive('df-d9b15af7-3f70-436b-b97a-7f3734c9ef1f')\"\n",
              "            title=\"Convert this dataframe to an interactive table.\"\n",
              "            style=\"display:none;\">\n",
              "\n",
              "  <svg xmlns=\"http://www.w3.org/2000/svg\" height=\"24px\" viewBox=\"0 -960 960 960\">\n",
              "    <path d=\"M120-120v-720h720v720H120Zm60-500h600v-160H180v160Zm220 220h160v-160H400v160Zm0 220h160v-160H400v160ZM180-400h160v-160H180v160Zm440 0h160v-160H620v160ZM180-180h160v-160H180v160Zm440 0h160v-160H620v160Z\"/>\n",
              "  </svg>\n",
              "    </button>\n",
              "\n",
              "  <style>\n",
              "    .colab-df-container {\n",
              "      display:flex;\n",
              "      gap: 12px;\n",
              "    }\n",
              "\n",
              "    .colab-df-convert {\n",
              "      background-color: #E8F0FE;\n",
              "      border: none;\n",
              "      border-radius: 50%;\n",
              "      cursor: pointer;\n",
              "      display: none;\n",
              "      fill: #1967D2;\n",
              "      height: 32px;\n",
              "      padding: 0 0 0 0;\n",
              "      width: 32px;\n",
              "    }\n",
              "\n",
              "    .colab-df-convert:hover {\n",
              "      background-color: #E2EBFA;\n",
              "      box-shadow: 0px 1px 2px rgba(60, 64, 67, 0.3), 0px 1px 3px 1px rgba(60, 64, 67, 0.15);\n",
              "      fill: #174EA6;\n",
              "    }\n",
              "\n",
              "    .colab-df-buttons div {\n",
              "      margin-bottom: 4px;\n",
              "    }\n",
              "\n",
              "    [theme=dark] .colab-df-convert {\n",
              "      background-color: #3B4455;\n",
              "      fill: #D2E3FC;\n",
              "    }\n",
              "\n",
              "    [theme=dark] .colab-df-convert:hover {\n",
              "      background-color: #434B5C;\n",
              "      box-shadow: 0px 1px 3px 1px rgba(0, 0, 0, 0.15);\n",
              "      filter: drop-shadow(0px 1px 2px rgba(0, 0, 0, 0.3));\n",
              "      fill: #FFFFFF;\n",
              "    }\n",
              "  </style>\n",
              "\n",
              "    <script>\n",
              "      const buttonEl =\n",
              "        document.querySelector('#df-d9b15af7-3f70-436b-b97a-7f3734c9ef1f button.colab-df-convert');\n",
              "      buttonEl.style.display =\n",
              "        google.colab.kernel.accessAllowed ? 'block' : 'none';\n",
              "\n",
              "      async function convertToInteractive(key) {\n",
              "        const element = document.querySelector('#df-d9b15af7-3f70-436b-b97a-7f3734c9ef1f');\n",
              "        const dataTable =\n",
              "          await google.colab.kernel.invokeFunction('convertToInteractive',\n",
              "                                                    [key], {});\n",
              "        if (!dataTable) return;\n",
              "\n",
              "        const docLinkHtml = 'Like what you see? Visit the ' +\n",
              "          '<a target=\"_blank\" href=https://colab.research.google.com/notebooks/data_table.ipynb>data table notebook</a>'\n",
              "          + ' to learn more about interactive tables.';\n",
              "        element.innerHTML = '';\n",
              "        dataTable['output_type'] = 'display_data';\n",
              "        await google.colab.output.renderOutput(dataTable, element);\n",
              "        const docLink = document.createElement('div');\n",
              "        docLink.innerHTML = docLinkHtml;\n",
              "        element.appendChild(docLink);\n",
              "      }\n",
              "    </script>\n",
              "  </div>\n",
              "\n",
              "\n",
              "<div id=\"df-955ee1bd-a8e6-47e7-bee5-2a48b56678c7\">\n",
              "  <button class=\"colab-df-quickchart\" onclick=\"quickchart('df-955ee1bd-a8e6-47e7-bee5-2a48b56678c7')\"\n",
              "            title=\"Suggest charts\"\n",
              "            style=\"display:none;\">\n",
              "\n",
              "<svg xmlns=\"http://www.w3.org/2000/svg\" height=\"24px\"viewBox=\"0 0 24 24\"\n",
              "     width=\"24px\">\n",
              "    <g>\n",
              "        <path d=\"M19 3H5c-1.1 0-2 .9-2 2v14c0 1.1.9 2 2 2h14c1.1 0 2-.9 2-2V5c0-1.1-.9-2-2-2zM9 17H7v-7h2v7zm4 0h-2V7h2v10zm4 0h-2v-4h2v4z\"/>\n",
              "    </g>\n",
              "</svg>\n",
              "  </button>\n",
              "\n",
              "<style>\n",
              "  .colab-df-quickchart {\n",
              "      --bg-color: #E8F0FE;\n",
              "      --fill-color: #1967D2;\n",
              "      --hover-bg-color: #E2EBFA;\n",
              "      --hover-fill-color: #174EA6;\n",
              "      --disabled-fill-color: #AAA;\n",
              "      --disabled-bg-color: #DDD;\n",
              "  }\n",
              "\n",
              "  [theme=dark] .colab-df-quickchart {\n",
              "      --bg-color: #3B4455;\n",
              "      --fill-color: #D2E3FC;\n",
              "      --hover-bg-color: #434B5C;\n",
              "      --hover-fill-color: #FFFFFF;\n",
              "      --disabled-bg-color: #3B4455;\n",
              "      --disabled-fill-color: #666;\n",
              "  }\n",
              "\n",
              "  .colab-df-quickchart {\n",
              "    background-color: var(--bg-color);\n",
              "    border: none;\n",
              "    border-radius: 50%;\n",
              "    cursor: pointer;\n",
              "    display: none;\n",
              "    fill: var(--fill-color);\n",
              "    height: 32px;\n",
              "    padding: 0;\n",
              "    width: 32px;\n",
              "  }\n",
              "\n",
              "  .colab-df-quickchart:hover {\n",
              "    background-color: var(--hover-bg-color);\n",
              "    box-shadow: 0 1px 2px rgba(60, 64, 67, 0.3), 0 1px 3px 1px rgba(60, 64, 67, 0.15);\n",
              "    fill: var(--button-hover-fill-color);\n",
              "  }\n",
              "\n",
              "  .colab-df-quickchart-complete:disabled,\n",
              "  .colab-df-quickchart-complete:disabled:hover {\n",
              "    background-color: var(--disabled-bg-color);\n",
              "    fill: var(--disabled-fill-color);\n",
              "    box-shadow: none;\n",
              "  }\n",
              "\n",
              "  .colab-df-spinner {\n",
              "    border: 2px solid var(--fill-color);\n",
              "    border-color: transparent;\n",
              "    border-bottom-color: var(--fill-color);\n",
              "    animation:\n",
              "      spin 1s steps(1) infinite;\n",
              "  }\n",
              "\n",
              "  @keyframes spin {\n",
              "    0% {\n",
              "      border-color: transparent;\n",
              "      border-bottom-color: var(--fill-color);\n",
              "      border-left-color: var(--fill-color);\n",
              "    }\n",
              "    20% {\n",
              "      border-color: transparent;\n",
              "      border-left-color: var(--fill-color);\n",
              "      border-top-color: var(--fill-color);\n",
              "    }\n",
              "    30% {\n",
              "      border-color: transparent;\n",
              "      border-left-color: var(--fill-color);\n",
              "      border-top-color: var(--fill-color);\n",
              "      border-right-color: var(--fill-color);\n",
              "    }\n",
              "    40% {\n",
              "      border-color: transparent;\n",
              "      border-right-color: var(--fill-color);\n",
              "      border-top-color: var(--fill-color);\n",
              "    }\n",
              "    60% {\n",
              "      border-color: transparent;\n",
              "      border-right-color: var(--fill-color);\n",
              "    }\n",
              "    80% {\n",
              "      border-color: transparent;\n",
              "      border-right-color: var(--fill-color);\n",
              "      border-bottom-color: var(--fill-color);\n",
              "    }\n",
              "    90% {\n",
              "      border-color: transparent;\n",
              "      border-bottom-color: var(--fill-color);\n",
              "    }\n",
              "  }\n",
              "</style>\n",
              "\n",
              "  <script>\n",
              "    async function quickchart(key) {\n",
              "      const quickchartButtonEl =\n",
              "        document.querySelector('#' + key + ' button');\n",
              "      quickchartButtonEl.disabled = true;  // To prevent multiple clicks.\n",
              "      quickchartButtonEl.classList.add('colab-df-spinner');\n",
              "      try {\n",
              "        const charts = await google.colab.kernel.invokeFunction(\n",
              "            'suggestCharts', [key], {});\n",
              "      } catch (error) {\n",
              "        console.error('Error during call to suggestCharts:', error);\n",
              "      }\n",
              "      quickchartButtonEl.classList.remove('colab-df-spinner');\n",
              "      quickchartButtonEl.classList.add('colab-df-quickchart-complete');\n",
              "    }\n",
              "    (() => {\n",
              "      let quickchartButtonEl =\n",
              "        document.querySelector('#df-955ee1bd-a8e6-47e7-bee5-2a48b56678c7 button');\n",
              "      quickchartButtonEl.style.display =\n",
              "        google.colab.kernel.accessAllowed ? 'block' : 'none';\n",
              "    })();\n",
              "  </script>\n",
              "</div>\n",
              "    </div>\n",
              "  </div>\n"
            ],
            "application/vnd.google.colaboratory.intrinsic+json": {
              "type": "dataframe",
              "variable_name": "int_data_no_strings"
            }
          },
          "metadata": {},
          "execution_count": 42
        }
      ]
    },
    {
      "cell_type": "code",
      "source": [
        "X\n"
      ],
      "metadata": {
        "colab": {
          "base_uri": "https://localhost:8080/",
          "height": 443
        },
        "id": "mGVae2gekbDB",
        "outputId": "05d85d57-16d6-433e-a334-b0db9722d23a"
      },
      "execution_count": 43,
      "outputs": [
        {
          "output_type": "execute_result",
          "data": {
            "text/plain": [
              "       duration  src_bytes  dst_bytes  land  wrong_fragment  urgent  hot  \\\n",
              "0             0        491          0     0               0       0    0   \n",
              "1             0        146          0     0               0       0    0   \n",
              "2             0          0          0     0               0       0    0   \n",
              "3             0        232       8153     0               0       0    0   \n",
              "4             0        199        420     0               0       0    0   \n",
              "...         ...        ...        ...   ...             ...     ...  ...   \n",
              "25187         0          0          0     0               0       0    0   \n",
              "25188         0        334          0     0               0       0    0   \n",
              "25189         0          0          0     0               0       0    0   \n",
              "25190         0          0          0     0               0       0    0   \n",
              "25191         0          0          0     0               0       0    0   \n",
              "\n",
              "       num_failed_logins  logged_in  num_compromised  ...  dst_host_srv_count  \\\n",
              "0                      0          0                0  ...                  25   \n",
              "1                      0          0                0  ...                   1   \n",
              "2                      0          0                0  ...                  26   \n",
              "3                      0          1                0  ...                 255   \n",
              "4                      0          1                0  ...                 255   \n",
              "...                  ...        ...              ...  ...                 ...   \n",
              "25187                  0          0                0  ...                   7   \n",
              "25188                  0          1                0  ...                  39   \n",
              "25189                  0          0                0  ...                  13   \n",
              "25190                  0          0                0  ...                  20   \n",
              "25191                  0          0                0  ...                  49   \n",
              "\n",
              "       dst_host_same_srv_rate  dst_host_diff_srv_rate  \\\n",
              "0                        0.17                    0.03   \n",
              "1                        0.00                    0.60   \n",
              "2                        0.10                    0.05   \n",
              "3                        1.00                    0.00   \n",
              "4                        1.00                    0.00   \n",
              "...                       ...                     ...   \n",
              "25187                    0.03                    0.06   \n",
              "25188                    1.00                    0.00   \n",
              "25189                    0.05                    0.07   \n",
              "25190                    0.08                    0.06   \n",
              "25191                    0.19                    0.03   \n",
              "\n",
              "       dst_host_same_src_port_rate  dst_host_srv_diff_host_rate  \\\n",
              "0                             0.17                         0.00   \n",
              "1                             0.88                         0.00   \n",
              "2                             0.00                         0.00   \n",
              "3                             0.03                         0.04   \n",
              "4                             0.00                         0.00   \n",
              "...                            ...                          ...   \n",
              "25187                         0.00                         0.00   \n",
              "25188                         1.00                         0.18   \n",
              "25189                         0.00                         0.00   \n",
              "25190                         0.00                         0.00   \n",
              "25191                         0.01                         0.00   \n",
              "\n",
              "       dst_host_serror_rate  dst_host_srv_serror_rate  dst_host_rerror_rate  \\\n",
              "0                      0.00                      0.00                  0.05   \n",
              "1                      0.00                      0.00                  0.00   \n",
              "2                      1.00                      1.00                  0.00   \n",
              "3                      0.03                      0.01                  0.00   \n",
              "4                      0.00                      0.00                  0.00   \n",
              "...                     ...                       ...                   ...   \n",
              "25187                  0.00                      0.00                  1.00   \n",
              "25188                  0.00                      0.00                  0.00   \n",
              "25189                  0.00                      0.00                  1.00   \n",
              "25190                  1.00                      1.00                  0.00   \n",
              "25191                  1.00                      1.00                  0.00   \n",
              "\n",
              "       dst_host_srv_rerror_rate  anomolous_behaviour  \n",
              "0                          0.00                    0  \n",
              "1                          0.00                    0  \n",
              "2                          0.00                    1  \n",
              "3                          0.01                    0  \n",
              "4                          0.00                    0  \n",
              "...                         ...                  ...  \n",
              "25187                      1.00                    1  \n",
              "25188                      0.00                    1  \n",
              "25189                      1.00                    1  \n",
              "25190                      0.00                    1  \n",
              "25191                      0.00                    1  \n",
              "\n",
              "[25192 rows x 39 columns]"
            ],
            "text/html": [
              "\n",
              "  <div id=\"df-b5412626-7def-46b3-9109-d4e3847e2720\" class=\"colab-df-container\">\n",
              "    <div>\n",
              "<style scoped>\n",
              "    .dataframe tbody tr th:only-of-type {\n",
              "        vertical-align: middle;\n",
              "    }\n",
              "\n",
              "    .dataframe tbody tr th {\n",
              "        vertical-align: top;\n",
              "    }\n",
              "\n",
              "    .dataframe thead th {\n",
              "        text-align: right;\n",
              "    }\n",
              "</style>\n",
              "<table border=\"1\" class=\"dataframe\">\n",
              "  <thead>\n",
              "    <tr style=\"text-align: right;\">\n",
              "      <th></th>\n",
              "      <th>duration</th>\n",
              "      <th>src_bytes</th>\n",
              "      <th>dst_bytes</th>\n",
              "      <th>land</th>\n",
              "      <th>wrong_fragment</th>\n",
              "      <th>urgent</th>\n",
              "      <th>hot</th>\n",
              "      <th>num_failed_logins</th>\n",
              "      <th>logged_in</th>\n",
              "      <th>num_compromised</th>\n",
              "      <th>...</th>\n",
              "      <th>dst_host_srv_count</th>\n",
              "      <th>dst_host_same_srv_rate</th>\n",
              "      <th>dst_host_diff_srv_rate</th>\n",
              "      <th>dst_host_same_src_port_rate</th>\n",
              "      <th>dst_host_srv_diff_host_rate</th>\n",
              "      <th>dst_host_serror_rate</th>\n",
              "      <th>dst_host_srv_serror_rate</th>\n",
              "      <th>dst_host_rerror_rate</th>\n",
              "      <th>dst_host_srv_rerror_rate</th>\n",
              "      <th>anomolous_behaviour</th>\n",
              "    </tr>\n",
              "  </thead>\n",
              "  <tbody>\n",
              "    <tr>\n",
              "      <th>0</th>\n",
              "      <td>0</td>\n",
              "      <td>491</td>\n",
              "      <td>0</td>\n",
              "      <td>0</td>\n",
              "      <td>0</td>\n",
              "      <td>0</td>\n",
              "      <td>0</td>\n",
              "      <td>0</td>\n",
              "      <td>0</td>\n",
              "      <td>0</td>\n",
              "      <td>...</td>\n",
              "      <td>25</td>\n",
              "      <td>0.17</td>\n",
              "      <td>0.03</td>\n",
              "      <td>0.17</td>\n",
              "      <td>0.00</td>\n",
              "      <td>0.00</td>\n",
              "      <td>0.00</td>\n",
              "      <td>0.05</td>\n",
              "      <td>0.00</td>\n",
              "      <td>0</td>\n",
              "    </tr>\n",
              "    <tr>\n",
              "      <th>1</th>\n",
              "      <td>0</td>\n",
              "      <td>146</td>\n",
              "      <td>0</td>\n",
              "      <td>0</td>\n",
              "      <td>0</td>\n",
              "      <td>0</td>\n",
              "      <td>0</td>\n",
              "      <td>0</td>\n",
              "      <td>0</td>\n",
              "      <td>0</td>\n",
              "      <td>...</td>\n",
              "      <td>1</td>\n",
              "      <td>0.00</td>\n",
              "      <td>0.60</td>\n",
              "      <td>0.88</td>\n",
              "      <td>0.00</td>\n",
              "      <td>0.00</td>\n",
              "      <td>0.00</td>\n",
              "      <td>0.00</td>\n",
              "      <td>0.00</td>\n",
              "      <td>0</td>\n",
              "    </tr>\n",
              "    <tr>\n",
              "      <th>2</th>\n",
              "      <td>0</td>\n",
              "      <td>0</td>\n",
              "      <td>0</td>\n",
              "      <td>0</td>\n",
              "      <td>0</td>\n",
              "      <td>0</td>\n",
              "      <td>0</td>\n",
              "      <td>0</td>\n",
              "      <td>0</td>\n",
              "      <td>0</td>\n",
              "      <td>...</td>\n",
              "      <td>26</td>\n",
              "      <td>0.10</td>\n",
              "      <td>0.05</td>\n",
              "      <td>0.00</td>\n",
              "      <td>0.00</td>\n",
              "      <td>1.00</td>\n",
              "      <td>1.00</td>\n",
              "      <td>0.00</td>\n",
              "      <td>0.00</td>\n",
              "      <td>1</td>\n",
              "    </tr>\n",
              "    <tr>\n",
              "      <th>3</th>\n",
              "      <td>0</td>\n",
              "      <td>232</td>\n",
              "      <td>8153</td>\n",
              "      <td>0</td>\n",
              "      <td>0</td>\n",
              "      <td>0</td>\n",
              "      <td>0</td>\n",
              "      <td>0</td>\n",
              "      <td>1</td>\n",
              "      <td>0</td>\n",
              "      <td>...</td>\n",
              "      <td>255</td>\n",
              "      <td>1.00</td>\n",
              "      <td>0.00</td>\n",
              "      <td>0.03</td>\n",
              "      <td>0.04</td>\n",
              "      <td>0.03</td>\n",
              "      <td>0.01</td>\n",
              "      <td>0.00</td>\n",
              "      <td>0.01</td>\n",
              "      <td>0</td>\n",
              "    </tr>\n",
              "    <tr>\n",
              "      <th>4</th>\n",
              "      <td>0</td>\n",
              "      <td>199</td>\n",
              "      <td>420</td>\n",
              "      <td>0</td>\n",
              "      <td>0</td>\n",
              "      <td>0</td>\n",
              "      <td>0</td>\n",
              "      <td>0</td>\n",
              "      <td>1</td>\n",
              "      <td>0</td>\n",
              "      <td>...</td>\n",
              "      <td>255</td>\n",
              "      <td>1.00</td>\n",
              "      <td>0.00</td>\n",
              "      <td>0.00</td>\n",
              "      <td>0.00</td>\n",
              "      <td>0.00</td>\n",
              "      <td>0.00</td>\n",
              "      <td>0.00</td>\n",
              "      <td>0.00</td>\n",
              "      <td>0</td>\n",
              "    </tr>\n",
              "    <tr>\n",
              "      <th>...</th>\n",
              "      <td>...</td>\n",
              "      <td>...</td>\n",
              "      <td>...</td>\n",
              "      <td>...</td>\n",
              "      <td>...</td>\n",
              "      <td>...</td>\n",
              "      <td>...</td>\n",
              "      <td>...</td>\n",
              "      <td>...</td>\n",
              "      <td>...</td>\n",
              "      <td>...</td>\n",
              "      <td>...</td>\n",
              "      <td>...</td>\n",
              "      <td>...</td>\n",
              "      <td>...</td>\n",
              "      <td>...</td>\n",
              "      <td>...</td>\n",
              "      <td>...</td>\n",
              "      <td>...</td>\n",
              "      <td>...</td>\n",
              "      <td>...</td>\n",
              "    </tr>\n",
              "    <tr>\n",
              "      <th>25187</th>\n",
              "      <td>0</td>\n",
              "      <td>0</td>\n",
              "      <td>0</td>\n",
              "      <td>0</td>\n",
              "      <td>0</td>\n",
              "      <td>0</td>\n",
              "      <td>0</td>\n",
              "      <td>0</td>\n",
              "      <td>0</td>\n",
              "      <td>0</td>\n",
              "      <td>...</td>\n",
              "      <td>7</td>\n",
              "      <td>0.03</td>\n",
              "      <td>0.06</td>\n",
              "      <td>0.00</td>\n",
              "      <td>0.00</td>\n",
              "      <td>0.00</td>\n",
              "      <td>0.00</td>\n",
              "      <td>1.00</td>\n",
              "      <td>1.00</td>\n",
              "      <td>1</td>\n",
              "    </tr>\n",
              "    <tr>\n",
              "      <th>25188</th>\n",
              "      <td>0</td>\n",
              "      <td>334</td>\n",
              "      <td>0</td>\n",
              "      <td>0</td>\n",
              "      <td>0</td>\n",
              "      <td>0</td>\n",
              "      <td>0</td>\n",
              "      <td>0</td>\n",
              "      <td>1</td>\n",
              "      <td>0</td>\n",
              "      <td>...</td>\n",
              "      <td>39</td>\n",
              "      <td>1.00</td>\n",
              "      <td>0.00</td>\n",
              "      <td>1.00</td>\n",
              "      <td>0.18</td>\n",
              "      <td>0.00</td>\n",
              "      <td>0.00</td>\n",
              "      <td>0.00</td>\n",
              "      <td>0.00</td>\n",
              "      <td>1</td>\n",
              "    </tr>\n",
              "    <tr>\n",
              "      <th>25189</th>\n",
              "      <td>0</td>\n",
              "      <td>0</td>\n",
              "      <td>0</td>\n",
              "      <td>0</td>\n",
              "      <td>0</td>\n",
              "      <td>0</td>\n",
              "      <td>0</td>\n",
              "      <td>0</td>\n",
              "      <td>0</td>\n",
              "      <td>0</td>\n",
              "      <td>...</td>\n",
              "      <td>13</td>\n",
              "      <td>0.05</td>\n",
              "      <td>0.07</td>\n",
              "      <td>0.00</td>\n",
              "      <td>0.00</td>\n",
              "      <td>0.00</td>\n",
              "      <td>0.00</td>\n",
              "      <td>1.00</td>\n",
              "      <td>1.00</td>\n",
              "      <td>1</td>\n",
              "    </tr>\n",
              "    <tr>\n",
              "      <th>25190</th>\n",
              "      <td>0</td>\n",
              "      <td>0</td>\n",
              "      <td>0</td>\n",
              "      <td>0</td>\n",
              "      <td>0</td>\n",
              "      <td>0</td>\n",
              "      <td>0</td>\n",
              "      <td>0</td>\n",
              "      <td>0</td>\n",
              "      <td>0</td>\n",
              "      <td>...</td>\n",
              "      <td>20</td>\n",
              "      <td>0.08</td>\n",
              "      <td>0.06</td>\n",
              "      <td>0.00</td>\n",
              "      <td>0.00</td>\n",
              "      <td>1.00</td>\n",
              "      <td>1.00</td>\n",
              "      <td>0.00</td>\n",
              "      <td>0.00</td>\n",
              "      <td>1</td>\n",
              "    </tr>\n",
              "    <tr>\n",
              "      <th>25191</th>\n",
              "      <td>0</td>\n",
              "      <td>0</td>\n",
              "      <td>0</td>\n",
              "      <td>0</td>\n",
              "      <td>0</td>\n",
              "      <td>0</td>\n",
              "      <td>0</td>\n",
              "      <td>0</td>\n",
              "      <td>0</td>\n",
              "      <td>0</td>\n",
              "      <td>...</td>\n",
              "      <td>49</td>\n",
              "      <td>0.19</td>\n",
              "      <td>0.03</td>\n",
              "      <td>0.01</td>\n",
              "      <td>0.00</td>\n",
              "      <td>1.00</td>\n",
              "      <td>1.00</td>\n",
              "      <td>0.00</td>\n",
              "      <td>0.00</td>\n",
              "      <td>1</td>\n",
              "    </tr>\n",
              "  </tbody>\n",
              "</table>\n",
              "<p>25192 rows × 39 columns</p>\n",
              "</div>\n",
              "    <div class=\"colab-df-buttons\">\n",
              "\n",
              "  <div class=\"colab-df-container\">\n",
              "    <button class=\"colab-df-convert\" onclick=\"convertToInteractive('df-b5412626-7def-46b3-9109-d4e3847e2720')\"\n",
              "            title=\"Convert this dataframe to an interactive table.\"\n",
              "            style=\"display:none;\">\n",
              "\n",
              "  <svg xmlns=\"http://www.w3.org/2000/svg\" height=\"24px\" viewBox=\"0 -960 960 960\">\n",
              "    <path d=\"M120-120v-720h720v720H120Zm60-500h600v-160H180v160Zm220 220h160v-160H400v160Zm0 220h160v-160H400v160ZM180-400h160v-160H180v160Zm440 0h160v-160H620v160ZM180-180h160v-160H180v160Zm440 0h160v-160H620v160Z\"/>\n",
              "  </svg>\n",
              "    </button>\n",
              "\n",
              "  <style>\n",
              "    .colab-df-container {\n",
              "      display:flex;\n",
              "      gap: 12px;\n",
              "    }\n",
              "\n",
              "    .colab-df-convert {\n",
              "      background-color: #E8F0FE;\n",
              "      border: none;\n",
              "      border-radius: 50%;\n",
              "      cursor: pointer;\n",
              "      display: none;\n",
              "      fill: #1967D2;\n",
              "      height: 32px;\n",
              "      padding: 0 0 0 0;\n",
              "      width: 32px;\n",
              "    }\n",
              "\n",
              "    .colab-df-convert:hover {\n",
              "      background-color: #E2EBFA;\n",
              "      box-shadow: 0px 1px 2px rgba(60, 64, 67, 0.3), 0px 1px 3px 1px rgba(60, 64, 67, 0.15);\n",
              "      fill: #174EA6;\n",
              "    }\n",
              "\n",
              "    .colab-df-buttons div {\n",
              "      margin-bottom: 4px;\n",
              "    }\n",
              "\n",
              "    [theme=dark] .colab-df-convert {\n",
              "      background-color: #3B4455;\n",
              "      fill: #D2E3FC;\n",
              "    }\n",
              "\n",
              "    [theme=dark] .colab-df-convert:hover {\n",
              "      background-color: #434B5C;\n",
              "      box-shadow: 0px 1px 3px 1px rgba(0, 0, 0, 0.15);\n",
              "      filter: drop-shadow(0px 1px 2px rgba(0, 0, 0, 0.3));\n",
              "      fill: #FFFFFF;\n",
              "    }\n",
              "  </style>\n",
              "\n",
              "    <script>\n",
              "      const buttonEl =\n",
              "        document.querySelector('#df-b5412626-7def-46b3-9109-d4e3847e2720 button.colab-df-convert');\n",
              "      buttonEl.style.display =\n",
              "        google.colab.kernel.accessAllowed ? 'block' : 'none';\n",
              "\n",
              "      async function convertToInteractive(key) {\n",
              "        const element = document.querySelector('#df-b5412626-7def-46b3-9109-d4e3847e2720');\n",
              "        const dataTable =\n",
              "          await google.colab.kernel.invokeFunction('convertToInteractive',\n",
              "                                                    [key], {});\n",
              "        if (!dataTable) return;\n",
              "\n",
              "        const docLinkHtml = 'Like what you see? Visit the ' +\n",
              "          '<a target=\"_blank\" href=https://colab.research.google.com/notebooks/data_table.ipynb>data table notebook</a>'\n",
              "          + ' to learn more about interactive tables.';\n",
              "        element.innerHTML = '';\n",
              "        dataTable['output_type'] = 'display_data';\n",
              "        await google.colab.output.renderOutput(dataTable, element);\n",
              "        const docLink = document.createElement('div');\n",
              "        docLink.innerHTML = docLinkHtml;\n",
              "        element.appendChild(docLink);\n",
              "      }\n",
              "    </script>\n",
              "  </div>\n",
              "\n",
              "\n",
              "<div id=\"df-506b7e72-1e30-4390-8876-93f43d43ab1a\">\n",
              "  <button class=\"colab-df-quickchart\" onclick=\"quickchart('df-506b7e72-1e30-4390-8876-93f43d43ab1a')\"\n",
              "            title=\"Suggest charts\"\n",
              "            style=\"display:none;\">\n",
              "\n",
              "<svg xmlns=\"http://www.w3.org/2000/svg\" height=\"24px\"viewBox=\"0 0 24 24\"\n",
              "     width=\"24px\">\n",
              "    <g>\n",
              "        <path d=\"M19 3H5c-1.1 0-2 .9-2 2v14c0 1.1.9 2 2 2h14c1.1 0 2-.9 2-2V5c0-1.1-.9-2-2-2zM9 17H7v-7h2v7zm4 0h-2V7h2v10zm4 0h-2v-4h2v4z\"/>\n",
              "    </g>\n",
              "</svg>\n",
              "  </button>\n",
              "\n",
              "<style>\n",
              "  .colab-df-quickchart {\n",
              "      --bg-color: #E8F0FE;\n",
              "      --fill-color: #1967D2;\n",
              "      --hover-bg-color: #E2EBFA;\n",
              "      --hover-fill-color: #174EA6;\n",
              "      --disabled-fill-color: #AAA;\n",
              "      --disabled-bg-color: #DDD;\n",
              "  }\n",
              "\n",
              "  [theme=dark] .colab-df-quickchart {\n",
              "      --bg-color: #3B4455;\n",
              "      --fill-color: #D2E3FC;\n",
              "      --hover-bg-color: #434B5C;\n",
              "      --hover-fill-color: #FFFFFF;\n",
              "      --disabled-bg-color: #3B4455;\n",
              "      --disabled-fill-color: #666;\n",
              "  }\n",
              "\n",
              "  .colab-df-quickchart {\n",
              "    background-color: var(--bg-color);\n",
              "    border: none;\n",
              "    border-radius: 50%;\n",
              "    cursor: pointer;\n",
              "    display: none;\n",
              "    fill: var(--fill-color);\n",
              "    height: 32px;\n",
              "    padding: 0;\n",
              "    width: 32px;\n",
              "  }\n",
              "\n",
              "  .colab-df-quickchart:hover {\n",
              "    background-color: var(--hover-bg-color);\n",
              "    box-shadow: 0 1px 2px rgba(60, 64, 67, 0.3), 0 1px 3px 1px rgba(60, 64, 67, 0.15);\n",
              "    fill: var(--button-hover-fill-color);\n",
              "  }\n",
              "\n",
              "  .colab-df-quickchart-complete:disabled,\n",
              "  .colab-df-quickchart-complete:disabled:hover {\n",
              "    background-color: var(--disabled-bg-color);\n",
              "    fill: var(--disabled-fill-color);\n",
              "    box-shadow: none;\n",
              "  }\n",
              "\n",
              "  .colab-df-spinner {\n",
              "    border: 2px solid var(--fill-color);\n",
              "    border-color: transparent;\n",
              "    border-bottom-color: var(--fill-color);\n",
              "    animation:\n",
              "      spin 1s steps(1) infinite;\n",
              "  }\n",
              "\n",
              "  @keyframes spin {\n",
              "    0% {\n",
              "      border-color: transparent;\n",
              "      border-bottom-color: var(--fill-color);\n",
              "      border-left-color: var(--fill-color);\n",
              "    }\n",
              "    20% {\n",
              "      border-color: transparent;\n",
              "      border-left-color: var(--fill-color);\n",
              "      border-top-color: var(--fill-color);\n",
              "    }\n",
              "    30% {\n",
              "      border-color: transparent;\n",
              "      border-left-color: var(--fill-color);\n",
              "      border-top-color: var(--fill-color);\n",
              "      border-right-color: var(--fill-color);\n",
              "    }\n",
              "    40% {\n",
              "      border-color: transparent;\n",
              "      border-right-color: var(--fill-color);\n",
              "      border-top-color: var(--fill-color);\n",
              "    }\n",
              "    60% {\n",
              "      border-color: transparent;\n",
              "      border-right-color: var(--fill-color);\n",
              "    }\n",
              "    80% {\n",
              "      border-color: transparent;\n",
              "      border-right-color: var(--fill-color);\n",
              "      border-bottom-color: var(--fill-color);\n",
              "    }\n",
              "    90% {\n",
              "      border-color: transparent;\n",
              "      border-bottom-color: var(--fill-color);\n",
              "    }\n",
              "  }\n",
              "</style>\n",
              "\n",
              "  <script>\n",
              "    async function quickchart(key) {\n",
              "      const quickchartButtonEl =\n",
              "        document.querySelector('#' + key + ' button');\n",
              "      quickchartButtonEl.disabled = true;  // To prevent multiple clicks.\n",
              "      quickchartButtonEl.classList.add('colab-df-spinner');\n",
              "      try {\n",
              "        const charts = await google.colab.kernel.invokeFunction(\n",
              "            'suggestCharts', [key], {});\n",
              "      } catch (error) {\n",
              "        console.error('Error during call to suggestCharts:', error);\n",
              "      }\n",
              "      quickchartButtonEl.classList.remove('colab-df-spinner');\n",
              "      quickchartButtonEl.classList.add('colab-df-quickchart-complete');\n",
              "    }\n",
              "    (() => {\n",
              "      let quickchartButtonEl =\n",
              "        document.querySelector('#df-506b7e72-1e30-4390-8876-93f43d43ab1a button');\n",
              "      quickchartButtonEl.style.display =\n",
              "        google.colab.kernel.accessAllowed ? 'block' : 'none';\n",
              "    })();\n",
              "  </script>\n",
              "</div>\n",
              "    </div>\n",
              "  </div>\n"
            ],
            "application/vnd.google.colaboratory.intrinsic+json": {
              "type": "dataframe",
              "variable_name": "X"
            }
          },
          "metadata": {},
          "execution_count": 43
        }
      ]
    },
    {
      "cell_type": "markdown",
      "source": [],
      "metadata": {
        "id": "2x3p60TYf1lE"
      }
    },
    {
      "cell_type": "code",
      "source": [
        "y"
      ],
      "metadata": {
        "colab": {
          "base_uri": "https://localhost:8080/"
        },
        "id": "LYDhtkC3lRMi",
        "outputId": "cdab2bff-077b-4c93-8050-18ad3d006b0c"
      },
      "execution_count": 44,
      "outputs": [
        {
          "output_type": "execute_result",
          "data": {
            "text/plain": [
              "0        0\n",
              "1        0\n",
              "2        1\n",
              "3        0\n",
              "4        0\n",
              "        ..\n",
              "25187    1\n",
              "25188    1\n",
              "25189    1\n",
              "25190    1\n",
              "25191    1\n",
              "Name: class_label, Length: 25192, dtype: int64"
            ]
          },
          "metadata": {},
          "execution_count": 44
        }
      ]
    },
    {
      "cell_type": "markdown",
      "source": [
        "# Feature Selection using information gain"
      ],
      "metadata": {
        "id": "CVwRjMEAPe0k"
      }
    },
    {
      "cell_type": "code",
      "source": [
        "from sklearn.feature_selection import SelectKBest, mutual_info_classif\n",
        "\n",
        "X = labeled_unbalanced.drop('ExpiredHospital', axis=1)  # Features\n",
        "y = labeled_unbalanced['ExpiredHospital']  # Target variable\n",
        "\n",
        "# Calculate mutual information scores\n",
        "mutual_info_scores = SelectKBest(score_func=mutual_info_classif, k='all')\n",
        "mutual_info_scores.fit(X, y)\n",
        "\n",
        "# Get feature importance scores\n",
        "feature_scores = mutual_info_scores.scores_\n",
        "\n",
        "# Rank features based on importance scores\n",
        "feature_ranking = sorted(list(zip(X.columns, feature_scores)), key=lambda x: x[1], reverse=True)\n",
        "\n",
        "# Print the top 15 features with highest information gain\n",
        "top_features = 15\n",
        "top_feature_list = []\n",
        "print(f\"Top {top_features} features with highest information gain:\")\n",
        "for feature, score in feature_ranking[:top_features]:\n",
        "  top_feature_list.append(feature)\n",
        "  print(f\"{feature}: {score:.4f}\")"
      ],
      "metadata": {
        "colab": {
          "base_uri": "https://localhost:8080/",
          "height": 211
        },
        "id": "lwCRzcdEPjJT",
        "outputId": "7dff38a7-790e-4398-c2d0-9bff8e605363"
      },
      "execution_count": 45,
      "outputs": [
        {
          "output_type": "error",
          "ename": "NameError",
          "evalue": "name 'labeled_unbalanced' is not defined",
          "traceback": [
            "\u001b[0;31m---------------------------------------------------------------------------\u001b[0m",
            "\u001b[0;31mNameError\u001b[0m                                 Traceback (most recent call last)",
            "\u001b[0;32m<ipython-input-45-03bd6edff176>\u001b[0m in \u001b[0;36m<cell line: 3>\u001b[0;34m()\u001b[0m\n\u001b[1;32m      1\u001b[0m \u001b[0;32mfrom\u001b[0m \u001b[0msklearn\u001b[0m\u001b[0;34m.\u001b[0m\u001b[0mfeature_selection\u001b[0m \u001b[0;32mimport\u001b[0m \u001b[0mSelectKBest\u001b[0m\u001b[0;34m,\u001b[0m \u001b[0mmutual_info_classif\u001b[0m\u001b[0;34m\u001b[0m\u001b[0;34m\u001b[0m\u001b[0m\n\u001b[1;32m      2\u001b[0m \u001b[0;34m\u001b[0m\u001b[0m\n\u001b[0;32m----> 3\u001b[0;31m \u001b[0mX\u001b[0m \u001b[0;34m=\u001b[0m \u001b[0mlabeled_unbalanced\u001b[0m\u001b[0;34m.\u001b[0m\u001b[0mdrop\u001b[0m\u001b[0;34m(\u001b[0m\u001b[0;34m'ExpiredHospital'\u001b[0m\u001b[0;34m,\u001b[0m \u001b[0maxis\u001b[0m\u001b[0;34m=\u001b[0m\u001b[0;36m1\u001b[0m\u001b[0;34m)\u001b[0m  \u001b[0;31m# Features\u001b[0m\u001b[0;34m\u001b[0m\u001b[0;34m\u001b[0m\u001b[0m\n\u001b[0m\u001b[1;32m      4\u001b[0m \u001b[0my\u001b[0m \u001b[0;34m=\u001b[0m \u001b[0mlabeled_unbalanced\u001b[0m\u001b[0;34m[\u001b[0m\u001b[0;34m'ExpiredHospital'\u001b[0m\u001b[0;34m]\u001b[0m  \u001b[0;31m# Target variable\u001b[0m\u001b[0;34m\u001b[0m\u001b[0;34m\u001b[0m\u001b[0m\n\u001b[1;32m      5\u001b[0m \u001b[0;34m\u001b[0m\u001b[0m\n",
            "\u001b[0;31mNameError\u001b[0m: name 'labeled_unbalanced' is not defined"
          ]
        }
      ]
    },
    {
      "cell_type": "code",
      "source": [
        "labeled_unbalanced_fs = labeled_unbalanced[top_feature_list]\n",
        "expired_hospital_column = labeled_unbalanced['ExpiredHospital']\n",
        "labeled_unbalanced_fs_with_target = pd.concat([labeled_unbalanced_fs, expired_hospital_column], axis=1)"
      ],
      "metadata": {
        "id": "A2KafUjtRH4e"
      },
      "execution_count": null,
      "outputs": []
    },
    {
      "cell_type": "code",
      "source": [
        "labeled_unbalanced_fs_with_target"
      ],
      "metadata": {
        "id": "VPcpuDqnRVER"
      },
      "execution_count": null,
      "outputs": []
    },
    {
      "cell_type": "code",
      "source": [
        "testing_data_set_fs = testing_data_set[top_feature_list]\n",
        "testing_data_set_fs"
      ],
      "metadata": {
        "id": "u5vWNpkqRz2j"
      },
      "execution_count": null,
      "outputs": []
    },
    {
      "cell_type": "markdown",
      "source": [
        "# Z-score Normalisation"
      ],
      "metadata": {
        "id": "eRA394SAdizr"
      }
    },
    {
      "cell_type": "code",
      "source": [
        "labeled_unbalanced"
      ],
      "metadata": {
        "id": "3sH1u4yldnXi"
      },
      "execution_count": null,
      "outputs": []
    },
    {
      "cell_type": "code",
      "source": [
        "testing_data_set"
      ],
      "metadata": {
        "id": "XaCCq8i-duSQ"
      },
      "execution_count": null,
      "outputs": []
    },
    {
      "cell_type": "code",
      "source": [
        "# Performing a Standard scaler transform of the labeled_unbalanced dataset, i.e. z-score norm.\n",
        "\n",
        "from sklearn.preprocessing import StandardScaler\n",
        "from matplotlib import pyplot\n",
        "\n",
        "# Exculde columns\n",
        "columns_to_exclude = [\n",
        "    'ExpiredHospital', 'gender_F', 'gender_M', 'marital_status_DIVORCED', 'marital_status_LIFE PARTNER',\n",
        "    'marital_status_MARRIED', 'marital_status_SEPARATED', 'marital_status_SINGLE',\n",
        "    'marital_status_UNKNOWN (DEFAULT)', 'marital_status_WIDOWED'\n",
        "]\n",
        "\n",
        "# Create a subset of the dataset excluding the specified columns\n",
        "selected_columns = [col for col in labeled_unbalanced.columns if col not in columns_to_exclude]\n",
        "subset_data_train = labeled_unbalanced[selected_columns]\n",
        "\n",
        "# Perform z-score normalization on the selected columns\n",
        "std_scaler = StandardScaler()\n",
        "normalized_data_train = std_scaler.fit_transform(subset_data_train)\n",
        "\n",
        "# Create a DataFrame with normalized data\n",
        "normalized_df_train = pd.DataFrame(normalized_data_train, columns=subset_data_train.columns)\n",
        "\n",
        "# Combine the normalized columns with the excluded columns\n",
        "for col in columns_to_exclude:\n",
        "    normalized_df_train[col] = labeled_unbalanced[col]\n",
        "\n",
        "normalized_df_train.describe()"
      ],
      "metadata": {
        "id": "eIO2Q1g0eU5D"
      },
      "execution_count": null,
      "outputs": []
    },
    {
      "cell_type": "code",
      "source": [
        "# Performing a Standard scaler transform of the testing_data_set, i.e. z-score norm.\n",
        "\n",
        "from sklearn.preprocessing import StandardScaler\n",
        "from matplotlib import pyplot\n",
        "\n",
        "# Exculde columns\n",
        "columns_to_exclude = [\n",
        "    'gender_F', 'gender_M', 'marital_status_DIVORCED', 'marital_status_LIFE PARTNER',\n",
        "    'marital_status_MARRIED', 'marital_status_SEPARATED', 'marital_status_SINGLE',\n",
        "    'marital_status_UNKNOWN (DEFAULT)', 'marital_status_WIDOWED'\n",
        "]\n",
        "\n",
        "# Create a subset of the dataset excluding the specified columns\n",
        "selected_columns = [col for col in testing_data_set.columns if col not in columns_to_exclude]\n",
        "subset_data_test = testing_data_set[selected_columns]\n",
        "\n",
        "# Perform z-score normalization on the selected columns\n",
        "std_scaler = StandardScaler()\n",
        "normalized_data_test = std_scaler.fit_transform(subset_data_test)\n",
        "\n",
        "# Create a DataFrame with normalized data\n",
        "normalized_df_test = pd.DataFrame(normalized_data_test, columns=subset_data_test.columns)\n",
        "\n",
        "# Combine the normalized columns with the excluded columns\n",
        "for col in columns_to_exclude:\n",
        "    normalized_df_test[col] = labeled_unbalanced[col]\n",
        "\n",
        "normalized_df_test"
      ],
      "metadata": {
        "id": "w2Pr-57ufmws"
      },
      "execution_count": null,
      "outputs": []
    },
    {
      "cell_type": "markdown",
      "source": [
        "# Noramlised and Information gain feature selection"
      ],
      "metadata": {
        "id": "p_YC9P-K1erm"
      }
    },
    {
      "cell_type": "code",
      "source": [
        "# Feature Selection With information Gain\n",
        "labeled_unbalanced_fs_with_target\n",
        "# Normalised\n",
        "normalized_df_train"
      ],
      "metadata": {
        "id": "ZJ2nmFhW3Lmh"
      },
      "execution_count": null,
      "outputs": []
    },
    {
      "cell_type": "code",
      "source": [
        "# Normalised and information gain\n",
        "normalized_df_train_fs = normalized_df_train[top_feature_list]\n",
        "expired_hospital_column = labeled_unbalanced['ExpiredHospital']\n",
        "normalized_df_train_fs = pd.concat([normalized_df_train_fs, expired_hospital_column], axis=1)\n",
        "normalized_df_test_fs = normalized_df_test[top_feature_list]"
      ],
      "metadata": {
        "id": "ToV-Dj2w1dxp"
      },
      "execution_count": null,
      "outputs": []
    },
    {
      "cell_type": "markdown",
      "source": [
        "# Split data - balance with SMOTE"
      ],
      "metadata": {
        "id": "GowQDzooXMj4"
      }
    },
    {
      "cell_type": "code",
      "source": [
        "X = labeled_unbalanced_fs_with_target.drop([\"ExpiredHospital\"], axis=1)\n",
        "y = labeled_unbalanced_fs_with_target[\"ExpiredHospital\"]"
      ],
      "metadata": {
        "id": "YwhY9KxlXVCQ"
      },
      "execution_count": null,
      "outputs": []
    },
    {
      "cell_type": "code",
      "source": [
        "from imblearn.over_sampling import SMOTE"
      ],
      "metadata": {
        "id": "GljQXrUNEMGj"
      },
      "execution_count": null,
      "outputs": []
    },
    {
      "cell_type": "code",
      "source": [
        "smote = SMOTE(sampling_strategy='minority', random_state=42)"
      ],
      "metadata": {
        "id": "k_3WseGPNW3E"
      },
      "execution_count": null,
      "outputs": []
    },
    {
      "cell_type": "code",
      "source": [
        "X_train, X_test, y_train, y_test = train_test_split(X, y, test_size=0.2, random_state=42)"
      ],
      "metadata": {
        "id": "NPJ0ubVrPqQR"
      },
      "execution_count": null,
      "outputs": []
    },
    {
      "cell_type": "code",
      "source": [
        "dfys = pd.DataFrame(y_train)\n",
        "dfys.value_counts()"
      ],
      "metadata": {
        "id": "bbQ-w2QAMAV1"
      },
      "execution_count": null,
      "outputs": []
    },
    {
      "cell_type": "code",
      "source": [
        "value_counts = dfys.value_counts()\n",
        "total_values = len(dfys)\n",
        "percentages = (value_counts / total_values) * 100\n",
        "print(percentages)"
      ],
      "metadata": {
        "id": "bjls0eXtMdC6"
      },
      "execution_count": null,
      "outputs": []
    },
    {
      "cell_type": "code",
      "source": [
        "X_train_resampled, y_train_resampled = smote.fit_resample(X_train, y_train)"
      ],
      "metadata": {
        "id": "wNHul9N5QBlw"
      },
      "execution_count": null,
      "outputs": []
    },
    {
      "cell_type": "code",
      "source": [
        "dfysr = pd.DataFrame(y_train_resampled)\n",
        "dfysr.value_counts()"
      ],
      "metadata": {
        "id": "K1NNgLjpSKkO"
      },
      "execution_count": null,
      "outputs": []
    },
    {
      "cell_type": "code",
      "source": [
        "# Get the last 50 samples from the testing set for validation\n",
        "future_sample_X = X_test[-50:]\n",
        "future_sample_y = y_test[-50:]\n",
        "\n",
        "# Remove the last 50 samples from the test dataset\n",
        "X_test = X_test[0:-50]\n",
        "y_test = y_test[0:-50]"
      ],
      "metadata": {
        "id": "w9eO5lmmXVCi"
      },
      "execution_count": null,
      "outputs": []
    },
    {
      "cell_type": "markdown",
      "source": [
        "# Decision Tree"
      ],
      "metadata": {
        "id": "mUaWDxXP8fYO"
      }
    },
    {
      "cell_type": "markdown",
      "source": [
        "## Hyper Parameter tunning"
      ],
      "metadata": {
        "id": "Yz5IFFbrKXav"
      }
    },
    {
      "cell_type": "code",
      "source": [
        "from sklearn.model_selection import GridSearchCV\n",
        "from sklearn.tree import DecisionTreeClassifier\n",
        "\n",
        "# Define the parameter grid to search\n",
        "param_grid = {\n",
        "    'criterion': ['entropy', 'gini'],\n",
        "    'max_depth': [None, 10, 20, 30, 40, 50],\n",
        "    'min_samples_split': [2, 5, 10, 15, 20],\n",
        "    'min_samples_leaf': [1, 2, 4, 8, 16]\n",
        "}\n",
        "\n",
        "# Create a decision tree classifier\n",
        "DT_classifier = DecisionTreeClassifier()\n",
        "\n",
        "# Initialize GridSearchCV\n",
        "grid_search = GridSearchCV(estimator=DT_classifier, param_grid=param_grid, cv=5)\n",
        "\n",
        "# Perform grid search on the training data\n",
        "grid_search.fit(X_train_resampled, y_train_resampled)\n",
        "\n",
        "# Get the best parameters and the best estimator\n",
        "best_params = grid_search.best_params_\n",
        "best_classifier = grid_search.best_estimator_\n",
        "print(\"Best Hyperparameters:\", best_params)\n"
      ],
      "metadata": {
        "id": "-ICvTOUgKVdK"
      },
      "execution_count": null,
      "outputs": []
    },
    {
      "cell_type": "markdown",
      "source": [
        "## Train Decision Tree"
      ],
      "metadata": {
        "id": "0PJVud9lTd9f"
      }
    },
    {
      "cell_type": "code",
      "source": [
        "DT_classifier = DecisionTreeClassifier(criterion='entropy', max_depth=40,\n",
        "                                       min_samples_leaf=1, min_samples_split=2)\n",
        "DT_classifier.fit(X_train_resampled, y_train_resampled)"
      ],
      "metadata": {
        "id": "w8usW3HyQnsP"
      },
      "execution_count": null,
      "outputs": []
    },
    {
      "cell_type": "markdown",
      "source": [
        "## Measure Decision Tree's performance"
      ],
      "metadata": {
        "id": "phHimIkaThOG"
      }
    },
    {
      "cell_type": "code",
      "source": [
        "# Predict the class labels of samples in the test dataset\n",
        "y_pred_DT = DT_classifier.predict(X_test)"
      ],
      "metadata": {
        "id": "iPJITkh-Tk3O"
      },
      "execution_count": null,
      "outputs": []
    },
    {
      "cell_type": "code",
      "source": [
        "score_test = accuracy_score(y_test, y_pred_DT)\n",
        "print (score_test)"
      ],
      "metadata": {
        "id": "dVAQEbdWTq5v"
      },
      "execution_count": null,
      "outputs": []
    },
    {
      "cell_type": "code",
      "source": [
        "precision_test = precision_score(y_test, y_pred_DT, average='macro')\n",
        "print (precision_test)"
      ],
      "metadata": {
        "id": "midjVAX0Tt4u"
      },
      "execution_count": null,
      "outputs": []
    },
    {
      "cell_type": "code",
      "source": [
        "recall_test = recall_score(y_test, y_pred_DT, average='macro')\n",
        "print (recall_test)"
      ],
      "metadata": {
        "id": "n9eiBssaTwoO"
      },
      "execution_count": null,
      "outputs": []
    },
    {
      "cell_type": "code",
      "source": [
        "f1_test =  f1_score(y_test, y_pred_DT, average='macro')\n",
        "print(f1_test)"
      ],
      "metadata": {
        "id": "4V05feaHUAx2"
      },
      "execution_count": null,
      "outputs": []
    },
    {
      "cell_type": "code",
      "source": [
        "mat = confusion_matrix(y_test, y_pred_DT)\n",
        "class_names = [\"Not Expired\", \"Expired\"]\n",
        "plt.figure(figsize=(8, 6))\n",
        "sns.heatmap(mat, annot=True, fmt=\"d\", cmap=\"Blues\", xticklabels=class_names, yticklabels=class_names)\n",
        "plt.xlabel(\"Predicted Labels\")\n",
        "plt.ylabel(\"True Labels\")\n",
        "plt.title(\"Confusion Matrix (Decision Tree)\")\n",
        "plt.show()"
      ],
      "metadata": {
        "id": "D7U8p13nTy0F"
      },
      "execution_count": null,
      "outputs": []
    },
    {
      "cell_type": "code",
      "source": [
        "report = classification_report(y_test, y_pred_DT)\n",
        "print(report)"
      ],
      "metadata": {
        "id": "y3BCdTmhbY7n"
      },
      "execution_count": null,
      "outputs": []
    },
    {
      "cell_type": "markdown",
      "source": [
        "## ROC Curve"
      ],
      "metadata": {
        "id": "cgdEecwTgNNw"
      }
    },
    {
      "cell_type": "code",
      "source": [
        "from sklearn.metrics import roc_curve, roc_auc_score\n",
        "\n",
        "# Get the probabilities of each class.\n",
        "y_probs = DT_classifier.predict_proba(X_test)\n",
        "\n",
        "# The 'positive' class value is 1, so we want the probabilities of the class being 1.\n",
        "# i.e., the second column of the array.\n",
        "y_probs_class_1 = y_probs[:,1]\n",
        "\n",
        "auc = roc_auc_score(y_test, y_probs_class_1)\n",
        "print('The AUC is {:.3f}'.format(auc)) # uses string formatting to get 3 decimal places.\n",
        "\n",
        "fpr, tpr, thresholds = roc_curve(y_test, y_probs_class_1, pos_label=1)\n",
        "\n",
        "print(\"Threshold\\tTPR vs FPR\")\n",
        "for f, p, t in zip(fpr, tpr, thresholds):\n",
        "    print(\"{:.3f}\\t{:.3f} vs {:.3f}\".format(t, p, f))\n",
        "\n",
        "# Here is some code to plot the ROC curve.\n",
        "# Follows the example at https://scikit-learn.org/stable/auto_examples/model_selection/plot_roc.html#sphx-glr-auto-examples-model-selection-plot-roc-py\n",
        "\n",
        "import matplotlib.pyplot as plt\n",
        "plt.figure()\n",
        "lw = 2 # the line width\n",
        "plt.plot(fpr, tpr, color='darkorange',\n",
        "         lw=lw, label='ROC curve (area = %0.2f)' % auc)\n",
        "plt.plot([0, 1], [0, 1], color='navy', lw=lw, linestyle='--') # The dashed line for random choice\n",
        "plt.xlim([0.0, 1.0])\n",
        "plt.ylim([0.0, 1.05])\n",
        "plt.xlabel('False Positive Rate')\n",
        "plt.ylabel('True Positive Rate')\n",
        "plt.title('Receiver Operating Characteristic (Decision Tree)')\n",
        "plt.legend(loc=\"lower right\")\n",
        "plt.show()"
      ],
      "metadata": {
        "id": "TXdFcZyRRkGI"
      },
      "execution_count": null,
      "outputs": []
    },
    {
      "cell_type": "code",
      "source": [
        "from sklearn.metrics import roc_curve, roc_auc_score\n",
        "import matplotlib.pyplot as plt\n",
        "\n",
        "# Get the probabilities of each class.\n",
        "y_probs = DT_classifier.predict_proba(X_test)\n",
        "\n",
        "# Initialize lists to store TPR and FPR for each class\n",
        "tpr_list = []\n",
        "fpr_list = []\n",
        "\n",
        "# Convert multi-class labels to binary labels for each class and calculate ROC curves\n",
        "for pos in range(2):\n",
        "    binary_labels = (y_test == pos).astype(int)\n",
        "    fpr, tpr, thresholds = roc_curve(binary_labels, y_probs[:, pos], pos_label=1)\n",
        "    auc = roc_auc_score(binary_labels, y_probs[:, pos])\n",
        "\n",
        "    # Store TPR and FPR for plotting\n",
        "    tpr_list.append(tpr)\n",
        "    fpr_list.append(fpr)\n",
        "\n",
        "# Plot ROC curves for all classes on the same graph\n",
        "plt.figure()\n",
        "lw = 2\n",
        "colors = ['darkorange', 'green']\n",
        "labels = ['Class 0', 'Class 1']\n",
        "\n",
        "for i in range(len(tpr_list)):\n",
        "    plt.plot(fpr_list[i], tpr_list[i], color=colors[i], lw=lw, label='ROC curve - %s' % (labels[i]))\n",
        "\n",
        "plt.plot([0, 1], [0, 1], color='navy', lw=lw, linestyle='--')\n",
        "plt.xlim([0.0, 1.0])\n",
        "plt.ylim([0.0, 1.05])\n",
        "plt.xlabel('False Positive Rate')\n",
        "plt.ylabel('True Positive Rate')\n",
        "plt.title('Receiver Operating Characteristic (DT)')\n",
        "plt.legend(loc=\"lower right\")\n",
        "plt.show()"
      ],
      "metadata": {
        "id": "dpBO5OVjxsrI"
      },
      "execution_count": null,
      "outputs": []
    },
    {
      "cell_type": "markdown",
      "source": [
        "## Measuring performance on small unseen set"
      ],
      "metadata": {
        "id": "k-do7NGSbQY3"
      }
    },
    {
      "cell_type": "code",
      "source": [
        "solution_validate = DT_classifier.predict(future_sample_X)"
      ],
      "metadata": {
        "id": "w25PQC37bgrj"
      },
      "execution_count": null,
      "outputs": []
    },
    {
      "cell_type": "code",
      "source": [
        "score_validate = accuracy_score(future_sample_y, solution_validate)\n",
        "print (score_validate)"
      ],
      "metadata": {
        "id": "gwiXnxZzbnm_"
      },
      "execution_count": null,
      "outputs": []
    },
    {
      "cell_type": "markdown",
      "source": [
        "# K Nearest Neighbour"
      ],
      "metadata": {
        "id": "LjIpoLJR8sDF"
      }
    },
    {
      "cell_type": "markdown",
      "source": [
        "## Find best k value"
      ],
      "metadata": {
        "id": "_vZPok0rS3MY"
      }
    },
    {
      "cell_type": "code",
      "source": [
        "from sklearn.model_selection import GridSearchCV\n",
        "from sklearn.neighbors import KNeighborsClassifier\n",
        "\n",
        "# Define the parameter grid (k values to explore)\n",
        "param_grid = {'n_neighbors': [3, 5, 7, 9, 11, 13, 15, 19, 21, 23, 25, 27, 29, 31]}\n",
        "\n",
        "# Create kNN classifier\n",
        "knn = KNeighborsClassifier()\n",
        "\n",
        "# Initialize GridSearchCV\n",
        "grid_search = GridSearchCV(knn, param_grid, cv=5)\n",
        "\n",
        "# Perform grid search\n",
        "grid_search.fit(X_train_resampled, y_train_resampled)\n",
        "\n",
        "# Get the best k value\n",
        "best_k = grid_search.best_params_['n_neighbors']\n",
        "\n",
        "print(\"Best k value:\", best_k)"
      ],
      "metadata": {
        "id": "1vLlzd6oS55g"
      },
      "execution_count": null,
      "outputs": []
    },
    {
      "cell_type": "markdown",
      "source": [
        "## Train kNN"
      ],
      "metadata": {
        "id": "cGKImwcqVFFw"
      }
    },
    {
      "cell_type": "code",
      "source": [
        "KNN_classifier = KNeighborsClassifier(n_neighbors=3)\n",
        "KNN_classifier.fit(X_train_resampled, y_train_resampled)"
      ],
      "metadata": {
        "id": "ZX1hnzRHVAbm"
      },
      "execution_count": null,
      "outputs": []
    },
    {
      "cell_type": "markdown",
      "source": [
        "## Measure kNN's performance"
      ],
      "metadata": {
        "id": "gavjRLSaVRI-"
      }
    },
    {
      "cell_type": "code",
      "source": [
        "# Predict the class labels of samples in the test dataset\n",
        "y_pred_KNN = KNN_classifier.predict(X_test)"
      ],
      "metadata": {
        "id": "Sd5qJqZbVi9k"
      },
      "execution_count": null,
      "outputs": []
    },
    {
      "cell_type": "code",
      "source": [
        "score_test = accuracy_score(y_test, y_pred_KNN)\n",
        "print (score_test)"
      ],
      "metadata": {
        "id": "nYTMzqpjZ3mq"
      },
      "execution_count": null,
      "outputs": []
    },
    {
      "cell_type": "code",
      "source": [
        "precision_test = precision_score(y_test, y_pred_KNN, average='macro')\n",
        "print (precision_test)"
      ],
      "metadata": {
        "id": "SxOVJhY7Z3mr"
      },
      "execution_count": null,
      "outputs": []
    },
    {
      "cell_type": "code",
      "source": [
        "recall_test = recall_score(y_test, y_pred_KNN, average='macro')\n",
        "print (recall_test)"
      ],
      "metadata": {
        "id": "k6RByjYbZ3mr"
      },
      "execution_count": null,
      "outputs": []
    },
    {
      "cell_type": "code",
      "source": [
        "f1_test =  f1_score(y_test, y_pred_KNN, average='macro')\n",
        "print(f1_test)"
      ],
      "metadata": {
        "id": "FBnRD2_uZ3mr"
      },
      "execution_count": null,
      "outputs": []
    },
    {
      "cell_type": "code",
      "source": [
        "mat = confusion_matrix(y_test, y_pred_DT)\n",
        "class_names = [\"Not Expired\", \"Expired\"]\n",
        "plt.figure(figsize=(8, 6))\n",
        "sns.heatmap(mat, annot=True, fmt=\"d\", cmap=\"Blues\", xticklabels=class_names, yticklabels=class_names)\n",
        "plt.xlabel(\"Predicted Labels\")\n",
        "plt.ylabel(\"True Labels\")\n",
        "plt.title(\"Confusion Matrix (kNN)\")\n",
        "plt.show()"
      ],
      "metadata": {
        "id": "yQWtH2SNZ3mr"
      },
      "execution_count": null,
      "outputs": []
    },
    {
      "cell_type": "code",
      "source": [
        "report = classification_report(y_test, y_pred_KNN)\n",
        "print(report)"
      ],
      "metadata": {
        "id": "LI68baorbwWx"
      },
      "execution_count": null,
      "outputs": []
    },
    {
      "cell_type": "markdown",
      "source": [
        "## ROC Curve"
      ],
      "metadata": {
        "id": "82zQPEnHglZU"
      }
    },
    {
      "cell_type": "code",
      "source": [
        "from sklearn.metrics import roc_curve, roc_auc_score\n",
        "\n",
        "# Get the probabilities of each class.\n",
        "y_probs = KNN_classifier.predict_proba(X_test)\n",
        "\n",
        "# The 'positive' class value is 1, so we want the probabilities of the class being 1.\n",
        "# i.e., the second column of the array.\n",
        "y_probs_class_1 = y_probs[:,1]\n",
        "\n",
        "auc = roc_auc_score(y_test, y_probs_class_1)\n",
        "print('The AUC is {:.3f}'.format(auc)) # uses string formatting to get 3 decimal places.\n",
        "\n",
        "fpr, tpr, thresholds = roc_curve(y_test, y_probs_class_1, pos_label=1)\n",
        "\n",
        "print(\"Threshold\\tTPR vs FPR\")\n",
        "for f, p, t in zip(fpr, tpr, thresholds):\n",
        "    print(\"{:.3f}\\t{:.3f} vs {:.3f}\".format(t, p, f))\n",
        "\n",
        "# Here is some code to plot the ROC curve.\n",
        "# Follows the example at https://scikit-learn.org/stable/auto_examples/model_selection/plot_roc.html#sphx-glr-auto-examples-model-selection-plot-roc-py\n",
        "\n",
        "import matplotlib.pyplot as plt\n",
        "plt.figure()\n",
        "lw = 2 # the line width\n",
        "plt.plot(fpr, tpr, color='darkorange',\n",
        "         lw=lw, label='ROC curve (area = %0.2f)' % auc)\n",
        "plt.plot([0, 1], [0, 1], color='navy', lw=lw, linestyle='--') # The dashed line for random choice\n",
        "plt.xlim([0.0, 1.0])\n",
        "plt.ylim([0.0, 1.05])\n",
        "plt.xlabel('False Positive Rate')\n",
        "plt.ylabel('True Positive Rate')\n",
        "plt.title('Receiver Operating Characteristic (kNN)')\n",
        "plt.legend(loc=\"lower right\")\n",
        "plt.show()"
      ],
      "metadata": {
        "id": "8pXuMCaUglZU"
      },
      "execution_count": null,
      "outputs": []
    },
    {
      "cell_type": "code",
      "source": [
        "from sklearn.metrics import roc_curve, roc_auc_score\n",
        "import matplotlib.pyplot as plt\n",
        "\n",
        "# Get the probabilities of each class.\n",
        "y_probs = KNN_classifier.predict_proba(X_test)\n",
        "\n",
        "# Initialize lists to store TPR and FPR for each class\n",
        "tpr_list = []\n",
        "fpr_list = []\n",
        "\n",
        "# Convert multi-class labels to binary labels for each class and calculate ROC curves\n",
        "for pos in range(2):\n",
        "    binary_labels = (y_test == pos).astype(int)\n",
        "    fpr, tpr, thresholds = roc_curve(binary_labels, y_probs[:, pos], pos_label=1)\n",
        "    auc = roc_auc_score(binary_labels, y_probs[:, pos])\n",
        "\n",
        "    # Store TPR and FPR for plotting\n",
        "    tpr_list.append(tpr)\n",
        "    fpr_list.append(fpr)\n",
        "\n",
        "# Plot ROC curves for all classes on the same graph\n",
        "plt.figure()\n",
        "lw = 2\n",
        "colors = ['darkorange', 'green']\n",
        "labels = ['Class 0', 'Class 1']\n",
        "\n",
        "for i in range(len(tpr_list)):\n",
        "    plt.plot(fpr_list[i], tpr_list[i], color=colors[i], lw=lw, label='ROC curve - %s' % (labels[i]))\n",
        "\n",
        "plt.plot([0, 1], [0, 1], color='navy', lw=lw, linestyle='--')\n",
        "plt.xlim([0.0, 1.0])\n",
        "plt.ylim([0.0, 1.05])\n",
        "plt.xlabel('False Positive Rate')\n",
        "plt.ylabel('True Positive Rate')\n",
        "plt.title('Receiver Operating Characteristic (kNN)')\n",
        "plt.legend(loc=\"lower right\")\n",
        "plt.show()"
      ],
      "metadata": {
        "id": "zij2brsA-54c"
      },
      "execution_count": null,
      "outputs": []
    },
    {
      "cell_type": "markdown",
      "source": [
        "## Measuring performance on small unseen set"
      ],
      "metadata": {
        "id": "cVLvz1pVbwWy"
      }
    },
    {
      "cell_type": "code",
      "source": [
        "solution_validate = KNN_classifier.predict(future_sample_X)"
      ],
      "metadata": {
        "id": "hYarbiVtbwWy"
      },
      "execution_count": null,
      "outputs": []
    },
    {
      "cell_type": "code",
      "source": [
        "score_validate = accuracy_score(future_sample_y, solution_validate)\n",
        "print (score_validate)"
      ],
      "metadata": {
        "id": "fjVVa3MRbwWy"
      },
      "execution_count": null,
      "outputs": []
    },
    {
      "cell_type": "markdown",
      "source": [
        "# Random Forrest"
      ],
      "metadata": {
        "id": "rE2ue2Ud8sSF"
      }
    },
    {
      "cell_type": "markdown",
      "source": [
        "## Hyper Parameter optimization"
      ],
      "metadata": {
        "id": "qr_tcOZTaT1C"
      }
    },
    {
      "cell_type": "code",
      "source": [
        "from sklearn.model_selection import GridSearchCV\n",
        "from sklearn.tree import DecisionTreeClassifier\n",
        "\n",
        "# Define the parameter grid to search\n",
        "param_grid = {\n",
        "    'criterion': ['entropy', 'gini'],\n",
        "    'n_estimators': [50, 100, 200],  # Number of trees in the forest\n",
        "    'max_depth': [None, 10, 20],      # Maximum depth of the tree\n",
        "    'min_samples_split': [2, 5, 10],  # Minimum number of samples required to split an internal node\n",
        "    'min_samples_leaf': [1, 2, 4]\n",
        "}\n",
        "\n",
        "# Create a decision tree classifier\n",
        "RF_classifier = RandomForestClassifier()\n",
        "\n",
        "# Initialize GridSearchCV\n",
        "grid_search = GridSearchCV(estimator=RF_classifier, param_grid=param_grid, cv=5)\n",
        "\n",
        "# Perform grid search on the training data\n",
        "grid_search.fit(X_train_resampled, y_train_resampled)\n",
        "\n",
        "# Get the best parameters and the best estimator\n",
        "best_params = grid_search.best_params_\n",
        "best_classifier = grid_search.best_estimator_\n",
        "print(\"Best Hyperparameters:\", best_params)\n"
      ],
      "metadata": {
        "id": "UYONJA-xaZ3g"
      },
      "execution_count": null,
      "outputs": []
    },
    {
      "cell_type": "markdown",
      "source": [
        "## Train Random Forrest"
      ],
      "metadata": {
        "id": "yJmHCtGuV2Og"
      }
    },
    {
      "cell_type": "code",
      "source": [
        "RF_classifier = RandomForestClassifier(criterion='entropy', min_samples_leaf=1,\n",
        "                                       min_samples_split=2, n_estimators=2500)\n",
        "RF_classifier.fit(X_train_resampled, y_train_resampled)"
      ],
      "metadata": {
        "id": "YX2RdpjSV2Og"
      },
      "execution_count": null,
      "outputs": []
    },
    {
      "cell_type": "markdown",
      "source": [
        "### Cross Validation & KFold"
      ],
      "metadata": {
        "id": "5HwGjxdpzKAC"
      }
    },
    {
      "cell_type": "code",
      "source": [
        "num_folds = 5\n",
        "kf = KFold(n_splits=num_folds, shuffle=True, random_state=42)\n",
        "cross_val_results = cross_val_score(RF_classifier, X_test, y_test, cv=kf, scoring='accuracy')\n",
        "print(\"Cross-Validation Accuracy Scores:\", cross_val_results)\n",
        "print(\"Mean Accuracy:\", cross_val_results.mean())"
      ],
      "metadata": {
        "id": "TOnSEQzYzGam"
      },
      "execution_count": null,
      "outputs": []
    },
    {
      "cell_type": "markdown",
      "source": [
        "## Measure Random Forrest's performance"
      ],
      "metadata": {
        "id": "ESEFukEiV2Og"
      }
    },
    {
      "cell_type": "code",
      "source": [
        "# Predict the class labels of samples in the test dataset\n",
        "y_pred_RF = RF_classifier.predict(X_test)"
      ],
      "metadata": {
        "id": "YuEX3xDUV2Oh"
      },
      "execution_count": null,
      "outputs": []
    },
    {
      "cell_type": "code",
      "source": [
        "score_test = accuracy_score(y_test, y_pred_RF)\n",
        "print (score_test)"
      ],
      "metadata": {
        "id": "pzBxtbR6aJU-"
      },
      "execution_count": null,
      "outputs": []
    },
    {
      "cell_type": "code",
      "source": [
        "precision_test = precision_score(y_test, y_pred_RF, average='macro')\n",
        "print (precision_test)"
      ],
      "metadata": {
        "id": "TZkLYtPIaJVF"
      },
      "execution_count": null,
      "outputs": []
    },
    {
      "cell_type": "code",
      "source": [
        "recall_test = recall_score(y_test, y_pred_RF, average='macro')\n",
        "print (recall_test)"
      ],
      "metadata": {
        "id": "I9JMV7bMaJVF"
      },
      "execution_count": null,
      "outputs": []
    },
    {
      "cell_type": "code",
      "source": [
        "f1_test =  f1_score(y_test, y_pred_RF, average='macro')\n",
        "print(f1_test)"
      ],
      "metadata": {
        "id": "a4BthtLPaJVF"
      },
      "execution_count": null,
      "outputs": []
    },
    {
      "cell_type": "code",
      "source": [
        "mat = confusion_matrix(y_test, y_pred_RF)\n",
        "class_names = [\"Not Expired\", \"Expired\"]\n",
        "plt.figure(figsize=(8, 6))\n",
        "sns.heatmap(mat, annot=True, fmt=\"d\", cmap=\"Blues\", xticklabels=class_names, yticklabels=class_names)\n",
        "plt.xlabel(\"Predicted Labels\")\n",
        "plt.ylabel(\"True Labels\")\n",
        "plt.title(\"Confusion Matrix (Random Forest)\")\n",
        "plt.show()"
      ],
      "metadata": {
        "id": "JEwrv9xWaJVF"
      },
      "execution_count": null,
      "outputs": []
    },
    {
      "cell_type": "code",
      "source": [
        "report = classification_report(y_test, y_pred_RF)\n",
        "print(report)"
      ],
      "metadata": {
        "id": "BzfeZVeEcHnh"
      },
      "execution_count": null,
      "outputs": []
    },
    {
      "cell_type": "markdown",
      "source": [
        "## ROC Curve"
      ],
      "metadata": {
        "id": "WoCVpD-HgpMk"
      }
    },
    {
      "cell_type": "code",
      "source": [
        "from sklearn.metrics import roc_curve, roc_auc_score\n",
        "\n",
        "# Get the probabilities of each class.\n",
        "y_probs = RF_classifier.predict_proba(X_test)\n",
        "\n",
        "# The 'positive' class value is 1, so we want the probabilities of the class being 1.\n",
        "# i.e., the second column of the array.\n",
        "y_probs_class_1 = y_probs[:,1]\n",
        "\n",
        "auc = roc_auc_score(y_test, y_probs_class_1)\n",
        "print('The AUC is {:.3f}'.format(auc)) # uses string formatting to get 3 decimal places.\n",
        "\n",
        "fpr, tpr, thresholds = roc_curve(y_test, y_probs_class_1, pos_label=1)\n",
        "\n",
        "print(\"Threshold\\tTPR vs FPR\")\n",
        "for f, p, t in zip(fpr, tpr, thresholds):\n",
        "    print(\"{:.3f}\\t{:.3f} vs {:.3f}\".format(t, p, f))\n",
        "\n",
        "# Here is some code to plot the ROC curve.\n",
        "# Follows the example at https://scikit-learn.org/stable/auto_examples/model_selection/plot_roc.html#sphx-glr-auto-examples-model-selection-plot-roc-py\n",
        "\n",
        "import matplotlib.pyplot as plt\n",
        "plt.figure()\n",
        "lw = 2 # the line width\n",
        "plt.plot(fpr, tpr, color='darkorange',\n",
        "         lw=lw, label='ROC curve (area = %0.2f)' % auc)\n",
        "plt.plot([0, 1], [0, 1], color='navy', lw=lw, linestyle='--') # The dashed line for random choice\n",
        "plt.xlim([0.0, 1.0])\n",
        "plt.ylim([0.0, 1.05])\n",
        "plt.xlabel('False Positive Rate')\n",
        "plt.ylabel('True Positive Rate')\n",
        "plt.title('Receiver Operating Characteristic (Random Forest)')\n",
        "plt.legend(loc=\"lower right\")\n",
        "plt.show()"
      ],
      "metadata": {
        "id": "B-jWAvzagpMk"
      },
      "execution_count": null,
      "outputs": []
    },
    {
      "cell_type": "code",
      "source": [
        "from sklearn.metrics import roc_curve, roc_auc_score\n",
        "import matplotlib.pyplot as plt\n",
        "\n",
        "# Get the probabilities of each class.\n",
        "y_probs = RF_classifier.predict_proba(X_test)\n",
        "\n",
        "# Initialize lists to store TPR and FPR for each class\n",
        "tpr_list = []\n",
        "fpr_list = []\n",
        "\n",
        "# Convert multi-class labels to binary labels for each class and calculate ROC curves\n",
        "for pos in range(2):\n",
        "    binary_labels = (y_test == pos).astype(int)\n",
        "    fpr, tpr, thresholds = roc_curve(binary_labels, y_probs[:, pos], pos_label=1)\n",
        "    auc = roc_auc_score(binary_labels, y_probs[:, pos])\n",
        "\n",
        "    # Store TPR and FPR for plotting\n",
        "    tpr_list.append(tpr)\n",
        "    fpr_list.append(fpr)\n",
        "\n",
        "# Plot ROC curves for all classes on the same graph\n",
        "plt.figure()\n",
        "lw = 2\n",
        "colors = ['darkorange', 'green']\n",
        "labels = ['Class 0', 'Class 1']\n",
        "\n",
        "for i in range(len(tpr_list)):\n",
        "    plt.plot(fpr_list[i], tpr_list[i], color=colors[i], lw=lw, label='ROC curve - %s' % (labels[i]))\n",
        "\n",
        "plt.plot([0, 1], [0, 1], color='navy', lw=lw, linestyle='--')\n",
        "plt.xlim([0.0, 1.0])\n",
        "plt.ylim([0.0, 1.05])\n",
        "plt.xlabel('False Positive Rate')\n",
        "plt.ylabel('True Positive Rate')\n",
        "plt.title('Receiver Operating Characteristic (RF)')\n",
        "plt.legend(loc=\"lower right\")\n",
        "plt.show()"
      ],
      "metadata": {
        "id": "TT8td4Q14LfG"
      },
      "execution_count": null,
      "outputs": []
    },
    {
      "cell_type": "markdown",
      "source": [
        "## Measuring performance on small unseen set"
      ],
      "metadata": {
        "id": "B08Qrli8cHni"
      }
    },
    {
      "cell_type": "code",
      "source": [
        "solution_validate = RF_classifier.predict(future_sample_X)"
      ],
      "metadata": {
        "id": "edS69uFJcHni"
      },
      "execution_count": null,
      "outputs": []
    },
    {
      "cell_type": "code",
      "source": [
        "score_validate = accuracy_score(future_sample_y, solution_validate)\n",
        "print (score_validate)"
      ],
      "metadata": {
        "id": "ccpV2UR9cHni"
      },
      "execution_count": null,
      "outputs": []
    },
    {
      "cell_type": "markdown",
      "source": [
        "# Support Vector Machine"
      ],
      "metadata": {
        "id": "1YVOKzsI8seP"
      }
    },
    {
      "cell_type": "markdown",
      "source": [
        "## Optimize parameters - too computationally expensive"
      ],
      "metadata": {
        "id": "Pj83wWPoM4he"
      }
    },
    {
      "cell_type": "code",
      "source": [
        "from sklearn.model_selection import RandomizedSearchCV\n",
        "from sklearn.svm import SVC\n",
        "from scipy.stats import uniform\n",
        "\n",
        "param_dist = {\n",
        "    'C': uniform(0.1, 10),  # Example range for C (adjust based on your dataset)\n",
        "    'kernel': ['linear', 'poly', 'rbf'],\n",
        "    'degree': [2, 3, 4],\n",
        "    'gamma': ['scale', 'auto', 0.1, 1],\n",
        "    'class_weight': [None, 'balanced']\n",
        "}\n",
        "\n",
        "randomized_search = RandomizedSearchCV(\n",
        "    estimator=SVC(probability=True),\n",
        "    param_distributions=param_dist,\n",
        "    n_iter=3,  # Number of parameter settings that are sampled\n",
        "    cv=5,       # Number of cross-validation folds\n",
        "    n_jobs=-1,   # Use all available CPU cores for parallelism\n",
        "    random_state=42\n",
        ")\n",
        "\n",
        "randomized_search.fit(X_train_resampled, y_train_resampled)\n",
        "best_params = randomized_search.best_params_\n",
        "best_classifier = randomized_search.best_estimator_"
      ],
      "metadata": {
        "id": "K9JZ1kDTM8ZM"
      },
      "execution_count": null,
      "outputs": []
    },
    {
      "cell_type": "markdown",
      "source": [
        "## Train SVM"
      ],
      "metadata": {
        "id": "aJ9A9wOdVwWg"
      }
    },
    {
      "cell_type": "code",
      "source": [
        "SVM_classifier = SVC(probability=True)\n",
        "SVM_classifier.fit(X_train_resampled, y_train_resampled)"
      ],
      "metadata": {
        "id": "WET9NU8BVwWp"
      },
      "execution_count": null,
      "outputs": []
    },
    {
      "cell_type": "markdown",
      "source": [
        "## Measure SVM's performance"
      ],
      "metadata": {
        "id": "9JD2KbOzVwWq"
      }
    },
    {
      "cell_type": "code",
      "source": [
        "# Predict the class labels of samples in the test dataset\n",
        "y_pred_SVM = SVM_classifier.predict(X_test)"
      ],
      "metadata": {
        "id": "aFGztDwGVwWq"
      },
      "execution_count": null,
      "outputs": []
    },
    {
      "cell_type": "code",
      "source": [
        "score_test = accuracy_score(y_test, y_pred_SVM)\n",
        "print (score_test)"
      ],
      "metadata": {
        "id": "0CrITQ3faLc_"
      },
      "execution_count": null,
      "outputs": []
    },
    {
      "cell_type": "code",
      "source": [
        "precision_test = precision_score(y_test, y_pred_SVM, average='macro')\n",
        "print (precision_test)"
      ],
      "metadata": {
        "id": "3ybu1tMhaLc_"
      },
      "execution_count": null,
      "outputs": []
    },
    {
      "cell_type": "code",
      "source": [
        "recall_test = recall_score(y_test, y_pred_SVM, average='macro')\n",
        "print (recall_test)"
      ],
      "metadata": {
        "id": "T8g4SIJFaLdA"
      },
      "execution_count": null,
      "outputs": []
    },
    {
      "cell_type": "code",
      "source": [
        "f1_test =  f1_score(y_test, y_pred_SVM, average='macro')\n",
        "print(f1_test)"
      ],
      "metadata": {
        "id": "3RVGXyMdaLdA"
      },
      "execution_count": null,
      "outputs": []
    },
    {
      "cell_type": "code",
      "source": [
        "mat = confusion_matrix(y_test, y_pred_SVM)\n",
        "class_names = [\"Not Expired\", \"Expired\"]\n",
        "plt.figure(figsize=(8, 6))\n",
        "sns.heatmap(mat, annot=True, fmt=\"d\", cmap=\"Blues\", xticklabels=class_names, yticklabels=class_names)\n",
        "plt.xlabel(\"Predicted Labels\")\n",
        "plt.ylabel(\"True Labels\")\n",
        "plt.title(\"Confusion Matrix (SVM)\")\n",
        "plt.show()"
      ],
      "metadata": {
        "id": "vjAvB7uraLdA"
      },
      "execution_count": null,
      "outputs": []
    },
    {
      "cell_type": "code",
      "source": [
        "report = classification_report(y_test, y_pred_SVM)\n",
        "print(report)"
      ],
      "metadata": {
        "id": "ketnY3gpcJl1"
      },
      "execution_count": null,
      "outputs": []
    },
    {
      "cell_type": "markdown",
      "source": [
        "## ROC Curve"
      ],
      "metadata": {
        "id": "dlVHGDycgsbB"
      }
    },
    {
      "cell_type": "code",
      "source": [
        "from sklearn.metrics import roc_curve, roc_auc_score\n",
        "\n",
        "# Get the probabilities of each class.\n",
        "y_probs = SVM_classifier.predict_proba(X_test)\n",
        "\n",
        "# The 'positive' class value is 1, so we want the probabilities of the class being 1.\n",
        "# i.e., the second column of the array.\n",
        "y_probs_class_1 = y_probs[:,1]\n",
        "\n",
        "auc = roc_auc_score(y_test, y_probs_class_1)\n",
        "print('The AUC is {:.3f}'.format(auc)) # uses string formatting to get 3 decimal places.\n",
        "\n",
        "fpr, tpr, thresholds = roc_curve(y_test, y_probs_class_1, pos_label=1)\n",
        "\n",
        "print(\"Threshold\\tTPR vs FPR\")\n",
        "for f, p, t in zip(fpr, tpr, thresholds):\n",
        "    print(\"{:.3f}\\t{:.3f} vs {:.3f}\".format(t, p, f))\n",
        "\n",
        "# Here is some code to plot the ROC curve.\n",
        "# Follows the example at https://scikit-learn.org/stable/auto_examples/model_selection/plot_roc.html#sphx-glr-auto-examples-model-selection-plot-roc-py\n",
        "\n",
        "import matplotlib.pyplot as plt\n",
        "plt.figure()\n",
        "lw = 2 # the line width\n",
        "plt.plot(fpr, tpr, color='darkorange',\n",
        "         lw=lw, label='ROC curve (area = %0.2f)' % auc)\n",
        "plt.plot([0, 1], [0, 1], color='navy', lw=lw, linestyle='--') # The dashed line for random choice\n",
        "plt.xlim([0.0, 1.0])\n",
        "plt.ylim([0.0, 1.05])\n",
        "plt.xlabel('False Positive Rate')\n",
        "plt.ylabel('True Positive Rate')\n",
        "plt.title('Receiver Operating Characteristic (SVM)')\n",
        "plt.legend(loc=\"lower right\")\n",
        "plt.show()"
      ],
      "metadata": {
        "id": "HaZTzIIxgsbC"
      },
      "execution_count": null,
      "outputs": []
    },
    {
      "cell_type": "code",
      "source": [
        "from sklearn.metrics import roc_curve, roc_auc_score\n",
        "import matplotlib.pyplot as plt\n",
        "\n",
        "# Get the probabilities of each class.\n",
        "y_probs = SVM_classifier.predict_proba(X_test)\n",
        "\n",
        "# Initialize lists to store TPR and FPR for each class\n",
        "tpr_list = []\n",
        "fpr_list = []\n",
        "\n",
        "# Convert multi-class labels to binary labels for each class and calculate ROC curves\n",
        "for pos in range(2):\n",
        "    binary_labels = (y_test == pos).astype(int)\n",
        "    fpr, tpr, thresholds = roc_curve(binary_labels, y_probs[:, pos], pos_label=1)\n",
        "    auc = roc_auc_score(binary_labels, y_probs[:, pos])\n",
        "\n",
        "    # Store TPR and FPR for plotting\n",
        "    tpr_list.append(tpr)\n",
        "    fpr_list.append(fpr)\n",
        "\n",
        "# Plot ROC curves for all classes on the same graph\n",
        "plt.figure()\n",
        "lw = 2\n",
        "colors = ['darkorange', 'green']\n",
        "labels = ['Class 0', 'Class 1']\n",
        "\n",
        "for i in range(len(tpr_list)):\n",
        "    plt.plot(fpr_list[i], tpr_list[i], color=colors[i], lw=lw, label='ROC curve - %s' % (labels[i]))\n",
        "\n",
        "plt.plot([0, 1], [0, 1], color='navy', lw=lw, linestyle='--')\n",
        "plt.xlim([0.0, 1.0])\n",
        "plt.ylim([0.0, 1.05])\n",
        "plt.xlabel('False Positive Rate')\n",
        "plt.ylabel('True Positive Rate')\n",
        "plt.title('Receiver Operating Characteristic (SVM)')\n",
        "plt.legend(loc=\"lower right\")\n",
        "plt.show()"
      ],
      "metadata": {
        "id": "0kJpp0nj_dFs"
      },
      "execution_count": null,
      "outputs": []
    },
    {
      "cell_type": "markdown",
      "source": [
        "## Measuring performance on small unseen set"
      ],
      "metadata": {
        "id": "38y68nKAcJl2"
      }
    },
    {
      "cell_type": "code",
      "source": [
        "solution_validate = SVM_classifier.predict(future_sample_X)"
      ],
      "metadata": {
        "id": "yIUwFxJQcJl2"
      },
      "execution_count": null,
      "outputs": []
    },
    {
      "cell_type": "code",
      "source": [
        "score_validate = accuracy_score(future_sample_y, solution_validate)\n",
        "print (score_validate)"
      ],
      "metadata": {
        "id": "T6lUJCRMcJl2"
      },
      "execution_count": null,
      "outputs": []
    },
    {
      "cell_type": "markdown",
      "source": [
        "# Neural Network"
      ],
      "metadata": {
        "id": "HtiudNNt8sqe"
      }
    },
    {
      "cell_type": "code",
      "source": [
        "import tensorflow as tf\n",
        "from keras.layers import Dense, Dropout\n",
        "from tensorflow.keras.models import load_model\n",
        "\n",
        "input_dim   = X_train.shape[1]"
      ],
      "metadata": {
        "id": "QJTJFg4Yq_GR"
      },
      "execution_count": null,
      "outputs": []
    },
    {
      "cell_type": "code",
      "source": [
        "class CustomCallback(tf.keras.callbacks.Callback):\n",
        "    def on_epoch_end(self, epoch, logs=None):\n",
        "        print(\"Epoch {}: Loss - {:.4f}, Accuracy - {:.4f}\".format(epoch+1, logs['loss'], logs['accuracy']))"
      ],
      "metadata": {
        "id": "NTYAWo2CTCJ6"
      },
      "execution_count": null,
      "outputs": []
    },
    {
      "cell_type": "markdown",
      "source": [
        "## Hyper Parameter Tuning"
      ],
      "metadata": {
        "id": "Cu_kh0L3qa5I"
      }
    },
    {
      "cell_type": "code",
      "source": [
        "import kerastuner\n",
        "from kerastuner.tuners import RandomSearch\n",
        "\n",
        "epochNo = 10\n",
        "batchSize = 100\n",
        "\n",
        "def build_model(hp):\n",
        "    model = tf.keras.Sequential()\n",
        "    model.add(tf.keras.Input(shape=(input_dim)))\n",
        "    model.add(Dense(units=hp.Int('units1', min_value=2048, max_value=4196, step=256), activation='relu'))\n",
        "    model.add(Dropout(rate=hp.Float('dropout_rate1', min_value=0.2, max_value=0.5, step=0.1)))\n",
        "    model.add(Dense(units=hp.Int('units2', min_value=1024, max_value=2048, step=128), activation='relu'))\n",
        "    model.add(Dropout(rate=hp.Float('dropout_rate2', min_value=0.2, max_value=0.5, step=0.1)))\n",
        "    model.add(Dense(units=hp.Int('units3', min_value=512, max_value=1024, step=64), activation='relu'))\n",
        "    model.add(Dropout(rate=hp.Float('dropout_rate3', min_value=0.2, max_value=0.5, step=0.1)))\n",
        "    model.add(Dense(1, activation='sigmoid'))\n",
        "    model.compile(loss='binary_crossentropy', optimizer='adam', metrics=['accuracy'])\n",
        "    return model\n",
        "\n",
        "tuner = RandomSearch(\n",
        "    build_model,\n",
        "    objective='val_accuracy',\n",
        "    max_trials=10,  # Number of hyperparameter combinations to try\n",
        "    directory='my_dir',  # Directory to save optimization logs and checkpoints\n",
        "    project_name='opt_2'\n",
        ")\n",
        "\n",
        "tuner.search(X_train_resampled, y_train_resampled, epochs=epochNo, batch_size=batchSize, validation_data=(X_test, y_test))"
      ],
      "metadata": {
        "id": "aagFRnXFqWz1"
      },
      "execution_count": null,
      "outputs": []
    },
    {
      "cell_type": "code",
      "source": [
        "best_hps = tuner.get_best_hyperparameters(num_trials=1)[0]\n",
        "best_hyperparameters_list = best_hps.values\n",
        "print(\"Best Hyperparameters:\", best_hyperparameters_list)"
      ],
      "metadata": {
        "id": "mGAHQhnC0_lm"
      },
      "execution_count": null,
      "outputs": []
    },
    {
      "cell_type": "code",
      "source": [
        "predictions = model.predict(X_test)\n",
        "y_preds_FNN = (predictions > 0.5)*1"
      ],
      "metadata": {
        "id": "NeQEqr6PGTVw"
      },
      "execution_count": null,
      "outputs": []
    },
    {
      "cell_type": "markdown",
      "source": [
        "## Using a FNN"
      ],
      "metadata": {
        "id": "ObOnZv8IXkN3"
      }
    },
    {
      "cell_type": "code",
      "source": [
        "n_neurons_1   = 3328\n",
        "n_neurons_2   = 2048\n",
        "n_neurons_3   = 960\n",
        "epochNo      =  100\n",
        "batchSize = 100\n",
        "\n",
        "model = tf.keras.Sequential()\n",
        "model.add(tf.keras.Input(shape=(input_dim))) # tf.keras.Input() is used to instantiate a Keras tensor.\n",
        "model.add(Dense(n_neurons_1, activation='relu'))\n",
        "model.add(Dropout(0.3))\n",
        "model.add(Dense(n_neurons_2, activation='relu'))\n",
        "model.add(Dropout(0.2))\n",
        "model.add(Dense(n_neurons_3, activation='relu'))\n",
        "model.add(Dropout(0.2))\n",
        "model.add(Dense(1, activation=tf.keras.activations.sigmoid))\n",
        "\n",
        "callbacks = [CustomCallback()]\n",
        "\n",
        "model.compile(loss='binary_crossentropy', optimizer='adam', metrics=['accuracy'])\n",
        "model.fit(X_train_resampled, y_train_resampled, epochs=epochNo, batch_size=batchSize, verbose=3, callbacks=callbacks)\n",
        "\n",
        "predictions = model.predict(X_test)\n",
        "y_preds_FNN = (predictions > 0.5)*1\n",
        "scores = model.evaluate(X_test, y_test)\n",
        "print('The evaluation scores are {}'.format(scores))\n",
        "model.save(\"model.h5\")\n",
        "loaded_model = load_model ('model.h5')\n",
        "loaded_model.summary()"
      ],
      "metadata": {
        "id": "AqFOXwQtdInN"
      },
      "execution_count": null,
      "outputs": []
    },
    {
      "cell_type": "markdown",
      "source": [
        "## Measuring the perfomance of the FNN"
      ],
      "metadata": {
        "id": "D2-EX4x7fN6m"
      }
    },
    {
      "cell_type": "code",
      "source": [
        "loaded_model = load_model ('model.h5')\n",
        "predictions = loaded_model.predict(X_test)\n",
        "y_preds_FNN = (predictions > 0.5)*1"
      ],
      "metadata": {
        "id": "LbfyJgsdK-Uk"
      },
      "execution_count": null,
      "outputs": []
    },
    {
      "cell_type": "code",
      "source": [
        "score_test = accuracy_score(y_test, y_preds_FNN)\n",
        "print (score_test)"
      ],
      "metadata": {
        "id": "axVEMwEhaPCg"
      },
      "execution_count": null,
      "outputs": []
    },
    {
      "cell_type": "code",
      "source": [
        "precision_test = precision_score(y_test, y_preds_FNN, average='macro')\n",
        "print (precision_test)"
      ],
      "metadata": {
        "id": "PEw5myQvaPCh"
      },
      "execution_count": null,
      "outputs": []
    },
    {
      "cell_type": "code",
      "source": [
        "recall_test = recall_score(y_test, y_preds_FNN, average='macro')\n",
        "print (recall_test)"
      ],
      "metadata": {
        "id": "anHOlTPMaPCh"
      },
      "execution_count": null,
      "outputs": []
    },
    {
      "cell_type": "code",
      "source": [
        "f1_test =  f1_score(y_test, y_preds_FNN, average='macro')\n",
        "print(f1_test)"
      ],
      "metadata": {
        "id": "gWDfLA3xaPCh"
      },
      "execution_count": null,
      "outputs": []
    },
    {
      "cell_type": "code",
      "source": [
        "mat = confusion_matrix(y_test, y_preds_FNN)\n",
        "class_names = [\"Not Expired\", \"Expired\"]\n",
        "plt.figure(figsize=(8, 6))\n",
        "sns.heatmap(mat, annot=True, fmt=\"d\", cmap=\"Blues\", xticklabels=class_names, yticklabels=class_names)\n",
        "plt.xlabel(\"Predicted Labels\")\n",
        "plt.ylabel(\"True Labels\")\n",
        "plt.title(\"Confusion Matrix (FNN)\")\n",
        "plt.show()"
      ],
      "metadata": {
        "id": "6meYe7bcaPCh"
      },
      "execution_count": null,
      "outputs": []
    },
    {
      "cell_type": "code",
      "source": [
        "report = classification_report(y_test, y_preds_FNN)\n",
        "print(report)"
      ],
      "metadata": {
        "id": "JRto2JcpfOLF"
      },
      "execution_count": null,
      "outputs": []
    },
    {
      "cell_type": "markdown",
      "source": [
        "## ROC Curve"
      ],
      "metadata": {
        "id": "O34RCnLvgfFZ"
      }
    },
    {
      "cell_type": "code",
      "source": [
        "from sklearn.metrics import roc_curve, roc_auc_score\n",
        "import matplotlib.pyplot as plt\n",
        "\n",
        "# Get the probabilities of the positive class (class 1) using the predict method.\n",
        "y_probs = predictions\n",
        "# The predicted probabilities for class 1 are already in y_probs.\n",
        "# Calculate ROC curve and AUC.\n",
        "fpr, tpr, thresholds = roc_curve(y_test, y_probs)\n",
        "auc = roc_auc_score(y_test, y_probs)\n",
        "\n",
        "print('The AUC is {:.3f}'.format(auc))\n",
        "\n",
        "# Plot ROC curve.\n",
        "plt.figure()\n",
        "lw = 2  # line width\n",
        "plt.plot(fpr, tpr, color='darkorange', lw=lw, label='ROC curve (area = {:.2f})'.format(auc))\n",
        "plt.plot([0, 1], [0, 1], color='navy', lw=lw, linestyle='--')\n",
        "plt.xlim([0.0, 1.0])\n",
        "plt.ylim([0.0, 1.05])\n",
        "plt.xlabel('False Positive Rate')\n",
        "plt.ylabel('True Positive Rate')\n",
        "plt.title('Receiver Operating Characteristic (FNN)')\n",
        "plt.legend(loc='lower right')\n",
        "plt.show()"
      ],
      "metadata": {
        "id": "XvVqr9EmgfFZ"
      },
      "execution_count": null,
      "outputs": []
    },
    {
      "cell_type": "code",
      "source": [
        "from sklearn.metrics import roc_curve, roc_auc_score\n",
        "import matplotlib.pyplot as plt\n",
        "\n",
        "# Get probabilities from the model\n",
        "predictions = loaded_model.predict(X_test)\n",
        "\n",
        "# Ensure predictions is a 2D array with shape (n_samples, n_classes)\n",
        "if predictions.shape[1] == 1:\n",
        "    # If predictions have only one column, assume binary classification and create a 2D array\n",
        "    positive_probs = predictions[:, 0]  # Probabilities for the positive class\n",
        "    negative_probs = 1 - positive_probs  # Probabilities for the negative class\n",
        "else:\n",
        "    # If predictions already have multiple columns, assume they represent probabilities for each class\n",
        "    positive_probs = predictions[:, 1]  # Probabilities for the positive class\n",
        "    negative_probs = predictions[:, 0]  # Probabilities for the negative class\n",
        "\n",
        "# Calculate ROC curve and AUC score for positive class\n",
        "fpr_positive, tpr_positive, _ = roc_curve(y_test, positive_probs, pos_label=1)\n",
        "auc_positive = roc_auc_score(y_test, positive_probs)\n",
        "\n",
        "# Calculate ROC curve and AUC score for negative class\n",
        "fpr_negative, tpr_negative, _ = roc_curve(y_test, negative_probs, pos_label=0)\n",
        "auc_negative = roc_auc_score(y_test, negative_probs)\n",
        "\n",
        "# Plot ROC curves for both positive and negative classes on the same graph\n",
        "plt.figure()\n",
        "lw = 2\n",
        "plt.plot(fpr_positive, tpr_positive, color='darkorange', lw=lw, label='Class 0')\n",
        "plt.plot(fpr_negative, tpr_negative, color='green', lw=lw, label='Class 1')\n",
        "plt.plot([0, 1], [0, 1], color='navy', lw=lw, linestyle='--')\n",
        "plt.xlim([0.0, 1.0])\n",
        "plt.ylim([0.0, 1.05])\n",
        "plt.xlabel('False Positive Rate')\n",
        "plt.ylabel('True Positive Rate')\n",
        "plt.title('Receiver Operating Characteristic')\n",
        "plt.legend(loc=\"lower right\")\n",
        "plt.show()\n"
      ],
      "metadata": {
        "id": "Zle_8LNrJ6Hs"
      },
      "execution_count": null,
      "outputs": []
    },
    {
      "cell_type": "markdown",
      "source": [
        "## Measuring performance on small unseen set"
      ],
      "metadata": {
        "id": "rAwnC9o4fOLG"
      }
    },
    {
      "cell_type": "code",
      "source": [
        "predictions_val = loaded_model.predict(future_sample_X)\n",
        "y_preds_val = (predictions_val > 0.5)*1     # threshold is 0.5\n",
        "loss, accuracy = model.evaluate(future_sample_X, future_sample_y)\n",
        "print('Loss: %.4f, Accuracy: %.2f%%' % (loss, accuracy*100))"
      ],
      "metadata": {
        "id": "bgeIYlGnfOLG"
      },
      "execution_count": null,
      "outputs": []
    },
    {
      "cell_type": "markdown",
      "source": [
        "# Naive Bayes - Gaussian"
      ],
      "metadata": {
        "id": "y_3EGObJSjxv"
      }
    },
    {
      "cell_type": "markdown",
      "source": [
        "## Hyper parameter optimisation"
      ],
      "metadata": {
        "id": "4VWd_F-pUV5V"
      }
    },
    {
      "cell_type": "code",
      "source": [
        "from sklearn.naive_bayes import GaussianNB\n",
        "from sklearn.model_selection import GridSearchCV\n",
        "\n",
        "# Define the parameter grid to search\n",
        "param_grid = {\n",
        "    'var_smoothing': [1e-9, 1e-8, 1e-7, 1e-6, 1e-5]\n",
        "}\n",
        "\n",
        "# Create a Gaussian Naive Bayes classifier\n",
        "GNB_classifier = GaussianNB()\n",
        "\n",
        "# Instantiate GridSearchCV with the classifier, parameter grid, and cross-validation strategy\n",
        "grid_search = GridSearchCV(estimator=GNB_classifier, param_grid=param_grid, cv=5, n_jobs=-1)\n",
        "\n",
        "# Perform the grid search on the training data\n",
        "grid_search.fit(X_train_resampled, y_train_resampled)\n",
        "\n",
        "# Print the best hyperparameters and corresponding accuracy score\n",
        "print(\"Best Hyperparameters: \", grid_search.best_params_)\n",
        "print(\"Best Accuracy Score: \", grid_search.best_score_)"
      ],
      "metadata": {
        "id": "xxX5tnAfUVR8"
      },
      "execution_count": null,
      "outputs": []
    },
    {
      "cell_type": "markdown",
      "source": [
        "## Train Naive Bayes"
      ],
      "metadata": {
        "id": "dDw2VepbURGV"
      }
    },
    {
      "cell_type": "code",
      "source": [
        "from sklearn.naive_bayes import GaussianNB\n",
        "GNB_classifier = GaussianNB()\n",
        "GNB_classifier.fit(X_train_resampled, y_train_resampled)"
      ],
      "metadata": {
        "id": "FkaQ6FenSm2X"
      },
      "execution_count": null,
      "outputs": []
    },
    {
      "cell_type": "code",
      "source": [
        "# Predict the class labels of samples in the test dataset\n",
        "y_pred_GNB = GNB_classifier.predict(X_test)"
      ],
      "metadata": {
        "id": "SfgfNiW7T-aR"
      },
      "execution_count": null,
      "outputs": []
    },
    {
      "cell_type": "code",
      "source": [
        "score_test = accuracy_score(y_test, y_pred_GNB)\n",
        "print (score_test)"
      ],
      "metadata": {
        "id": "QuYwDAZ_T-aY"
      },
      "execution_count": null,
      "outputs": []
    },
    {
      "cell_type": "code",
      "source": [
        "precision_test = precision_score(y_test, y_pred_GNB, average='macro')\n",
        "print (precision_test)"
      ],
      "metadata": {
        "id": "c0sFvTs7T-aY"
      },
      "execution_count": null,
      "outputs": []
    },
    {
      "cell_type": "code",
      "source": [
        "recall_test = recall_score(y_test, y_pred_GNB, average='macro')\n",
        "print (recall_test)"
      ],
      "metadata": {
        "id": "9RTj3cuRT-aY"
      },
      "execution_count": null,
      "outputs": []
    },
    {
      "cell_type": "code",
      "source": [
        "f1_test =  f1_score(y_test, y_pred_GNB, average='macro')\n",
        "print(f1_test)"
      ],
      "metadata": {
        "id": "mEjveCeST-aY"
      },
      "execution_count": null,
      "outputs": []
    },
    {
      "cell_type": "code",
      "source": [
        "mat = confusion_matrix(y_test, y_pred_GNB)\n",
        "class_names = [\"Not Expired\", \"Expired\"]\n",
        "plt.figure(figsize=(8, 6))\n",
        "sns.heatmap(mat, annot=True, fmt=\"d\", cmap=\"Blues\", xticklabels=class_names, yticklabels=class_names)\n",
        "plt.xlabel(\"Predicted Labels\")\n",
        "plt.ylabel(\"True Labels\")\n",
        "plt.title(\"Confusion Matrix (GNB)\")\n",
        "plt.show()"
      ],
      "metadata": {
        "id": "Ht6ZABkFT-aZ"
      },
      "execution_count": null,
      "outputs": []
    },
    {
      "cell_type": "code",
      "source": [
        "report = classification_report(y_test, y_pred_GNB)\n",
        "print(report)"
      ],
      "metadata": {
        "id": "maTg8FTST-aZ"
      },
      "execution_count": null,
      "outputs": []
    },
    {
      "cell_type": "markdown",
      "source": [
        "## ROC Curve"
      ],
      "metadata": {
        "id": "VpAtr0pST-aZ"
      }
    },
    {
      "cell_type": "code",
      "source": [
        "from sklearn.metrics import roc_curve, roc_auc_score\n",
        "\n",
        "# Get the probabilities of each class.\n",
        "y_probs = GNB_classifier.predict_proba(X_test)\n",
        "\n",
        "# The 'positive' class value is 1, so we want the probabilities of the class being 1.\n",
        "# i.e., the second column of the array.\n",
        "y_probs_class_1 = y_probs[:,1]\n",
        "\n",
        "auc = roc_auc_score(y_test, y_probs_class_1)\n",
        "print('The AUC is {:.3f}'.format(auc)) # uses string formatting to get 3 decimal places.\n",
        "\n",
        "fpr, tpr, thresholds = roc_curve(y_test, y_probs_class_1, pos_label=1)\n",
        "\n",
        "print(\"Threshold\\tTPR vs FPR\")\n",
        "for f, p, t in zip(fpr, tpr, thresholds):\n",
        "    print(\"{:.3f}\\t{:.3f} vs {:.3f}\".format(t, p, f))\n",
        "\n",
        "# Here is some code to plot the ROC curve.\n",
        "# Follows the example at https://scikit-learn.org/stable/auto_examples/model_selection/plot_roc.html#sphx-glr-auto-examples-model-selection-plot-roc-py\n",
        "\n",
        "import matplotlib.pyplot as plt\n",
        "plt.figure()\n",
        "lw = 2 # the line width\n",
        "plt.plot(fpr, tpr, color='darkorange',\n",
        "         lw=lw, label='ROC curve (area = %0.2f)' % auc)\n",
        "plt.plot([0, 1], [0, 1], color='navy', lw=lw, linestyle='--') # The dashed line for random choice\n",
        "plt.xlim([0.0, 1.0])\n",
        "plt.ylim([0.0, 1.05])\n",
        "plt.xlabel('False Positive Rate')\n",
        "plt.ylabel('True Positive Rate')\n",
        "plt.title('Receiver Operating Characteristic (GNB)')\n",
        "plt.legend(loc=\"lower right\")\n",
        "plt.show()"
      ],
      "metadata": {
        "id": "Ug7CDb2dT-aZ"
      },
      "execution_count": null,
      "outputs": []
    },
    {
      "cell_type": "code",
      "source": [
        "from sklearn.metrics import roc_curve, roc_auc_score\n",
        "import matplotlib.pyplot as plt\n",
        "\n",
        "# Get the probabilities of each class.\n",
        "y_probs = GNB_classifier.predict_proba(X_test)\n",
        "\n",
        "# Initialize lists to store TPR and FPR for each class\n",
        "tpr_list = []\n",
        "fpr_list = []\n",
        "\n",
        "# Convert multi-class labels to binary labels for each class and calculate ROC curves\n",
        "for pos in range(2):\n",
        "    binary_labels = (y_test == pos).astype(int)\n",
        "    fpr, tpr, thresholds = roc_curve(binary_labels, y_probs[:, pos], pos_label=1)\n",
        "    auc = roc_auc_score(binary_labels, y_probs[:, pos])\n",
        "\n",
        "    # Store TPR and FPR for plotting\n",
        "    tpr_list.append(tpr)\n",
        "    fpr_list.append(fpr)\n",
        "\n",
        "# Plot ROC curves for all classes on the same graph\n",
        "plt.figure()\n",
        "lw = 2\n",
        "colors = ['darkorange', 'green']\n",
        "labels = ['Class 0', 'Class 1']\n",
        "\n",
        "for i in range(len(tpr_list)):\n",
        "    plt.plot(fpr_list[i], tpr_list[i], color=colors[i], lw=lw, label='ROC curve - %s' % (labels[i]))\n",
        "\n",
        "plt.plot([0, 1], [0, 1], color='navy', lw=lw, linestyle='--')\n",
        "plt.xlim([0.0, 1.0])\n",
        "plt.ylim([0.0, 1.05])\n",
        "plt.xlabel('False Positive Rate')\n",
        "plt.ylabel('True Positive Rate')\n",
        "plt.title('Receiver Operating Characteristic (GNB)')\n",
        "plt.legend(loc=\"lower right\")\n",
        "plt.show()"
      ],
      "metadata": {
        "id": "GGtFFj_2T-aZ"
      },
      "execution_count": null,
      "outputs": []
    },
    {
      "cell_type": "markdown",
      "source": [
        "## Measuring performance on small unseen set"
      ],
      "metadata": {
        "id": "VAs4U0xFT-aZ"
      }
    },
    {
      "cell_type": "code",
      "source": [
        "solution_validate = GNB_classifier.predict(future_sample_X)"
      ],
      "metadata": {
        "id": "RyqeU-mqT-aZ"
      },
      "execution_count": null,
      "outputs": []
    },
    {
      "cell_type": "code",
      "source": [
        "score_validate = accuracy_score(future_sample_y, solution_validate)\n",
        "print (score_validate)"
      ],
      "metadata": {
        "id": "qIvvSKavT-aZ"
      },
      "execution_count": null,
      "outputs": []
    },
    {
      "cell_type": "markdown",
      "source": [
        "# Quadratic Discrimination Analysis"
      ],
      "metadata": {
        "id": "OPRde-A2XoBs"
      }
    },
    {
      "cell_type": "markdown",
      "source": [
        "## Hyper parameter optimisation"
      ],
      "metadata": {
        "id": "9MQ1SWf-XoB1"
      }
    },
    {
      "cell_type": "code",
      "source": [
        "from sklearn.model_selection import GridSearchCV\n",
        "from sklearn.discriminant_analysis import QuadraticDiscriminantAnalysis\n",
        "\n",
        "# Define the parameter grid to search\n",
        "param_grid = {\n",
        "    'reg_param': [0.1, 0.01, 0.001, 0.0001]  # Regularization parameter to avoid singular matrices\n",
        "}\n",
        "\n",
        "# Create a Quadratic Discriminant Analysis classifier\n",
        "QDA_classifier = QuadraticDiscriminantAnalysis()\n",
        "\n",
        "# Instantiate GridSearchCV with the classifier, parameter grid, and cross-validation strategy\n",
        "grid_search = GridSearchCV(estimator=QDA_classifier, param_grid=param_grid, cv=5, n_jobs=-1)\n",
        "\n",
        "# Perform the grid search on the training data\n",
        "grid_search.fit(X_train_resampled, y_train_resampled)\n",
        "\n",
        "# Print the best hyperparameters and corresponding accuracy score\n",
        "print(\"Best Hyperparameters: \", grid_search.best_params_)\n",
        "print(\"Best Accuracy Score: \", grid_search.best_score_)"
      ],
      "metadata": {
        "id": "52pGpwJEXoB1"
      },
      "execution_count": null,
      "outputs": []
    },
    {
      "cell_type": "markdown",
      "source": [
        "## Train QDA"
      ],
      "metadata": {
        "id": "zQMD4SfFXoB1"
      }
    },
    {
      "cell_type": "code",
      "source": [
        "from sklearn.model_selection import GridSearchCV\n",
        "from sklearn.discriminant_analysis import QuadraticDiscriminantAnalysis\n",
        "QDA_classifier = QuadraticDiscriminantAnalysis(reg_param = 0.1)\n",
        "QDA_classifier.fit(X_train_resampled, y_train_resampled)"
      ],
      "metadata": {
        "id": "ZYQYAnYSXoB1"
      },
      "execution_count": null,
      "outputs": []
    },
    {
      "cell_type": "code",
      "source": [
        "# Predict the class labels of samples in the test dataset\n",
        "y_pred_QDA = QDA_classifier.predict(X_test)"
      ],
      "metadata": {
        "id": "ptk8_vC1XoB1"
      },
      "execution_count": null,
      "outputs": []
    },
    {
      "cell_type": "code",
      "source": [
        "score_test = accuracy_score(y_test, y_pred_QDA)\n",
        "print (score_test)"
      ],
      "metadata": {
        "id": "gsc0EiuJXoB2"
      },
      "execution_count": null,
      "outputs": []
    },
    {
      "cell_type": "code",
      "source": [
        "precision_test = precision_score(y_test, y_pred_QDA, average='macro')\n",
        "print (precision_test)"
      ],
      "metadata": {
        "id": "rnBtmeyNXoB2"
      },
      "execution_count": null,
      "outputs": []
    },
    {
      "cell_type": "code",
      "source": [
        "recall_test = recall_score(y_test, y_pred_QDA, average='macro')\n",
        "print (recall_test)"
      ],
      "metadata": {
        "id": "NBxQ9N6_XoB2"
      },
      "execution_count": null,
      "outputs": []
    },
    {
      "cell_type": "code",
      "source": [
        "f1_test =  f1_score(y_test, y_pred_QDA, average='macro')\n",
        "print(f1_test)"
      ],
      "metadata": {
        "id": "05OeC8tSXoB2"
      },
      "execution_count": null,
      "outputs": []
    },
    {
      "cell_type": "code",
      "source": [
        "mat = confusion_matrix(y_test, y_pred_QDA)\n",
        "class_names = [\"Not Expired\", \"Expired\"]\n",
        "plt.figure(figsize=(8, 6))\n",
        "sns.heatmap(mat, annot=True, fmt=\"d\", cmap=\"Blues\", xticklabels=class_names, yticklabels=class_names)\n",
        "plt.xlabel(\"Predicted Labels\")\n",
        "plt.ylabel(\"True Labels\")\n",
        "plt.title(\"Confusion Matrix (QDA)\")\n",
        "plt.show()"
      ],
      "metadata": {
        "id": "bc2ijErDXoB2"
      },
      "execution_count": null,
      "outputs": []
    },
    {
      "cell_type": "code",
      "source": [
        "report = classification_report(y_test, y_pred_QDA)\n",
        "print(report)"
      ],
      "metadata": {
        "id": "m6gwPwd4XoB2"
      },
      "execution_count": null,
      "outputs": []
    },
    {
      "cell_type": "markdown",
      "source": [
        "## ROC Curve"
      ],
      "metadata": {
        "id": "595ciJQiXoB2"
      }
    },
    {
      "cell_type": "code",
      "source": [
        "from sklearn.metrics import roc_curve, roc_auc_score\n",
        "\n",
        "# Get the probabilities of each class.\n",
        "y_probs = QDA_classifier.predict_proba(X_test)\n",
        "\n",
        "# The 'positive' class value is 1, so we want the probabilities of the class being 1.\n",
        "# i.e., the second column of the array.\n",
        "y_probs_class_1 = y_probs[:,1]\n",
        "\n",
        "auc = roc_auc_score(y_test, y_probs_class_1)\n",
        "print('The AUC is {:.3f}'.format(auc)) # uses string formatting to get 3 decimal places.\n",
        "\n",
        "fpr, tpr, thresholds = roc_curve(y_test, y_probs_class_1, pos_label=1)\n",
        "\n",
        "print(\"Threshold\\tTPR vs FPR\")\n",
        "for f, p, t in zip(fpr, tpr, thresholds):\n",
        "    print(\"{:.3f}\\t{:.3f} vs {:.3f}\".format(t, p, f))\n",
        "\n",
        "# Here is some code to plot the ROC curve.\n",
        "# Follows the example at https://scikit-learn.org/stable/auto_examples/model_selection/plot_roc.html#sphx-glr-auto-examples-model-selection-plot-roc-py\n",
        "\n",
        "import matplotlib.pyplot as plt\n",
        "plt.figure()\n",
        "lw = 2 # the line width\n",
        "plt.plot(fpr, tpr, color='darkorange',\n",
        "         lw=lw, label='ROC curve (area = %0.2f)' % auc)\n",
        "plt.plot([0, 1], [0, 1], color='navy', lw=lw, linestyle='--') # The dashed line for random choice\n",
        "plt.xlim([0.0, 1.0])\n",
        "plt.ylim([0.0, 1.05])\n",
        "plt.xlabel('False Positive Rate')\n",
        "plt.ylabel('True Positive Rate')\n",
        "plt.title('Receiver Operating Characteristic (QDA)')\n",
        "plt.legend(loc=\"lower right\")\n",
        "plt.show()"
      ],
      "metadata": {
        "id": "L1_H7L3JXoB2"
      },
      "execution_count": null,
      "outputs": []
    },
    {
      "cell_type": "code",
      "source": [
        "from sklearn.metrics import roc_curve, roc_auc_score\n",
        "import matplotlib.pyplot as plt\n",
        "\n",
        "# Get the probabilities of each class.\n",
        "y_probs = QDA_classifier.predict_proba(X_test)\n",
        "\n",
        "# Initialize lists to store TPR and FPR for each class\n",
        "tpr_list = []\n",
        "fpr_list = []\n",
        "\n",
        "# Convert multi-class labels to binary labels for each class and calculate ROC curves\n",
        "for pos in range(2):\n",
        "    binary_labels = (y_test == pos).astype(int)\n",
        "    fpr, tpr, thresholds = roc_curve(binary_labels, y_probs[:, pos], pos_label=1)\n",
        "    auc = roc_auc_score(binary_labels, y_probs[:, pos])\n",
        "\n",
        "    # Store TPR and FPR for plotting\n",
        "    tpr_list.append(tpr)\n",
        "    fpr_list.append(fpr)\n",
        "\n",
        "# Plot ROC curves for all classes on the same graph\n",
        "plt.figure()\n",
        "lw = 2\n",
        "colors = ['darkorange', 'green']\n",
        "labels = ['Class 0', 'Class 1']\n",
        "\n",
        "for i in range(len(tpr_list)):\n",
        "    plt.plot(fpr_list[i], tpr_list[i], color=colors[i], lw=lw, label='ROC curve - %s' % (labels[i]))\n",
        "\n",
        "plt.plot([0, 1], [0, 1], color='navy', lw=lw, linestyle='--')\n",
        "plt.xlim([0.0, 1.0])\n",
        "plt.ylim([0.0, 1.05])\n",
        "plt.xlabel('False Positive Rate')\n",
        "plt.ylabel('True Positive Rate')\n",
        "plt.title('Receiver Operating Characteristic (QDA)')\n",
        "plt.legend(loc=\"lower right\")\n",
        "plt.show()"
      ],
      "metadata": {
        "id": "urIqawKRXoB2"
      },
      "execution_count": null,
      "outputs": []
    },
    {
      "cell_type": "markdown",
      "source": [
        "## Measuring performance on small unseen set"
      ],
      "metadata": {
        "id": "RpH-gpsbXoB2"
      }
    },
    {
      "cell_type": "code",
      "source": [
        "solution_validate = QDA_classifier.predict(future_sample_X)"
      ],
      "metadata": {
        "id": "wKyau-MIXoB3"
      },
      "execution_count": null,
      "outputs": []
    },
    {
      "cell_type": "code",
      "source": [
        "score_validate = accuracy_score(future_sample_y, solution_validate)\n",
        "print (score_validate)"
      ],
      "metadata": {
        "id": "6W17TMDeXoB3"
      },
      "execution_count": null,
      "outputs": []
    },
    {
      "cell_type": "markdown",
      "source": [
        "# MLP Classifier"
      ],
      "metadata": {
        "id": "VXW1AWOld6wj"
      }
    },
    {
      "cell_type": "markdown",
      "source": [
        "## Hyper parameter optimisation"
      ],
      "metadata": {
        "id": "T83sbf_eeeP2"
      }
    },
    {
      "cell_type": "code",
      "source": [
        "from sklearn.model_selection import GridSearchCV\n",
        "from sklearn.neural_network import MLPClassifier\n",
        "\n",
        "# Define the parameter grid to search\n",
        "param_grid = {\n",
        "    'hidden_layer_sizes': [(5, 2), (10, 5), (20, 10)],  # Different combinations of hidden layer sizes\n",
        "    'alpha': [1e-5, 1e-4, 1e-3],  # Regularization parameter\n",
        "    'solver': ['lbfgs', 'sgd', 'adam']  # Optimization algorithm\n",
        "}\n",
        "\n",
        "# Create an MLPClassifier\n",
        "MLP_classifier = MLPClassifier(random_state=1)\n",
        "\n",
        "# Instantiate GridSearchCV with the classifier, parameter grid, and cross-validation strategy\n",
        "grid_search = GridSearchCV(estimator=MLP_classifier, param_grid=param_grid, cv=5, n_jobs=-1)\n",
        "\n",
        "# Perform the grid search on the training data\n",
        "grid_search.fit(X_train_resampled, y_train_resampled)\n",
        "\n",
        "# Print the best hyperparameters and corresponding accuracy score\n",
        "print(\"Best Hyperparameters: \", grid_search.best_params_)\n",
        "print(\"Best Accuracy Score: \", grid_search.best_score_)"
      ],
      "metadata": {
        "id": "AoA0zHMbec3m"
      },
      "execution_count": null,
      "outputs": []
    },
    {
      "cell_type": "markdown",
      "source": [
        "## Training"
      ],
      "metadata": {
        "id": "z4pwiyDselOe"
      }
    },
    {
      "cell_type": "code",
      "source": [
        "from sklearn.neural_network import MLPClassifier\n",
        "MLP_classifier = MLPClassifier(solver='adam', alpha= 0.001, hidden_layer_sizes=(400, 200), random_state=1)\n",
        "MLP_classifier.fit(X_train_resampled, y_train_resampled)"
      ],
      "metadata": {
        "id": "8gw7uEx7d918"
      },
      "execution_count": null,
      "outputs": []
    },
    {
      "cell_type": "code",
      "source": [
        "# Predict the class labels of samples in the test dataset\n",
        "y_pred_MLP = MLP_classifier.predict(X_test)"
      ],
      "metadata": {
        "id": "gNkuXMOmjYut"
      },
      "execution_count": null,
      "outputs": []
    },
    {
      "cell_type": "code",
      "source": [
        "score_test = accuracy_score(y_test, y_pred_MLP)\n",
        "print (score_test)"
      ],
      "metadata": {
        "id": "n1-ABi6MjYut"
      },
      "execution_count": null,
      "outputs": []
    },
    {
      "cell_type": "code",
      "source": [
        "precision_test = precision_score(y_test, y_pred_MLP, average='macro')\n",
        "print (precision_test)"
      ],
      "metadata": {
        "id": "WOwgEzzZjYut"
      },
      "execution_count": null,
      "outputs": []
    },
    {
      "cell_type": "code",
      "source": [
        "recall_test = recall_score(y_test, y_pred_MLP, average='macro')\n",
        "print (recall_test)"
      ],
      "metadata": {
        "id": "TKBIa0gQjYut"
      },
      "execution_count": null,
      "outputs": []
    },
    {
      "cell_type": "code",
      "source": [
        "f1_test =  f1_score(y_test, y_pred_MLP, average='macro')\n",
        "print(f1_test)"
      ],
      "metadata": {
        "id": "9rocd7kkjYut"
      },
      "execution_count": null,
      "outputs": []
    },
    {
      "cell_type": "code",
      "source": [
        "mat = confusion_matrix(y_test, y_pred_MLP)\n",
        "class_names = [\"Not Expired\", \"Expired\"]\n",
        "plt.figure(figsize=(8, 6))\n",
        "sns.heatmap(mat, annot=True, fmt=\"d\", cmap=\"Blues\", xticklabels=class_names, yticklabels=class_names)\n",
        "plt.xlabel(\"Predicted Labels\")\n",
        "plt.ylabel(\"True Labels\")\n",
        "plt.title(\"Confusion Matrix (MLP)\")\n",
        "plt.show()"
      ],
      "metadata": {
        "id": "Z0p-KVYNjYuu"
      },
      "execution_count": null,
      "outputs": []
    },
    {
      "cell_type": "code",
      "source": [
        "report = classification_report(y_test, y_pred_MLP)\n",
        "print(report)"
      ],
      "metadata": {
        "id": "Ea8riJ-UjYuu"
      },
      "execution_count": null,
      "outputs": []
    },
    {
      "cell_type": "code",
      "source": [
        "from sklearn.metrics import roc_curve, roc_auc_score\n",
        "\n",
        "# Get the probabilities of each class.\n",
        "y_probs = MLP_classifier.predict_proba(X_test)\n",
        "\n",
        "# The 'positive' class value is 1, so we want the probabilities of the class being 1.\n",
        "# i.e., the second column of the array.\n",
        "y_probs_class_1 = y_probs[:,1]\n",
        "\n",
        "auc = roc_auc_score(y_test, y_probs_class_1)\n",
        "print('The AUC is {:.3f}'.format(auc)) # uses string formatting to get 3 decimal places.\n",
        "\n",
        "fpr, tpr, thresholds = roc_curve(y_test, y_probs_class_1, pos_label=1)\n",
        "\n",
        "print(\"Threshold\\tTPR vs FPR\")\n",
        "for f, p, t in zip(fpr, tpr, thresholds):\n",
        "    print(\"{:.3f}\\t{:.3f} vs {:.3f}\".format(t, p, f))\n",
        "\n",
        "# Here is some code to plot the ROC curve.\n",
        "# Follows the example at https://scikit-learn.org/stable/auto_examples/model_selection/plot_roc.html#sphx-glr-auto-examples-model-selection-plot-roc-py\n",
        "\n",
        "import matplotlib.pyplot as plt\n",
        "plt.figure()\n",
        "lw = 2 # the line width\n",
        "plt.plot(fpr, tpr, color='darkorange',\n",
        "         lw=lw, label='ROC curve (area = %0.2f)' % auc)\n",
        "plt.plot([0, 1], [0, 1], color='navy', lw=lw, linestyle='--') # The dashed line for random choice\n",
        "plt.xlim([0.0, 1.0])\n",
        "plt.ylim([0.0, 1.05])\n",
        "plt.xlabel('False Positive Rate')\n",
        "plt.ylabel('True Positive Rate')\n",
        "plt.title('Receiver Operating Characteristic (MLP)')\n",
        "plt.legend(loc=\"lower right\")\n",
        "plt.show()"
      ],
      "metadata": {
        "id": "7fkZNPj9jYuu"
      },
      "execution_count": null,
      "outputs": []
    },
    {
      "cell_type": "code",
      "source": [
        "from sklearn.metrics import roc_curve, roc_auc_score\n",
        "import matplotlib.pyplot as plt\n",
        "\n",
        "# Get the probabilities of each class.\n",
        "y_probs = MLP_classifier.predict_proba(X_test)\n",
        "\n",
        "# Initialize lists to store TPR and FPR for each class\n",
        "tpr_list = []\n",
        "fpr_list = []\n",
        "\n",
        "# Convert multi-class labels to binary labels for each class and calculate ROC curves\n",
        "for pos in range(2):\n",
        "    binary_labels = (y_test == pos).astype(int)\n",
        "    fpr, tpr, thresholds = roc_curve(binary_labels, y_probs[:, pos], pos_label=1)\n",
        "    auc = roc_auc_score(binary_labels, y_probs[:, pos])\n",
        "\n",
        "    # Store TPR and FPR for plotting\n",
        "    tpr_list.append(tpr)\n",
        "    fpr_list.append(fpr)\n",
        "\n",
        "# Plot ROC curves for all classes on the same graph\n",
        "plt.figure()\n",
        "lw = 2\n",
        "colors = ['darkorange', 'green']\n",
        "labels = ['Class 0', 'Class 1']\n",
        "\n",
        "for i in range(len(tpr_list)):\n",
        "    plt.plot(fpr_list[i], tpr_list[i], color=colors[i], lw=lw, label='ROC curve - %s' % (labels[i]))\n",
        "\n",
        "plt.plot([0, 1], [0, 1], color='navy', lw=lw, linestyle='--')\n",
        "plt.xlim([0.0, 1.0])\n",
        "plt.ylim([0.0, 1.05])\n",
        "plt.xlabel('False Positive Rate')\n",
        "plt.ylabel('True Positive Rate')\n",
        "plt.title('Receiver Operating Characteristic (MLP)')\n",
        "plt.legend(loc=\"lower right\")\n",
        "plt.show()"
      ],
      "metadata": {
        "id": "_76OHEKVjYuu"
      },
      "execution_count": null,
      "outputs": []
    },
    {
      "cell_type": "markdown",
      "source": [
        "## Measuring performance on small unseen set"
      ],
      "metadata": {
        "id": "HhSeA8xVjYuu"
      }
    },
    {
      "cell_type": "code",
      "source": [
        "solution_validate = MLP_classifier.predict(future_sample_X)"
      ],
      "metadata": {
        "id": "k3DrfeD_jYuu"
      },
      "execution_count": null,
      "outputs": []
    },
    {
      "cell_type": "code",
      "source": [
        "score_validate = accuracy_score(future_sample_y, solution_validate)\n",
        "print (score_validate)"
      ],
      "metadata": {
        "id": "iIy3X3rVjYuu"
      },
      "execution_count": null,
      "outputs": []
    },
    {
      "cell_type": "markdown",
      "source": [
        "# Run Classifiers"
      ],
      "metadata": {
        "id": "5OqRtmoGa5Ah"
      }
    },
    {
      "cell_type": "code",
      "source": [
        "# # DT\n",
        "# DT_predictions = DT_classifier.predict(testing_data_set)\n",
        "# DT_predictions_df = pd.DataFrame({'Predicted-ExpiredHospital': DT_predictions})\n",
        "\n",
        "# # kNN\n",
        "# KNN_predictions = KNN_classifier.predict(testing_data_set)\n",
        "# KNN_predictions_df = pd.DataFrame({'Predicted-ExpiredHospital': KNN_predictions})\n",
        "\n",
        "# RF\n",
        "RF_predictions = RF_classifier.predict(testing_data_set_fs)\n",
        "RF_predictions_df = pd.DataFrame({'Predicted-ExpiredHospital': RF_predictions})\n",
        "\n",
        "# # # SVM\n",
        "# SVM_predictions = SVM_classifier.predict(testing_data_set)\n",
        "# SVM_predictions_df = pd.DataFrame({'Predicted-ExpiredHospital': SVM_predictions})"
      ],
      "metadata": {
        "id": "SG6xCpxXa2aZ"
      },
      "execution_count": null,
      "outputs": []
    },
    {
      "cell_type": "code",
      "source": [
        "# FNN\n",
        "FNN_predictions = loaded_model.predict(testing_data_set)\n",
        "FNN_predictions_flat = np.array(FNN_predictions).flatten()\n",
        "\n",
        "# Apply threshold to convert probabilities to binary predictions\n",
        "threshold = 0.5\n",
        "binary_predictions = (FNN_predictions_flat > threshold).astype(int)\n",
        "\n",
        "# Create a dataframe for binary predictions\n",
        "FNN_predictions_df = pd.DataFrame({'Predicted-ExpiredHospital': binary_predictions})"
      ],
      "metadata": {
        "id": "mPwR8MkAdmnB"
      },
      "execution_count": null,
      "outputs": []
    },
    {
      "cell_type": "code",
      "source": [
        "DT_predictions_df"
      ],
      "metadata": {
        "id": "HHuA9he8dNbB"
      },
      "execution_count": null,
      "outputs": []
    },
    {
      "cell_type": "code",
      "source": [
        "DT_predictions_df['row ID'] = ['Row' + str(i) for i in range(len(DT_predictions_df))]\n",
        "DT_predictions_df = DT_predictions_df[['row ID', 'Predicted-ExpiredHospital']]\n",
        "DT_predictions_df"
      ],
      "metadata": {
        "id": "cDPlqgSWfhcQ"
      },
      "execution_count": null,
      "outputs": []
    },
    {
      "cell_type": "code",
      "source": [
        "KNN_predictions_df['row ID'] = ['Row' + str(i) for i in range(len(KNN_predictions_df))]\n",
        "KNN_predictions_df = KNN_predictions_df[['row ID', 'Predicted-ExpiredHospital']]\n",
        "KNN_predictions_df"
      ],
      "metadata": {
        "id": "SEiZ8rRBdO5I"
      },
      "execution_count": null,
      "outputs": []
    },
    {
      "cell_type": "code",
      "source": [
        "RF_predictions_df['row ID'] = ['Row' + str(i) for i in range(len(RF_predictions_df))]\n",
        "RF_predictions_df = RF_predictions_df[['row ID', 'Predicted-ExpiredHospital']]\n",
        "RF_predictions_df"
      ],
      "metadata": {
        "id": "XU5K_z5idP0h"
      },
      "execution_count": null,
      "outputs": []
    },
    {
      "cell_type": "code",
      "source": [
        "SVM_predictions_df['row ID'] = ['Row' + str(i) for i in range(len(SVM_predictions_df))]\n",
        "SVM_predictions_df = SVM_predictions_df[['row ID', 'Predicted-ExpiredHospital']]\n",
        "SVM_predictions_df"
      ],
      "metadata": {
        "id": "ieXOkhnbdQxI"
      },
      "execution_count": null,
      "outputs": []
    },
    {
      "cell_type": "code",
      "source": [
        "FNN_predictions_df['row ID'] = ['Row' + str(i) for i in range(len(FNN_predictions_df))]\n",
        "FNN_predictions_df = FNN_predictions_df[['row ID', 'Predicted-ExpiredHospital']]\n",
        "FNN_predictions_df"
      ],
      "metadata": {
        "id": "TgMgbd9mdRyJ"
      },
      "execution_count": null,
      "outputs": []
    },
    {
      "cell_type": "markdown",
      "source": [
        "## Turn Prediction Dataframes into CSV files"
      ],
      "metadata": {
        "id": "hYp5OWByg7x5"
      }
    },
    {
      "cell_type": "code",
      "source": [
        "# DT_predictions_df.to_csv('DT.csv', index=False)\n",
        "# KNN_predictions_df.to_csv('KNN.csv', index=False)\n",
        "RF_predictions_df.to_csv('RF.csv', index=False)\n",
        "# SVM_predictions_df.to_csv('SVM.csv', index=False)\n",
        "# FNN_predictions_df.to_csv('FNN.csv', index=False)"
      ],
      "metadata": {
        "id": "aaM98bRThLwH"
      },
      "execution_count": null,
      "outputs": []
    }
  ]
}